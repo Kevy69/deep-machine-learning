{
 "cells": [
  {
   "cell_type": "markdown",
   "metadata": {},
   "source": [
    "# Flower Recognition"
   ]
  },
  {
   "cell_type": "code",
   "execution_count": 12,
   "metadata": {},
   "outputs": [],
   "source": [
    "from os import listdir\n",
    "import numpy as np\n",
    "from PIL import Image\n"
   ]
  },
  {
   "cell_type": "code",
   "execution_count": 51,
   "metadata": {},
   "outputs": [],
   "source": [
    "data_dir = 'flowers/'\n",
    "flower_file_names = listdir('flowers')"
   ]
  },
  {
   "cell_type": "markdown",
   "metadata": {},
   "source": [
    "##### Misc data exploration"
   ]
  },
  {
   "cell_type": "code",
   "execution_count": 52,
   "metadata": {},
   "outputs": [
    {
     "name": "stdout",
     "output_type": "stream",
     "text": [
      "min image reslution: 80x134\n"
     ]
    }
   ],
   "source": [
    "# In order to identically scale the images, it's best we know the minimum resolution\n",
    "\n",
    "min_image_width = 10000\n",
    "min_image_heigth = 10000\n",
    "\n",
    "for i in flower_file_names:\n",
    "    image = Image.open(data_dir + i)\n",
    "    \n",
    "    if image.height < min_image_width:\n",
    "        min_image_width = image.height\n",
    "        \n",
    "    if image.height < min_image_heigth:\n",
    "        min_image_heigth = image.width\n",
    "\n",
    "print(f'min image reslution: {min_image_width}x{min_image_heigth}')"
   ]
  },
  {
   "cell_type": "code",
   "execution_count": 50,
   "metadata": {},
   "outputs": [
    {
     "data": {
      "image/jpeg": "[encoded data removed]",
      "image/png": "[encoded data removed]",
      "text/plain": [
       "<PIL.Image.Image image mode=RGB size=64x64>"
      ]
     },
     "execution_count": 50,
     "metadata": {},
     "output_type": "execute_result"
    }
   ],
   "source": [
    "# TESTING\n",
    "\n",
    "image = Image.open('flowers/daisy (1).jpg')\n",
    "image.resize((64, 64))"
   ]
  },
  {
   "cell_type": "markdown",
   "metadata": {},
   "source": [
    "##### Load and format the data in an understandable and standardized way"
   ]
  },
  {
   "cell_type": "code",
   "execution_count": 75,
   "metadata": {},
   "outputs": [
    {
     "name": "stdout",
     "output_type": "stream",
     "text": [
      "Loading 0/4317\n",
      "Loading 1/4317\n",
      "Loading 2/4317\n",
      "Loading 3/4317\n",
      "Loading 4/4317\n",
      "Loading 5/4317\n",
      "Loading 6/4317\n",
      "Loading 7/4317\n",
      "Loading 8/4317\n",
      "Loading 9/4317\n",
      "Loading 10/4317\n"
     ]
    },
    {
     "data": {
      "text/plain": [
       "(11, 64, 64, 3)"
      ]
     },
     "execution_count": 75,
     "metadata": {},
     "output_type": "execute_result"
    }
   ],
   "source": [
    "x = []\n",
    "y = []\n",
    "\n",
    "i = 0\n",
    "\n",
    "for file_count, flower_file_name in enumerate(flower_file_names):\n",
    "    #print(f'Loading {file_count}/{len(flower_file_names)}')\n",
    "    \n",
    "    image = Image.open(data_dir + flower_file_name)\n",
    "    \n",
    "    # Doing basic scaling, as it'll do for the task at hand.\n",
    "    image = image.resize((64, 64))\n",
    "    \n",
    "    x.append(np.array(image))\n",
    "    \n",
    "    print(flower_file_name)\n",
    "    \n",
    "    #if flower_file_name:\n",
    "    \n",
    "    if i >= 10:\n",
    "        break\n",
    "    \n",
    "    i += 1\n",
    "    \n",
    "    \n",
    "x = np.array(x)\n",
    "\n",
    "np.shape(x)\n",
    "    "
   ]
  },
  {
   "cell_type": "code",
   "execution_count": 10,
   "metadata": {},
   "outputs": [
    {
     "name": "stdout",
     "output_type": "stream",
     "text": [
      "(500, 332)\n",
      "(332, 500, 3)\n"
     ]
    },
    {
     "data": {
      "text/plain": [
       "array([[35, 47, 63],\n",
       "       [36, 48, 64],\n",
       "       [36, 48, 64],\n",
       "       ...,\n",
       "       [46, 29, 21],\n",
       "       [47, 30, 22],\n",
       "       [48, 29, 22]], dtype=uint8)"
      ]
     },
     "execution_count": 10,
     "metadata": {},
     "output_type": "execute_result"
    }
   ],
   "source": [
    "# problems\n",
    "# diff scale\n",
    "# ground truth correct order\n",
    "\n",
    "image = Image.open('testing/daisy (4).jpg')\n",
    "\n",
    "print(image.size)\n",
    "\n",
    "test = np.asarray(image)\n",
    "print(np.shape(test))\n",
    "\n"
   ]
  }
 ],
 "metadata": {
  "kernelspec": {
   "display_name": "Python 3 (ipykernel)",
   "language": "python",
   "name": "python3"
  },
  "language_info": {
   "codemirror_mode": {
    "name": "ipython",
    "version": 3
   },
   "file_extension": ".py",
   "mimetype": "text/x-python",
   "name": "python",
   "nbconvert_exporter": "python",
   "pygments_lexer": "ipython3",
   "version": "3.8.10"
  }
 },
 "nbformat": 4,
 "nbformat_minor": 5
}
