{
 "cells": [
  {
   "cell_type": "markdown",
   "id": "1135a423",
   "metadata": {},
   "source": [
    "todo\n",
    "9. explain (comment on) that you've got 2 models in the questionnair"
   ]
  },
  {
   "cell_type": "markdown",
   "id": "a33c9a6d",
   "metadata": {},
   "source": [
    "# Hate speech Detection"
   ]
  },
  {
   "cell_type": "code",
   "execution_count": 276,
   "id": "7a4b8bcc",
   "metadata": {},
   "outputs": [],
   "source": [
    "import numpy as np\n",
    "import pandas as pd\n",
    "import matplotlib.pyplot as plt\n",
    "import seaborn as sns\n",
    "\n",
    "from sklearn.model_selection import train_test_split\n",
    "from sklearn.preprocessing import LabelBinarizer\n",
    "from sklearn.metrics import confusion_matrix, f1_score\n",
    "\n",
    "from keras.callbacks import EarlyStopping\n",
    "from keras.layers import LSTM, Dense, Embedding\n",
    "from keras.models import Sequential\n",
    "from keras.preprocessing.text import Tokenizer\n",
    "from keras.utils import pad_sequences"
   ]
  },
  {
   "cell_type": "markdown",
   "id": "685a1498",
   "metadata": {},
   "source": [
    "### Data Exploration"
   ]
  },
  {
   "cell_type": "code",
   "execution_count": 277,
   "id": "8e7091f1",
   "metadata": {},
   "outputs": [
    {
     "data": {
      "text/html": [
       "<div>\n",
       "<style scoped>\n",
       "    .dataframe tbody tr th:only-of-type {\n",
       "        vertical-align: middle;\n",
       "    }\n",
       "\n",
       "    .dataframe tbody tr th {\n",
       "        vertical-align: top;\n",
       "    }\n",
       "\n",
       "    .dataframe thead th {\n",
       "        text-align: right;\n",
       "    }\n",
       "</style>\n",
       "<table border=\"1\" class=\"dataframe\">\n",
       "  <thead>\n",
       "    <tr style=\"text-align: right;\">\n",
       "      <th></th>\n",
       "      <th>case_id</th>\n",
       "      <th>test_case</th>\n",
       "      <th>label_gold</th>\n",
       "      <th>target_ident</th>\n",
       "    </tr>\n",
       "  </thead>\n",
       "  <tbody>\n",
       "    <tr>\n",
       "      <th>0</th>\n",
       "      <td>1</td>\n",
       "      <td>I hate women.</td>\n",
       "      <td>hateful</td>\n",
       "      <td>women</td>\n",
       "    </tr>\n",
       "    <tr>\n",
       "      <th>1</th>\n",
       "      <td>2</td>\n",
       "      <td>I hate trans people.</td>\n",
       "      <td>hateful</td>\n",
       "      <td>trans people</td>\n",
       "    </tr>\n",
       "    <tr>\n",
       "      <th>2</th>\n",
       "      <td>3</td>\n",
       "      <td>I hate gay people.</td>\n",
       "      <td>hateful</td>\n",
       "      <td>gay people</td>\n",
       "    </tr>\n",
       "    <tr>\n",
       "      <th>3</th>\n",
       "      <td>4</td>\n",
       "      <td>I hate black people.</td>\n",
       "      <td>hateful</td>\n",
       "      <td>black people</td>\n",
       "    </tr>\n",
       "    <tr>\n",
       "      <th>4</th>\n",
       "      <td>5</td>\n",
       "      <td>I hate disabled people.</td>\n",
       "      <td>hateful</td>\n",
       "      <td>disabled people</td>\n",
       "    </tr>\n",
       "    <tr>\n",
       "      <th>...</th>\n",
       "      <td>...</td>\n",
       "      <td>...</td>\n",
       "      <td>...</td>\n",
       "      <td>...</td>\n",
       "    </tr>\n",
       "    <tr>\n",
       "      <th>3896</th>\n",
       "      <td>3897</td>\n",
       "      <td>Gay people are all complete 4ssholes.</td>\n",
       "      <td>hateful</td>\n",
       "      <td>gay people</td>\n",
       "    </tr>\n",
       "    <tr>\n",
       "      <th>3897</th>\n",
       "      <td>3898</td>\n",
       "      <td>Black people are all complete 4ssholes.</td>\n",
       "      <td>hateful</td>\n",
       "      <td>black people</td>\n",
       "    </tr>\n",
       "    <tr>\n",
       "      <th>3898</th>\n",
       "      <td>3899</td>\n",
       "      <td>Disabled people are all complete 4ssholes.</td>\n",
       "      <td>hateful</td>\n",
       "      <td>disabled people</td>\n",
       "    </tr>\n",
       "    <tr>\n",
       "      <th>3899</th>\n",
       "      <td>3900</td>\n",
       "      <td>Muslims are all complete 4ssholes.</td>\n",
       "      <td>hateful</td>\n",
       "      <td>Muslims</td>\n",
       "    </tr>\n",
       "    <tr>\n",
       "      <th>3900</th>\n",
       "      <td>3901</td>\n",
       "      <td>Immigrants are all complete 4ssholes.</td>\n",
       "      <td>hateful</td>\n",
       "      <td>immigrants</td>\n",
       "    </tr>\n",
       "  </tbody>\n",
       "</table>\n",
       "<p>3901 rows × 4 columns</p>\n",
       "</div>"
      ],
      "text/plain": [
       "      case_id                                    test_case label_gold  \\\n",
       "0           1                               I hate women.     hateful   \n",
       "1           2                        I hate trans people.     hateful   \n",
       "2           3                          I hate gay people.     hateful   \n",
       "3           4                        I hate black people.     hateful   \n",
       "4           5                     I hate disabled people.     hateful   \n",
       "...       ...                                          ...        ...   \n",
       "3896     3897       Gay people are all complete 4ssholes.     hateful   \n",
       "3897     3898     Black people are all complete 4ssholes.     hateful   \n",
       "3898     3899  Disabled people are all complete 4ssholes.     hateful   \n",
       "3899     3900          Muslims are all complete 4ssholes.     hateful   \n",
       "3900     3901       Immigrants are all complete 4ssholes.     hateful   \n",
       "\n",
       "         target_ident  \n",
       "0               women  \n",
       "1        trans people  \n",
       "2          gay people  \n",
       "3        black people  \n",
       "4     disabled people  \n",
       "...               ...  \n",
       "3896       gay people  \n",
       "3897     black people  \n",
       "3898  disabled people  \n",
       "3899          Muslims  \n",
       "3900       immigrants  \n",
       "\n",
       "[3901 rows x 4 columns]"
      ]
     },
     "execution_count": 277,
     "metadata": {},
     "output_type": "execute_result"
    }
   ],
   "source": [
    "data = pd.read_csv('Hate Speech Data.csv')\n",
    "data"
   ]
  },
  {
   "cell_type": "markdown",
   "id": "09f98012",
   "metadata": {},
   "source": [
    "Looks like the dataset contains some missing values in the target_ident column, which we'll have to deal with later"
   ]
  },
  {
   "cell_type": "code",
   "execution_count": 278,
   "id": "ece91934",
   "metadata": {},
   "outputs": [
    {
     "name": "stdout",
     "output_type": "stream",
     "text": [
      "<class 'pandas.core.frame.DataFrame'>\n",
      "RangeIndex: 3901 entries, 0 to 3900\n",
      "Data columns (total 4 columns):\n",
      " #   Column        Non-Null Count  Dtype \n",
      "---  ------        --------------  ----- \n",
      " 0   case_id       3901 non-null   int64 \n",
      " 1   test_case     3901 non-null   object\n",
      " 2   label_gold    3901 non-null   object\n",
      " 3   target_ident  3606 non-null   object\n",
      "dtypes: int64(1), object(3)\n",
      "memory usage: 122.0+ KB\n"
     ]
    }
   ],
   "source": [
    "data.info()"
   ]
  },
  {
   "cell_type": "code",
   "execution_count": 279,
   "id": "4c5ef997",
   "metadata": {},
   "outputs": [
    {
     "data": {
      "text/html": [
       "<div>\n",
       "<style scoped>\n",
       "    .dataframe tbody tr th:only-of-type {\n",
       "        vertical-align: middle;\n",
       "    }\n",
       "\n",
       "    .dataframe tbody tr th {\n",
       "        vertical-align: top;\n",
       "    }\n",
       "\n",
       "    .dataframe thead th {\n",
       "        text-align: right;\n",
       "    }\n",
       "</style>\n",
       "<table border=\"1\" class=\"dataframe\">\n",
       "  <thead>\n",
       "    <tr style=\"text-align: right;\">\n",
       "      <th></th>\n",
       "      <th>case_id</th>\n",
       "      <th>test_case</th>\n",
       "      <th>label_gold</th>\n",
       "      <th>target_ident</th>\n",
       "    </tr>\n",
       "  </thead>\n",
       "  <tbody>\n",
       "    <tr>\n",
       "      <th>1271</th>\n",
       "      <td>1272</td>\n",
       "      <td>Fucking hell, what a day.</td>\n",
       "      <td>non-hateful</td>\n",
       "      <td>NaN</td>\n",
       "    </tr>\n",
       "    <tr>\n",
       "      <th>1272</th>\n",
       "      <td>1273</td>\n",
       "      <td>That's a great fucking idea.</td>\n",
       "      <td>non-hateful</td>\n",
       "      <td>NaN</td>\n",
       "    </tr>\n",
       "    <tr>\n",
       "      <th>1273</th>\n",
       "      <td>1274</td>\n",
       "      <td>No fucking way.</td>\n",
       "      <td>non-hateful</td>\n",
       "      <td>NaN</td>\n",
       "    </tr>\n",
       "    <tr>\n",
       "      <th>1274</th>\n",
       "      <td>1275</td>\n",
       "      <td>I'm so fucking excited.</td>\n",
       "      <td>non-hateful</td>\n",
       "      <td>NaN</td>\n",
       "    </tr>\n",
       "    <tr>\n",
       "      <th>1275</th>\n",
       "      <td>1276</td>\n",
       "      <td>Are you fucking kidding me?</td>\n",
       "      <td>non-hateful</td>\n",
       "      <td>NaN</td>\n",
       "    </tr>\n",
       "  </tbody>\n",
       "</table>\n",
       "</div>"
      ],
      "text/plain": [
       "      case_id                      test_case   label_gold target_ident\n",
       "1271     1272     Fucking hell, what a day.   non-hateful          NaN\n",
       "1272     1273  That's a great fucking idea.   non-hateful          NaN\n",
       "1273     1274               No fucking way.   non-hateful          NaN\n",
       "1274     1275       I'm so fucking excited.   non-hateful          NaN\n",
       "1275     1276    Are you fucking kidding me?  non-hateful          NaN"
      ]
     },
     "execution_count": 279,
     "metadata": {},
     "output_type": "execute_result"
    }
   ],
   "source": [
    "data[data.isna().any(axis=1)].head()"
   ]
  },
  {
   "cell_type": "markdown",
   "id": "a6376600",
   "metadata": {},
   "source": [
    "No duplicate texts found"
   ]
  },
  {
   "cell_type": "code",
   "execution_count": 280,
   "id": "d1517ff5",
   "metadata": {},
   "outputs": [
    {
     "name": "stdout",
     "output_type": "stream",
     "text": [
      "duplicate texts: False\n"
     ]
    }
   ],
   "source": [
    "print(f'''duplicate texts: {data['test_case'].duplicated().any()}''')"
   ]
  },
  {
   "cell_type": "markdown",
   "id": "1717c279",
   "metadata": {},
   "source": [
    "While the target groups are essentially balanced, the same cannot be said for the hate/non-hate categories"
   ]
  },
  {
   "cell_type": "code",
   "execution_count": 281,
   "id": "f284db55",
   "metadata": {},
   "outputs": [
    {
     "data": {
      "text/html": [
       "<div>\n",
       "<style scoped>\n",
       "    .dataframe tbody tr th:only-of-type {\n",
       "        vertical-align: middle;\n",
       "    }\n",
       "\n",
       "    .dataframe tbody tr th {\n",
       "        vertical-align: top;\n",
       "    }\n",
       "\n",
       "    .dataframe thead th {\n",
       "        text-align: right;\n",
       "    }\n",
       "</style>\n",
       "<table border=\"1\" class=\"dataframe\">\n",
       "  <thead>\n",
       "    <tr style=\"text-align: right;\">\n",
       "      <th></th>\n",
       "      <th>count</th>\n",
       "    </tr>\n",
       "    <tr>\n",
       "      <th>label_gold</th>\n",
       "      <th></th>\n",
       "    </tr>\n",
       "  </thead>\n",
       "  <tbody>\n",
       "    <tr>\n",
       "      <th>hateful</th>\n",
       "      <td>2659</td>\n",
       "    </tr>\n",
       "    <tr>\n",
       "      <th>non-hateful</th>\n",
       "      <td>1242</td>\n",
       "    </tr>\n",
       "  </tbody>\n",
       "</table>\n",
       "</div>"
      ],
      "text/plain": [
       "             count\n",
       "label_gold        \n",
       "hateful       2659\n",
       "non-hateful   1242"
      ]
     },
     "metadata": {},
     "output_type": "display_data"
    },
    {
     "data": {
      "text/html": [
       "<div>\n",
       "<style scoped>\n",
       "    .dataframe tbody tr th:only-of-type {\n",
       "        vertical-align: middle;\n",
       "    }\n",
       "\n",
       "    .dataframe tbody tr th {\n",
       "        vertical-align: top;\n",
       "    }\n",
       "\n",
       "    .dataframe thead th {\n",
       "        text-align: right;\n",
       "    }\n",
       "</style>\n",
       "<table border=\"1\" class=\"dataframe\">\n",
       "  <thead>\n",
       "    <tr style=\"text-align: right;\">\n",
       "      <th></th>\n",
       "      <th>count</th>\n",
       "    </tr>\n",
       "    <tr>\n",
       "      <th>target_ident</th>\n",
       "      <th></th>\n",
       "    </tr>\n",
       "  </thead>\n",
       "  <tbody>\n",
       "    <tr>\n",
       "      <th>gay people</th>\n",
       "      <td>577</td>\n",
       "    </tr>\n",
       "    <tr>\n",
       "      <th>women</th>\n",
       "      <td>535</td>\n",
       "    </tr>\n",
       "    <tr>\n",
       "      <th>disabled people</th>\n",
       "      <td>510</td>\n",
       "    </tr>\n",
       "    <tr>\n",
       "      <th>Muslims</th>\n",
       "      <td>510</td>\n",
       "    </tr>\n",
       "    <tr>\n",
       "      <th>black people</th>\n",
       "      <td>504</td>\n",
       "    </tr>\n",
       "    <tr>\n",
       "      <th>trans people</th>\n",
       "      <td>485</td>\n",
       "    </tr>\n",
       "    <tr>\n",
       "      <th>immigrants</th>\n",
       "      <td>485</td>\n",
       "    </tr>\n",
       "  </tbody>\n",
       "</table>\n",
       "</div>"
      ],
      "text/plain": [
       "                 count\n",
       "target_ident          \n",
       "gay people         577\n",
       "women              535\n",
       "disabled people    510\n",
       "Muslims            510\n",
       "black people       504\n",
       "trans people       485\n",
       "immigrants         485"
      ]
     },
     "metadata": {},
     "output_type": "display_data"
    }
   ],
   "source": [
    "# Using display() to display both at the same time without weird notebook formatting.\n",
    "# (Won't comment on any future use of display() again. Same as for any other obvious piece of code)\n",
    "display(\n",
    "    pd.DataFrame(data['label_gold'].value_counts()),\n",
    "    pd.DataFrame(data['target_ident'].value_counts())\n",
    ")"
   ]
  },
  {
   "cell_type": "markdown",
   "id": "3cb51211",
   "metadata": {},
   "source": [
    "No unusually short/long texts"
   ]
  },
  {
   "cell_type": "code",
   "execution_count": 282,
   "id": "02f8d1f1",
   "metadata": {},
   "outputs": [
    {
     "name": "stdout",
     "output_type": "stream",
     "text": [
      "Shortest: 104 chars, \"When will it finally be clear to people that it's in a disabled person's nature to be an annoying prick?\"\n",
      "Longest: 11 chars, \"Ihate women\"\n"
     ]
    }
   ],
   "source": [
    "longest_text_length = data['test_case'].str.len().max()\n",
    "shortest_text_length = data['test_case'].str.len().min()\n",
    "\n",
    "longest_text_index = data['test_case'].str.len().idxmax()\n",
    "shortest_text_index = data['test_case'].str.len().idxmin()\n",
    "\n",
    "print(\n",
    "    f'''Shortest: {longest_text_length} chars, \"{data['test_case'][longest_text_index]}\"\\n'''\n",
    "    f'''Longest: {shortest_text_length} chars, \"{data['test_case'][shortest_text_index]}\"'''\n",
    ")"
   ]
  },
  {
   "cell_type": "markdown",
   "id": "99bc3645",
   "metadata": {},
   "source": [
    "### Data cleaning"
   ]
  },
  {
   "cell_type": "markdown",
   "id": "a99d2b61",
   "metadata": {},
   "source": [
    "Drop irrelevant columns and rename the rest to something more appropriate"
   ]
  },
  {
   "cell_type": "code",
   "execution_count": 283,
   "id": "95f2d88a",
   "metadata": {},
   "outputs": [
    {
     "data": {
      "text/html": [
       "<div>\n",
       "<style scoped>\n",
       "    .dataframe tbody tr th:only-of-type {\n",
       "        vertical-align: middle;\n",
       "    }\n",
       "\n",
       "    .dataframe tbody tr th {\n",
       "        vertical-align: top;\n",
       "    }\n",
       "\n",
       "    .dataframe thead th {\n",
       "        text-align: right;\n",
       "    }\n",
       "</style>\n",
       "<table border=\"1\" class=\"dataframe\">\n",
       "  <thead>\n",
       "    <tr style=\"text-align: right;\">\n",
       "      <th></th>\n",
       "      <th>text</th>\n",
       "      <th>label</th>\n",
       "      <th>target</th>\n",
       "    </tr>\n",
       "  </thead>\n",
       "  <tbody>\n",
       "    <tr>\n",
       "      <th>0</th>\n",
       "      <td>I hate women.</td>\n",
       "      <td>hateful</td>\n",
       "      <td>women</td>\n",
       "    </tr>\n",
       "    <tr>\n",
       "      <th>1</th>\n",
       "      <td>I hate trans people.</td>\n",
       "      <td>hateful</td>\n",
       "      <td>trans people</td>\n",
       "    </tr>\n",
       "    <tr>\n",
       "      <th>2</th>\n",
       "      <td>I hate gay people.</td>\n",
       "      <td>hateful</td>\n",
       "      <td>gay people</td>\n",
       "    </tr>\n",
       "    <tr>\n",
       "      <th>3</th>\n",
       "      <td>I hate black people.</td>\n",
       "      <td>hateful</td>\n",
       "      <td>black people</td>\n",
       "    </tr>\n",
       "    <tr>\n",
       "      <th>4</th>\n",
       "      <td>I hate disabled people.</td>\n",
       "      <td>hateful</td>\n",
       "      <td>disabled people</td>\n",
       "    </tr>\n",
       "  </tbody>\n",
       "</table>\n",
       "</div>"
      ],
      "text/plain": [
       "                       text    label           target\n",
       "0            I hate women.   hateful            women\n",
       "1     I hate trans people.   hateful     trans people\n",
       "2       I hate gay people.   hateful       gay people\n",
       "3     I hate black people.   hateful     black people\n",
       "4  I hate disabled people.   hateful  disabled people"
      ]
     },
     "execution_count": 283,
     "metadata": {},
     "output_type": "execute_result"
    }
   ],
   "source": [
    "data = data.drop('case_id', axis=1)\n",
    "data = data.rename(columns=\n",
    "{\n",
    "    'test_case': 'text',\n",
    "    'label_gold': 'label',\n",
    "    'target_ident': 'target',\n",
    "})\n",
    "\n",
    "data.head()"
   ]
  },
  {
   "cell_type": "markdown",
   "id": "9c7a93d9",
   "metadata": {},
   "source": [
    "It appears as though non of the missing targets have any relevant hate speech associated with them. This can easily be varified by manually looking at the dataset (given its tiny size), But alas, given my horrendous dyslexia i decided to programmatically varify it as a sanity check"
   ]
  },
  {
   "cell_type": "code",
   "execution_count": 284,
   "id": "13deda2d",
   "metadata": {},
   "outputs": [],
   "source": [
    "# Easier than grabbing them from the \"target\" column and removing the trailing \"people\"\n",
    "target_search_words = [\n",
    "    'gay',\n",
    "    'women',\n",
    "    'disabled',\n",
    "    'Muslims',\n",
    "    'black',\n",
    "    'trans',\n",
    "    'immigrants'\n",
    "]\n",
    "\n",
    "target_nans = data[data['target'].isna()]\n",
    "\n",
    "'''\n",
    "After having spent 9 hours (no kidding) trying to make this piece of *** work with pandas queries,\n",
    "i settled for the caveman solution of two loops. Being bad at programming is frankly an understatement at this point.\n",
    "Might as well dig my own grave. And even that'd be done using for loops...\n",
    "'''\n",
    "for _, row in target_nans.iterrows():\n",
    "    for target_search_word in target_search_words:\n",
    "        # Split by words and search each one\n",
    "        if target_search_word in row['text'].split(' '):\n",
    "            print(f'''found target word in: \"{row['text']}\" row''')"
   ]
  },
  {
   "cell_type": "markdown",
   "id": "763d7427",
   "metadata": {},
   "source": [
    "I'm now confident in dropping all rows with target NaN values"
   ]
  },
  {
   "cell_type": "code",
   "execution_count": 285,
   "id": "23295a44",
   "metadata": {},
   "outputs": [],
   "source": [
    "data = data.dropna()"
   ]
  },
  {
   "cell_type": "markdown",
   "id": "5bf744ae",
   "metadata": {},
   "source": [
    "Balancing the dataset"
   ]
  },
  {
   "cell_type": "code",
   "execution_count": 286,
   "id": "955d0920",
   "metadata": {},
   "outputs": [
    {
     "data": {
      "text/html": [
       "<div>\n",
       "<style scoped>\n",
       "    .dataframe tbody tr th:only-of-type {\n",
       "        vertical-align: middle;\n",
       "    }\n",
       "\n",
       "    .dataframe tbody tr th {\n",
       "        vertical-align: top;\n",
       "    }\n",
       "\n",
       "    .dataframe thead th {\n",
       "        text-align: right;\n",
       "    }\n",
       "</style>\n",
       "<table border=\"1\" class=\"dataframe\">\n",
       "  <thead>\n",
       "    <tr style=\"text-align: right;\">\n",
       "      <th></th>\n",
       "      <th>count</th>\n",
       "    </tr>\n",
       "    <tr>\n",
       "      <th>label</th>\n",
       "      <th></th>\n",
       "    </tr>\n",
       "  </thead>\n",
       "  <tbody>\n",
       "    <tr>\n",
       "      <th>hateful</th>\n",
       "      <td>947</td>\n",
       "    </tr>\n",
       "    <tr>\n",
       "      <th>non-hateful</th>\n",
       "      <td>947</td>\n",
       "    </tr>\n",
       "  </tbody>\n",
       "</table>\n",
       "</div>"
      ],
      "text/plain": [
       "             count\n",
       "label             \n",
       "hateful        947\n",
       "non-hateful    947"
      ]
     },
     "metadata": {},
     "output_type": "display_data"
    },
    {
     "data": {
      "text/html": [
       "<div>\n",
       "<style scoped>\n",
       "    .dataframe tbody tr th:only-of-type {\n",
       "        vertical-align: middle;\n",
       "    }\n",
       "\n",
       "    .dataframe tbody tr th {\n",
       "        vertical-align: top;\n",
       "    }\n",
       "\n",
       "    .dataframe thead th {\n",
       "        text-align: right;\n",
       "    }\n",
       "</style>\n",
       "<table border=\"1\" class=\"dataframe\">\n",
       "  <thead>\n",
       "    <tr style=\"text-align: right;\">\n",
       "      <th></th>\n",
       "      <th>count</th>\n",
       "    </tr>\n",
       "    <tr>\n",
       "      <th>target</th>\n",
       "      <th></th>\n",
       "    </tr>\n",
       "  </thead>\n",
       "  <tbody>\n",
       "    <tr>\n",
       "      <th>gay people</th>\n",
       "      <td>330</td>\n",
       "    </tr>\n",
       "    <tr>\n",
       "      <th>women</th>\n",
       "      <td>289</td>\n",
       "    </tr>\n",
       "    <tr>\n",
       "      <th>disabled people</th>\n",
       "      <td>267</td>\n",
       "    </tr>\n",
       "    <tr>\n",
       "      <th>black people</th>\n",
       "      <td>265</td>\n",
       "    </tr>\n",
       "    <tr>\n",
       "      <th>Muslims</th>\n",
       "      <td>264</td>\n",
       "    </tr>\n",
       "    <tr>\n",
       "      <th>immigrants</th>\n",
       "      <td>247</td>\n",
       "    </tr>\n",
       "    <tr>\n",
       "      <th>trans people</th>\n",
       "      <td>232</td>\n",
       "    </tr>\n",
       "  </tbody>\n",
       "</table>\n",
       "</div>"
      ],
      "text/plain": [
       "                 count\n",
       "target                \n",
       "gay people         330\n",
       "women              289\n",
       "disabled people    267\n",
       "black people       265\n",
       "Muslims            264\n",
       "immigrants         247\n",
       "trans people       232"
      ]
     },
     "metadata": {},
     "output_type": "display_data"
    }
   ],
   "source": [
    "# Get the number of hate/non-hate rows\n",
    "hateful_count = data['label'].value_counts()['hateful']\n",
    "non_hateful_count = data['label'].value_counts()['non-hateful']\n",
    "\n",
    "hateful_to_drop_count = hateful_count - non_hateful_count\n",
    "\n",
    "# Randomly sample the rows and drop\n",
    "rows_indexes_to_remove = data[data['label'] == 'hateful'].sample(n=hateful_to_drop_count).index\n",
    "data = data.drop(rows_indexes_to_remove)\n",
    "\n",
    "display(\n",
    "    pd.DataFrame(data['label'].value_counts()),\n",
    "    pd.DataFrame(data['target'].value_counts())\n",
    ")"
   ]
  },
  {
   "cell_type": "markdown",
   "id": "613833d5",
   "metadata": {},
   "source": [
    "### Data Preprocessing"
   ]
  },
  {
   "cell_type": "markdown",
   "id": "f606c944",
   "metadata": {},
   "source": [
    "Shuffle the dataset"
   ]
  },
  {
   "cell_type": "code",
   "execution_count": 287,
   "id": "a0c1182a",
   "metadata": {},
   "outputs": [
    {
     "data": {
      "text/html": [
       "<div>\n",
       "<style scoped>\n",
       "    .dataframe tbody tr th:only-of-type {\n",
       "        vertical-align: middle;\n",
       "    }\n",
       "\n",
       "    .dataframe tbody tr th {\n",
       "        vertical-align: top;\n",
       "    }\n",
       "\n",
       "    .dataframe thead th {\n",
       "        text-align: right;\n",
       "    }\n",
       "</style>\n",
       "<table border=\"1\" class=\"dataframe\">\n",
       "  <thead>\n",
       "    <tr style=\"text-align: right;\">\n",
       "      <th></th>\n",
       "      <th>text</th>\n",
       "      <th>label</th>\n",
       "      <th>target</th>\n",
       "    </tr>\n",
       "  </thead>\n",
       "  <tbody>\n",
       "    <tr>\n",
       "      <th>0</th>\n",
       "      <td>Statements like \"black people are scum\" are de...</td>\n",
       "      <td>non-hateful</td>\n",
       "      <td>black people</td>\n",
       "    </tr>\n",
       "    <tr>\n",
       "      <th>1</th>\n",
       "      <td>Disabled people are not worthy of living like ...</td>\n",
       "      <td>hateful</td>\n",
       "      <td>disabled people</td>\n",
       "    </tr>\n",
       "    <tr>\n",
       "      <th>2</th>\n",
       "      <td>I'd rather have cancer than be anywhere near a...</td>\n",
       "      <td>hateful</td>\n",
       "      <td>disabled people</td>\n",
       "    </tr>\n",
       "    <tr>\n",
       "      <th>3</th>\n",
       "      <td>I wish all women would be shot in the street.</td>\n",
       "      <td>hateful</td>\n",
       "      <td>women</td>\n",
       "    </tr>\n",
       "    <tr>\n",
       "      <th>4</th>\n",
       "      <td>The CEO of that company is a gay person.</td>\n",
       "      <td>non-hateful</td>\n",
       "      <td>gay people</td>\n",
       "    </tr>\n",
       "  </tbody>\n",
       "</table>\n",
       "</div>"
      ],
      "text/plain": [
       "                                                text        label  \\\n",
       "0  Statements like \"black people are scum\" are de...  non-hateful   \n",
       "1  Disabled people are not worthy of living like ...      hateful   \n",
       "2  I'd rather have cancer than be anywhere near a...      hateful   \n",
       "3     I wish all women would be shot in the street.       hateful   \n",
       "4          The CEO of that company is a gay person.   non-hateful   \n",
       "\n",
       "            target  \n",
       "0     black people  \n",
       "1  disabled people  \n",
       "2  disabled people  \n",
       "3            women  \n",
       "4       gay people  "
      ]
     },
     "execution_count": 287,
     "metadata": {},
     "output_type": "execute_result"
    }
   ],
   "source": [
    "data = data.sample(frac=1)\n",
    "\n",
    "# Reset index after having both balanced and shuffled\n",
    "data = data.reset_index(drop=True)\n",
    "data.head()"
   ]
  },
  {
   "cell_type": "markdown",
   "id": "14820be4",
   "metadata": {},
   "source": [
    "Tokenize and pad the texts"
   ]
  },
  {
   "cell_type": "code",
   "execution_count": 288,
   "id": "6f102123",
   "metadata": {},
   "outputs": [
    {
     "name": "stdout",
     "output_type": "stream",
     "text": [
      "Sequence 0: [311, 7, 14, 1, 2, 121, 2, 312, 313]\n",
      "Sequence 1: [13, 1, 2, 18, 723, 17, 724, 7, 107, 725]\n",
      "Sequence 2: [199, 149, 29, 137, 50, 8, 213, 214, 4, 13, 23]\n",
      "Sequence 3: [6, 260, 9, 22, 39, 8, 726, 11, 10, 727]\n",
      "Sequence 4: [10, 314, 17, 12, 315, 19, 4, 15, 23]\n"
     ]
    }
   ],
   "source": [
    "max_words_to_use = 1000\n",
    "\n",
    "# Use 1k words as that's plenty for our use case\n",
    "tokenizer = Tokenizer(num_words=max_words_to_use)\n",
    "tokenizer.fit_on_texts(data['text'])\n",
    "tokenized_texts = tokenizer.texts_to_sequences(data['text'])\n",
    "\n",
    "# printing using loop for easier viewing\n",
    "for i in range(5):\n",
    "    print(f'Sequence {i}: {tokenized_texts[i]}')"
   ]
  },
  {
   "cell_type": "markdown",
   "id": "bbb0f45c",
   "metadata": {},
   "source": [
    "Given the stochasticity of \"sample()\" when balancing our dataset, we now need to figure out the longest sequence of tokenized words before we can perform padding.\n",
    "###### _Well... we don't technically need to know this... but i'd certainly never forgive myself knowing i had left unnecessary zeros in the padding process._"
   ]
  },
  {
   "cell_type": "code",
   "execution_count": 289,
   "id": "2f3412e5",
   "metadata": {},
   "outputs": [
    {
     "name": "stdout",
     "output_type": "stream",
     "text": [
      "longest sequence: 20\n"
     ]
    }
   ],
   "source": [
    "max_sequence_length = len(max(tokenized_texts, key=len))\n",
    "print(f'longest sequence: {max_sequence_length}')"
   ]
  },
  {
   "cell_type": "code",
   "execution_count": 290,
   "id": "690ce80a",
   "metadata": {},
   "outputs": [
    {
     "name": "stdout",
     "output_type": "stream",
     "text": [
      "seq 0: [0, 0, 0, 0, 0, 0, 0, 0, 0, 0, 0, 311, 7, 14, 1, 2, 121, 2, 312, 313]\n",
      "seq 1: [0, 0, 0, 0, 0, 0, 0, 0, 0, 0, 13, 1, 2, 18, 723, 17, 724, 7, 107, 725]\n",
      "seq 2: [0, 0, 0, 0, 0, 0, 0, 0, 0, 199, 149, 29, 137, 50, 8, 213, 214, 4, 13, 23]\n",
      "seq 3: [0, 0, 0, 0, 0, 0, 0, 0, 0, 0, 6, 260, 9, 22, 39, 8, 726, 11, 10, 727]\n",
      "seq 4: [0, 0, 0, 0, 0, 0, 0, 0, 0, 0, 0, 10, 314, 17, 12, 315, 19, 4, 15, 23]\n"
     ]
    }
   ],
   "source": [
    "# Pad the sequences to make them of uniform length\n",
    "tokenized_padded_texts = pad_sequences(tokenized_texts, maxlen=max_sequence_length)\n",
    "\n",
    "for i in range(5):\n",
    "    print(f'seq {i}: {tokenized_padded_texts[i].tolist()}')"
   ]
  },
  {
   "cell_type": "markdown",
   "id": "0fdc6ff0",
   "metadata": {},
   "source": [
    "One-hot encode the labels"
   ]
  },
  {
   "cell_type": "code",
   "execution_count": 291,
   "id": "606d143d",
   "metadata": {},
   "outputs": [
    {
     "name": "stdout",
     "output_type": "stream",
     "text": [
      "labels: [[1], [0], [0], [0], [1]]\n",
      "Target 0: [0, 1, 0, 0, 0, 0, 0]\n",
      "Target 1: [0, 0, 1, 0, 0, 0, 0]\n",
      "Target 2: [0, 0, 1, 0, 0, 0, 0]\n",
      "Target 3: [0, 0, 0, 0, 0, 0, 1]\n",
      "Target 4: [0, 0, 0, 1, 0, 0, 0]\n"
     ]
    }
   ],
   "source": [
    "label_binarizer = LabelBinarizer()\n",
    "onehot_encoded_labels = label_binarizer.fit_transform(data['label'])\n",
    "onehot_encoded_targets = label_binarizer.fit_transform(data['target'])\n",
    "\n",
    "print(f'labels: {onehot_encoded_labels.tolist()[:5]}')\n",
    "\n",
    "for i in range(5):\n",
    "    print(f'Target {i}: {onehot_encoded_targets[i].tolist()}')"
   ]
  },
  {
   "cell_type": "markdown",
   "id": "75e6a0c1",
   "metadata": {},
   "source": [
    "Train/test split"
   ]
  },
  {
   "cell_type": "code",
   "execution_count": 292,
   "id": "be632ce0",
   "metadata": {},
   "outputs": [
    {
     "name": "stdout",
     "output_type": "stream",
     "text": [
      "train_texts shape: (1515, 20)\n",
      "train_labels shape: (1515, 1)\n",
      "train_targets shape: (1515, 7)\n",
      "test_texts shape: (379, 20)\n",
      "test_labels shape: (379, 1)\n",
      "test_targets shape: (379, 7)\n"
     ]
    }
   ],
   "source": [
    "train_texts, test_texts, train_labels, test_labels, train_targets, test_targets = train_test_split(\n",
    "    tokenized_padded_texts,\n",
    "    onehot_encoded_labels,\n",
    "    onehot_encoded_targets,\n",
    "    test_size=0.2\n",
    ")\n",
    "\n",
    "print(\n",
    "    f'train_texts shape: {np.shape(train_texts)}\\n'\n",
    "    f'train_labels shape: {np.shape(train_labels)}\\n'\n",
    "    f'train_targets shape: {np.shape(train_targets)}\\n'\n",
    "    f'test_texts shape: {np.shape(test_texts)}\\n'\n",
    "    f'test_labels shape: {np.shape(test_labels)}\\n'\n",
    "    f'test_targets shape: {np.shape(test_targets)}'\n",
    ")"
   ]
  },
  {
   "cell_type": "markdown",
   "id": "c71408a5",
   "metadata": {},
   "source": [
    "# Model building, training and optimizing\n",
    "###### At last!"
   ]
  },
  {
   "cell_type": "code",
   "execution_count": 293,
   "id": "7640120a",
   "metadata": {},
   "outputs": [
    {
     "name": "stdout",
     "output_type": "stream",
     "text": [
      "Epoch 1/100\n"
     ]
    },
    {
     "name": "stdout",
     "output_type": "stream",
     "text": [
      "38/38 [==============================] - 6s 37ms/step - loss: 0.6813 - accuracy: 0.6106 - val_loss: 0.6612 - val_accuracy: 0.6370\n",
      "Epoch 2/100\n",
      "38/38 [==============================] - 1s 16ms/step - loss: 0.6075 - accuracy: 0.7195 - val_loss: 0.5917 - val_accuracy: 0.7030\n",
      "Epoch 3/100\n",
      "38/38 [==============================] - 1s 20ms/step - loss: 0.4296 - accuracy: 0.8185 - val_loss: 0.3631 - val_accuracy: 0.8482\n",
      "Epoch 4/100\n",
      "38/38 [==============================] - 1s 15ms/step - loss: 0.2349 - accuracy: 0.9101 - val_loss: 0.2217 - val_accuracy: 0.9076\n",
      "Epoch 5/100\n",
      "38/38 [==============================] - 1s 15ms/step - loss: 0.1333 - accuracy: 0.9530 - val_loss: 0.1722 - val_accuracy: 0.9472\n",
      "Epoch 6/100\n",
      "38/38 [==============================] - 1s 16ms/step - loss: 0.0909 - accuracy: 0.9794 - val_loss: 0.1560 - val_accuracy: 0.9538\n",
      "Epoch 7/100\n",
      "38/38 [==============================] - 1s 16ms/step - loss: 0.0610 - accuracy: 0.9893 - val_loss: 0.1633 - val_accuracy: 0.9571\n",
      "Epoch 8/100\n",
      "38/38 [==============================] - 1s 15ms/step - loss: 0.0431 - accuracy: 0.9909 - val_loss: 0.1115 - val_accuracy: 0.9571\n",
      "Epoch 9/100\n",
      "38/38 [==============================] - 1s 16ms/step - loss: 0.0205 - accuracy: 0.9983 - val_loss: 0.1124 - val_accuracy: 0.9769\n",
      "Epoch 10/100\n",
      "38/38 [==============================] - 1s 16ms/step - loss: 0.0167 - accuracy: 0.9975 - val_loss: 0.1077 - val_accuracy: 0.9703\n",
      "Epoch 11/100\n",
      "38/38 [==============================] - 1s 16ms/step - loss: 0.0132 - accuracy: 0.9992 - val_loss: 0.1085 - val_accuracy: 0.9802\n",
      "Epoch 12/100\n",
      "38/38 [==============================] - 1s 16ms/step - loss: 0.0111 - accuracy: 0.9992 - val_loss: 0.1093 - val_accuracy: 0.9802\n",
      "Epoch 13/100\n",
      "38/38 [==============================] - 1s 16ms/step - loss: 0.0106 - accuracy: 0.9992 - val_loss: 0.1186 - val_accuracy: 0.9703\n",
      "Epoch 14/100\n",
      "38/38 [==============================] - 1s 16ms/step - loss: 0.0085 - accuracy: 0.9983 - val_loss: 0.1222 - val_accuracy: 0.9769\n",
      "Epoch 15/100\n",
      "38/38 [==============================] - 1s 16ms/step - loss: 0.0035 - accuracy: 1.0000 - val_loss: 0.1170 - val_accuracy: 0.9769\n",
      "Epoch 16/100\n",
      "38/38 [==============================] - 1s 16ms/step - loss: 0.0025 - accuracy: 1.0000 - val_loss: 0.1178 - val_accuracy: 0.9802\n",
      "Epoch 17/100\n",
      "38/38 [==============================] - 1s 16ms/step - loss: 0.0018 - accuracy: 1.0000 - val_loss: 0.1199 - val_accuracy: 0.9802\n",
      "Epoch 18/100\n",
      "38/38 [==============================] - 1s 17ms/step - loss: 0.0015 - accuracy: 1.0000 - val_loss: 0.1214 - val_accuracy: 0.9769\n",
      "Epoch 19/100\n",
      "38/38 [==============================] - 1s 17ms/step - loss: 0.0013 - accuracy: 1.0000 - val_loss: 0.1309 - val_accuracy: 0.9769\n",
      "Epoch 20/100\n",
      "38/38 [==============================] - 1s 17ms/step - loss: 0.0012 - accuracy: 1.0000 - val_loss: 0.1267 - val_accuracy: 0.9769\n",
      "Epoch 21/100\n",
      "38/38 [==============================] - 1s 17ms/step - loss: 0.0011 - accuracy: 1.0000 - val_loss: 0.1293 - val_accuracy: 0.9769\n",
      "Epoch 1/100\n",
      "38/38 [==============================] - 4s 36ms/step - loss: 1.9369 - accuracy: 0.2401 - val_loss: 1.9268 - val_accuracy: 0.1848\n",
      "Epoch 2/100\n",
      "38/38 [==============================] - 1s 17ms/step - loss: 1.8767 - accuracy: 0.2079 - val_loss: 1.8437 - val_accuracy: 0.2640\n",
      "Epoch 3/100\n",
      "38/38 [==============================] - 1s 17ms/step - loss: 1.5594 - accuracy: 0.4167 - val_loss: 1.5548 - val_accuracy: 0.3696\n",
      "Epoch 4/100\n",
      "38/38 [==============================] - 1s 17ms/step - loss: 1.1085 - accuracy: 0.6361 - val_loss: 1.1004 - val_accuracy: 0.6007\n",
      "Epoch 5/100\n",
      "38/38 [==============================] - 1s 17ms/step - loss: 0.7402 - accuracy: 0.7409 - val_loss: 0.8355 - val_accuracy: 0.7261\n",
      "Epoch 6/100\n",
      "38/38 [==============================] - 1s 17ms/step - loss: 0.4943 - accuracy: 0.8614 - val_loss: 0.6198 - val_accuracy: 0.8119\n",
      "Epoch 7/100\n",
      "38/38 [==============================] - 1s 17ms/step - loss: 0.3291 - accuracy: 0.9398 - val_loss: 0.5209 - val_accuracy: 0.8614\n",
      "Epoch 8/100\n",
      "38/38 [==============================] - 1s 17ms/step - loss: 0.2102 - accuracy: 0.9761 - val_loss: 0.4174 - val_accuracy: 0.9175\n",
      "Epoch 9/100\n",
      "38/38 [==============================] - 1s 17ms/step - loss: 0.1506 - accuracy: 0.9785 - val_loss: 0.3739 - val_accuracy: 0.9109\n",
      "Epoch 10/100\n",
      "38/38 [==============================] - 1s 16ms/step - loss: 0.1131 - accuracy: 0.9876 - val_loss: 0.3410 - val_accuracy: 0.9175\n",
      "Epoch 11/100\n",
      "38/38 [==============================] - 1s 17ms/step - loss: 0.0884 - accuracy: 0.9909 - val_loss: 0.3123 - val_accuracy: 0.9307\n",
      "Epoch 12/100\n",
      "38/38 [==============================] - 1s 16ms/step - loss: 0.0620 - accuracy: 0.9975 - val_loss: 0.2911 - val_accuracy: 0.9307\n",
      "Epoch 13/100\n",
      "38/38 [==============================] - 1s 17ms/step - loss: 0.0519 - accuracy: 0.9975 - val_loss: 0.3003 - val_accuracy: 0.9307\n",
      "Epoch 14/100\n",
      "38/38 [==============================] - 1s 17ms/step - loss: 0.0472 - accuracy: 0.9950 - val_loss: 0.2726 - val_accuracy: 0.9274\n",
      "Epoch 15/100\n",
      "38/38 [==============================] - 1s 18ms/step - loss: 0.0377 - accuracy: 1.0000 - val_loss: 0.2821 - val_accuracy: 0.9340\n",
      "Epoch 16/100\n",
      "38/38 [==============================] - 1s 17ms/step - loss: 0.0294 - accuracy: 0.9992 - val_loss: 0.2636 - val_accuracy: 0.9406\n",
      "Epoch 17/100\n",
      "38/38 [==============================] - 1s 16ms/step - loss: 0.0259 - accuracy: 1.0000 - val_loss: 0.2685 - val_accuracy: 0.9373\n",
      "Epoch 18/100\n",
      "38/38 [==============================] - 1s 17ms/step - loss: 0.0237 - accuracy: 1.0000 - val_loss: 0.2560 - val_accuracy: 0.9406\n",
      "Epoch 19/100\n",
      "38/38 [==============================] - 1s 16ms/step - loss: 0.0201 - accuracy: 1.0000 - val_loss: 0.2578 - val_accuracy: 0.9373\n",
      "Epoch 20/100\n",
      "38/38 [==============================] - 1s 17ms/step - loss: 0.0186 - accuracy: 0.9992 - val_loss: 0.2643 - val_accuracy: 0.9373\n",
      "Epoch 21/100\n",
      "38/38 [==============================] - 1s 17ms/step - loss: 0.0163 - accuracy: 1.0000 - val_loss: 0.2563 - val_accuracy: 0.9406\n",
      "Epoch 22/100\n",
      "38/38 [==============================] - 1s 17ms/step - loss: 0.0134 - accuracy: 1.0000 - val_loss: 0.2471 - val_accuracy: 0.9373\n",
      "Epoch 23/100\n",
      "38/38 [==============================] - 1s 17ms/step - loss: 0.0116 - accuracy: 1.0000 - val_loss: 0.2587 - val_accuracy: 0.9373\n",
      "Epoch 24/100\n",
      "38/38 [==============================] - 1s 17ms/step - loss: 0.0102 - accuracy: 1.0000 - val_loss: 0.2627 - val_accuracy: 0.9373\n",
      "Epoch 25/100\n",
      "38/38 [==============================] - 1s 17ms/step - loss: 0.0093 - accuracy: 1.0000 - val_loss: 0.2738 - val_accuracy: 0.9373\n",
      "Epoch 26/100\n",
      "38/38 [==============================] - 1s 16ms/step - loss: 0.0083 - accuracy: 1.0000 - val_loss: 0.2563 - val_accuracy: 0.9373\n",
      "Epoch 27/100\n",
      "38/38 [==============================] - 1s 17ms/step - loss: 0.0082 - accuracy: 1.0000 - val_loss: 0.2879 - val_accuracy: 0.9373\n",
      "Epoch 28/100\n",
      "38/38 [==============================] - 1s 17ms/step - loss: 0.0074 - accuracy: 1.0000 - val_loss: 0.2607 - val_accuracy: 0.9406\n",
      "Epoch 29/100\n",
      "38/38 [==============================] - 1s 17ms/step - loss: 0.0065 - accuracy: 1.0000 - val_loss: 0.2580 - val_accuracy: 0.9373\n",
      "Epoch 30/100\n",
      "38/38 [==============================] - 1s 17ms/step - loss: 0.0065 - accuracy: 1.0000 - val_loss: 0.2613 - val_accuracy: 0.9406\n",
      "Epoch 31/100\n",
      "38/38 [==============================] - 1s 17ms/step - loss: 0.0053 - accuracy: 1.0000 - val_loss: 0.2917 - val_accuracy: 0.9373\n",
      "Epoch 32/100\n",
      "38/38 [==============================] - 1s 17ms/step - loss: 0.0050 - accuracy: 1.0000 - val_loss: 0.2669 - val_accuracy: 0.9406\n"
     ]
    }
   ],
   "source": [
    "# All models and histories will be stored here\n",
    "models = {}\n",
    "\n",
    "# Easiest and most human readable way of doing it while training two models with different parameters\n",
    "# without having to use a bunch of ugly if-statements and duplicate code. Trust me, i tried the other methods.\n",
    "model_parameters = zip(\n",
    "    ['Hate Detection', 'Target Detection'],\n",
    "    [train_labels, train_targets],\n",
    "    ['sigmoid', 'softmax'],\n",
    "    ['binary_crossentropy', 'categorical_crossentropy']\n",
    ")\n",
    "\n",
    "for model_name, labels, output_activation_function, loss_function in model_parameters:\n",
    "    model = Sequential([\n",
    "        Embedding(\n",
    "            input_dim=max_words_to_use,\n",
    "            input_length=max_sequence_length,\n",
    "            output_dim=32\n",
    "        ),\n",
    "        LSTM(units=32, activation='tanh'),\n",
    "        \n",
    "        # The number of neurons at the output depends on the number of classes.\n",
    "        # We get the number of classes by taking the shape of the label arrays as they're one-hot encoded\n",
    "        Dense(labels.shape[1], activation=output_activation_function)\n",
    "    ])\n",
    "\n",
    "    model.compile(optimizer='adam', loss=loss_function, metrics=['accuracy'])\n",
    "\n",
    "    # Using a patience and start_from_epoch of 10 as the model is still all over the place before that\n",
    "    early_stopping = EarlyStopping(monitor='val_loss', patience=10, restore_best_weights=True, start_from_epoch=10)\n",
    "    history = model.fit(train_texts, labels, epochs=100, validation_split=0.2, callbacks=[early_stopping], verbose=1)\n",
    "    models[model_name] = {'model': model, 'history': history}"
   ]
  },
  {
   "cell_type": "code",
   "execution_count": 294,
   "id": "73bf96f3",
   "metadata": {},
   "outputs": [
    {
     "data": {
      "image/png": "[encoded data removed]",
      "text/plain": [
       "<Figure size 1200x400 with 2 Axes>"
      ]
     },
     "metadata": {},
     "output_type": "display_data"
    },
    {
     "data": {
      "image/png": "[encoded data removed]",
      "text/plain": [
       "<Figure size 800x600 with 2 Axes>"
      ]
     },
     "metadata": {},
     "output_type": "display_data"
    },
    {
     "name": "stdout",
     "output_type": "stream",
     "text": [
      "Hate Detection model testing:\n",
      "Accuracy: 99.0%\n",
      "Loss: 0.04\n",
      "F1: 0.9868084911008134\n"
     ]
    },
    {
     "data": {
      "image/png": "[encoded data removed]",
      "text/plain": [
       "<Figure size 1200x400 with 2 Axes>"
      ]
     },
     "metadata": {},
     "output_type": "display_data"
    },
    {
     "data": {
      "image/png": "[encoded data removed]",
      "text/plain": [
       "<Figure size 800x600 with 2 Axes>"
      ]
     },
     "metadata": {},
     "output_type": "display_data"
    },
    {
     "name": "stdout",
     "output_type": "stream",
     "text": [
      "Target Detection model testing:\n",
      "Accuracy: 95.0%\n",
      "Loss: 0.26\n",
      "F1: 0.9499766652233149\n"
     ]
    }
   ],
   "source": [
    "# Self explanatory code \n",
    "for (model_name, model), labels in zip(models.items(), [test_labels, test_targets]):\n",
    "    test_loss, test_accuracy = model['model'].evaluate(test_texts, labels, verbose=0)\n",
    "    predictions = model['model'].predict(test_texts, verbose=0)\n",
    "    \n",
    "    if labels.shape[1] == 1: # For binary model\n",
    "        # Translate based on if prediction probability is above/below 50%\n",
    "        predicted_classes = (predictions >= 0.5).astype(int).flatten()\n",
    "        actual_classes = labels.flatten()\n",
    "    else: # For multi-class model\n",
    "        # Translate using argmax to convert into number labels\n",
    "        predicted_classes = np.argmax(predictions, axis=1)\n",
    "        actual_classes = np.argmax(labels, axis=1)\n",
    "\n",
    "    f1 = f1_score(actual_classes, predicted_classes, average='weighted')\n",
    "    cm = confusion_matrix(actual_classes, predicted_classes)\n",
    "    \n",
    "    plt.figure(figsize=(12, 4))\n",
    "    \n",
    "    for subplot, metric in enumerate(['accuracy', 'loss'], 1):\n",
    "        plt.subplot(1, 2, subplot)\n",
    "        plt.plot(model['history'].history[metric], label='Training Accuracy')\n",
    "        plt.plot(model['history'].history[f'val_{metric}'], label='Validation Accuracy')\n",
    "        plt.xlabel('Epoch')\n",
    "        plt.ylabel(metric)\n",
    "        plt.legend()\n",
    "\n",
    "    plt.suptitle(f'{model_name} model training performance')\n",
    "    plt.show()\n",
    "\n",
    "    # Confusion matrix using seaborn as that was the simplest and best looking\n",
    "    plt.figure(figsize=(8, 6))\n",
    "    sns.heatmap(cm,\n",
    "        annot=True,\n",
    "        fmt='d',\n",
    "        cmap='Blues', \n",
    "        xticklabels=np.unique(actual_classes),\n",
    "        yticklabels=np.unique(actual_classes)\n",
    "    )\n",
    "    \n",
    "    plt.xlabel('Predicted')\n",
    "    plt.ylabel('Label')\n",
    "    plt.title(f'{model_name} model testing confusion matrix')\n",
    "    plt.show()\n",
    "    \n",
    "    print(\n",
    "        f'{model_name} model testing:\\n'\n",
    "        f'Accuracy: {round(test_accuracy, 2) * 100}%\\n'\n",
    "        f'Loss: {round(test_loss, 2)}\\n'\n",
    "        f'F1: {f1}'\n",
    "    )"
   ]
  }
 ],
 "metadata": {
  "kernelspec": {
   "display_name": "Python 3 (ipykernel)",
   "language": "python",
   "name": "python3"
  },
  "language_info": {
   "codemirror_mode": {
    "name": "ipython",
    "version": 3
   },
   "file_extension": ".py",
   "mimetype": "text/x-python",
   "name": "python",
   "nbconvert_exporter": "python",
   "pygments_lexer": "ipython3",
   "version": "3.8.10"
  }
 },
 "nbformat": 4,
 "nbformat_minor": 5
}
