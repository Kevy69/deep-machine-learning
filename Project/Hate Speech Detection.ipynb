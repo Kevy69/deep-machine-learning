{
 "cells": [
  {
   "cell_type": "markdown",
   "id": "1135a423",
   "metadata": {},
   "source": [
    "todo\n",
    "9. explain (comment on) that you've got 2 models in the questionnair"
   ]
  },
  {
   "cell_type": "markdown",
   "id": "a33c9a6d",
   "metadata": {},
   "source": [
    "# Hate speech Detection"
   ]
  },
  {
   "cell_type": "code",
   "execution_count": 427,
   "id": "7a4b8bcc",
   "metadata": {},
   "outputs": [],
   "source": [
    "import numpy as np\n",
    "import pandas as pd\n",
    "import matplotlib.pyplot as plt\n",
    "import seaborn as sns\n",
    "\n",
    "from sklearn.model_selection import train_test_split\n",
    "from sklearn.preprocessing import LabelBinarizer\n",
    "from sklearn.metrics import confusion_matrix, f1_score\n",
    "\n",
    "from keras.callbacks import EarlyStopping\n",
    "from keras.layers import LSTM, Dense, Embedding\n",
    "from keras.models import Sequential\n",
    "from keras.preprocessing.text import Tokenizer\n",
    "from keras.utils import pad_sequences"
   ]
  },
  {
   "cell_type": "markdown",
   "id": "685a1498",
   "metadata": {},
   "source": [
    "### Data Exploration"
   ]
  },
  {
   "cell_type": "code",
   "execution_count": 428,
   "id": "8e7091f1",
   "metadata": {},
   "outputs": [
    {
     "data": {
      "text/html": [
       "<div>\n",
       "<style scoped>\n",
       "    .dataframe tbody tr th:only-of-type {\n",
       "        vertical-align: middle;\n",
       "    }\n",
       "\n",
       "    .dataframe tbody tr th {\n",
       "        vertical-align: top;\n",
       "    }\n",
       "\n",
       "    .dataframe thead th {\n",
       "        text-align: right;\n",
       "    }\n",
       "</style>\n",
       "<table border=\"1\" class=\"dataframe\">\n",
       "  <thead>\n",
       "    <tr style=\"text-align: right;\">\n",
       "      <th></th>\n",
       "      <th>case_id</th>\n",
       "      <th>test_case</th>\n",
       "      <th>label_gold</th>\n",
       "      <th>target_ident</th>\n",
       "    </tr>\n",
       "  </thead>\n",
       "  <tbody>\n",
       "    <tr>\n",
       "      <th>0</th>\n",
       "      <td>1</td>\n",
       "      <td>I hate women.</td>\n",
       "      <td>hateful</td>\n",
       "      <td>women</td>\n",
       "    </tr>\n",
       "    <tr>\n",
       "      <th>1</th>\n",
       "      <td>2</td>\n",
       "      <td>I hate trans people.</td>\n",
       "      <td>hateful</td>\n",
       "      <td>trans people</td>\n",
       "    </tr>\n",
       "    <tr>\n",
       "      <th>2</th>\n",
       "      <td>3</td>\n",
       "      <td>I hate gay people.</td>\n",
       "      <td>hateful</td>\n",
       "      <td>gay people</td>\n",
       "    </tr>\n",
       "    <tr>\n",
       "      <th>3</th>\n",
       "      <td>4</td>\n",
       "      <td>I hate black people.</td>\n",
       "      <td>hateful</td>\n",
       "      <td>black people</td>\n",
       "    </tr>\n",
       "    <tr>\n",
       "      <th>4</th>\n",
       "      <td>5</td>\n",
       "      <td>I hate disabled people.</td>\n",
       "      <td>hateful</td>\n",
       "      <td>disabled people</td>\n",
       "    </tr>\n",
       "    <tr>\n",
       "      <th>...</th>\n",
       "      <td>...</td>\n",
       "      <td>...</td>\n",
       "      <td>...</td>\n",
       "      <td>...</td>\n",
       "    </tr>\n",
       "    <tr>\n",
       "      <th>3896</th>\n",
       "      <td>3897</td>\n",
       "      <td>Gay people are all complete 4ssholes.</td>\n",
       "      <td>hateful</td>\n",
       "      <td>gay people</td>\n",
       "    </tr>\n",
       "    <tr>\n",
       "      <th>3897</th>\n",
       "      <td>3898</td>\n",
       "      <td>Black people are all complete 4ssholes.</td>\n",
       "      <td>hateful</td>\n",
       "      <td>black people</td>\n",
       "    </tr>\n",
       "    <tr>\n",
       "      <th>3898</th>\n",
       "      <td>3899</td>\n",
       "      <td>Disabled people are all complete 4ssholes.</td>\n",
       "      <td>hateful</td>\n",
       "      <td>disabled people</td>\n",
       "    </tr>\n",
       "    <tr>\n",
       "      <th>3899</th>\n",
       "      <td>3900</td>\n",
       "      <td>Muslims are all complete 4ssholes.</td>\n",
       "      <td>hateful</td>\n",
       "      <td>Muslims</td>\n",
       "    </tr>\n",
       "    <tr>\n",
       "      <th>3900</th>\n",
       "      <td>3901</td>\n",
       "      <td>Immigrants are all complete 4ssholes.</td>\n",
       "      <td>hateful</td>\n",
       "      <td>immigrants</td>\n",
       "    </tr>\n",
       "  </tbody>\n",
       "</table>\n",
       "<p>3901 rows × 4 columns</p>\n",
       "</div>"
      ],
      "text/plain": [
       "      case_id                                    test_case label_gold  \\\n",
       "0           1                               I hate women.     hateful   \n",
       "1           2                        I hate trans people.     hateful   \n",
       "2           3                          I hate gay people.     hateful   \n",
       "3           4                        I hate black people.     hateful   \n",
       "4           5                     I hate disabled people.     hateful   \n",
       "...       ...                                          ...        ...   \n",
       "3896     3897       Gay people are all complete 4ssholes.     hateful   \n",
       "3897     3898     Black people are all complete 4ssholes.     hateful   \n",
       "3898     3899  Disabled people are all complete 4ssholes.     hateful   \n",
       "3899     3900          Muslims are all complete 4ssholes.     hateful   \n",
       "3900     3901       Immigrants are all complete 4ssholes.     hateful   \n",
       "\n",
       "         target_ident  \n",
       "0               women  \n",
       "1        trans people  \n",
       "2          gay people  \n",
       "3        black people  \n",
       "4     disabled people  \n",
       "...               ...  \n",
       "3896       gay people  \n",
       "3897     black people  \n",
       "3898  disabled people  \n",
       "3899          Muslims  \n",
       "3900       immigrants  \n",
       "\n",
       "[3901 rows x 4 columns]"
      ]
     },
     "execution_count": 428,
     "metadata": {},
     "output_type": "execute_result"
    }
   ],
   "source": [
    "data = pd.read_csv('Hate Speech Data.csv')\n",
    "data"
   ]
  },
  {
   "cell_type": "markdown",
   "id": "09f98012",
   "metadata": {},
   "source": [
    "Looks like the dataset contains some missing values in the target_ident column, which we'll have to deal with later"
   ]
  },
  {
   "cell_type": "code",
   "execution_count": 429,
   "id": "ece91934",
   "metadata": {},
   "outputs": [
    {
     "name": "stdout",
     "output_type": "stream",
     "text": [
      "<class 'pandas.core.frame.DataFrame'>\n",
      "RangeIndex: 3901 entries, 0 to 3900\n",
      "Data columns (total 4 columns):\n",
      " #   Column        Non-Null Count  Dtype \n",
      "---  ------        --------------  ----- \n",
      " 0   case_id       3901 non-null   int64 \n",
      " 1   test_case     3901 non-null   object\n",
      " 2   label_gold    3901 non-null   object\n",
      " 3   target_ident  3606 non-null   object\n",
      "dtypes: int64(1), object(3)\n",
      "memory usage: 122.0+ KB\n"
     ]
    }
   ],
   "source": [
    "data.info()"
   ]
  },
  {
   "cell_type": "code",
   "execution_count": 430,
   "id": "4c5ef997",
   "metadata": {},
   "outputs": [
    {
     "data": {
      "text/html": [
       "<div>\n",
       "<style scoped>\n",
       "    .dataframe tbody tr th:only-of-type {\n",
       "        vertical-align: middle;\n",
       "    }\n",
       "\n",
       "    .dataframe tbody tr th {\n",
       "        vertical-align: top;\n",
       "    }\n",
       "\n",
       "    .dataframe thead th {\n",
       "        text-align: right;\n",
       "    }\n",
       "</style>\n",
       "<table border=\"1\" class=\"dataframe\">\n",
       "  <thead>\n",
       "    <tr style=\"text-align: right;\">\n",
       "      <th></th>\n",
       "      <th>case_id</th>\n",
       "      <th>test_case</th>\n",
       "      <th>label_gold</th>\n",
       "      <th>target_ident</th>\n",
       "    </tr>\n",
       "  </thead>\n",
       "  <tbody>\n",
       "    <tr>\n",
       "      <th>1271</th>\n",
       "      <td>1272</td>\n",
       "      <td>Fucking hell, what a day.</td>\n",
       "      <td>non-hateful</td>\n",
       "      <td>NaN</td>\n",
       "    </tr>\n",
       "    <tr>\n",
       "      <th>1272</th>\n",
       "      <td>1273</td>\n",
       "      <td>That's a great fucking idea.</td>\n",
       "      <td>non-hateful</td>\n",
       "      <td>NaN</td>\n",
       "    </tr>\n",
       "    <tr>\n",
       "      <th>1273</th>\n",
       "      <td>1274</td>\n",
       "      <td>No fucking way.</td>\n",
       "      <td>non-hateful</td>\n",
       "      <td>NaN</td>\n",
       "    </tr>\n",
       "    <tr>\n",
       "      <th>1274</th>\n",
       "      <td>1275</td>\n",
       "      <td>I'm so fucking excited.</td>\n",
       "      <td>non-hateful</td>\n",
       "      <td>NaN</td>\n",
       "    </tr>\n",
       "    <tr>\n",
       "      <th>1275</th>\n",
       "      <td>1276</td>\n",
       "      <td>Are you fucking kidding me?</td>\n",
       "      <td>non-hateful</td>\n",
       "      <td>NaN</td>\n",
       "    </tr>\n",
       "  </tbody>\n",
       "</table>\n",
       "</div>"
      ],
      "text/plain": [
       "      case_id                      test_case   label_gold target_ident\n",
       "1271     1272     Fucking hell, what a day.   non-hateful          NaN\n",
       "1272     1273  That's a great fucking idea.   non-hateful          NaN\n",
       "1273     1274               No fucking way.   non-hateful          NaN\n",
       "1274     1275       I'm so fucking excited.   non-hateful          NaN\n",
       "1275     1276    Are you fucking kidding me?  non-hateful          NaN"
      ]
     },
     "execution_count": 430,
     "metadata": {},
     "output_type": "execute_result"
    }
   ],
   "source": [
    "data[data.isna().any(axis=1)].head()"
   ]
  },
  {
   "cell_type": "markdown",
   "id": "a6376600",
   "metadata": {},
   "source": [
    "No duplicate texts found"
   ]
  },
  {
   "cell_type": "code",
   "execution_count": 431,
   "id": "d1517ff5",
   "metadata": {},
   "outputs": [
    {
     "name": "stdout",
     "output_type": "stream",
     "text": [
      "duplicate texts: False\n"
     ]
    }
   ],
   "source": [
    "print(f'''duplicate texts: {data['test_case'].duplicated().any()}''')"
   ]
  },
  {
   "cell_type": "markdown",
   "id": "1717c279",
   "metadata": {},
   "source": [
    "While the target groups are essentially balanced, the same cannot be said for the hate/non-hate categories"
   ]
  },
  {
   "cell_type": "code",
   "execution_count": 432,
   "id": "f284db55",
   "metadata": {},
   "outputs": [
    {
     "data": {
      "text/html": [
       "<div>\n",
       "<style scoped>\n",
       "    .dataframe tbody tr th:only-of-type {\n",
       "        vertical-align: middle;\n",
       "    }\n",
       "\n",
       "    .dataframe tbody tr th {\n",
       "        vertical-align: top;\n",
       "    }\n",
       "\n",
       "    .dataframe thead th {\n",
       "        text-align: right;\n",
       "    }\n",
       "</style>\n",
       "<table border=\"1\" class=\"dataframe\">\n",
       "  <thead>\n",
       "    <tr style=\"text-align: right;\">\n",
       "      <th></th>\n",
       "      <th>count</th>\n",
       "    </tr>\n",
       "    <tr>\n",
       "      <th>label_gold</th>\n",
       "      <th></th>\n",
       "    </tr>\n",
       "  </thead>\n",
       "  <tbody>\n",
       "    <tr>\n",
       "      <th>hateful</th>\n",
       "      <td>2659</td>\n",
       "    </tr>\n",
       "    <tr>\n",
       "      <th>non-hateful</th>\n",
       "      <td>1242</td>\n",
       "    </tr>\n",
       "  </tbody>\n",
       "</table>\n",
       "</div>"
      ],
      "text/plain": [
       "             count\n",
       "label_gold        \n",
       "hateful       2659\n",
       "non-hateful   1242"
      ]
     },
     "metadata": {},
     "output_type": "display_data"
    },
    {
     "data": {
      "text/html": [
       "<div>\n",
       "<style scoped>\n",
       "    .dataframe tbody tr th:only-of-type {\n",
       "        vertical-align: middle;\n",
       "    }\n",
       "\n",
       "    .dataframe tbody tr th {\n",
       "        vertical-align: top;\n",
       "    }\n",
       "\n",
       "    .dataframe thead th {\n",
       "        text-align: right;\n",
       "    }\n",
       "</style>\n",
       "<table border=\"1\" class=\"dataframe\">\n",
       "  <thead>\n",
       "    <tr style=\"text-align: right;\">\n",
       "      <th></th>\n",
       "      <th>count</th>\n",
       "    </tr>\n",
       "    <tr>\n",
       "      <th>target_ident</th>\n",
       "      <th></th>\n",
       "    </tr>\n",
       "  </thead>\n",
       "  <tbody>\n",
       "    <tr>\n",
       "      <th>gay people</th>\n",
       "      <td>577</td>\n",
       "    </tr>\n",
       "    <tr>\n",
       "      <th>women</th>\n",
       "      <td>535</td>\n",
       "    </tr>\n",
       "    <tr>\n",
       "      <th>disabled people</th>\n",
       "      <td>510</td>\n",
       "    </tr>\n",
       "    <tr>\n",
       "      <th>Muslims</th>\n",
       "      <td>510</td>\n",
       "    </tr>\n",
       "    <tr>\n",
       "      <th>black people</th>\n",
       "      <td>504</td>\n",
       "    </tr>\n",
       "    <tr>\n",
       "      <th>trans people</th>\n",
       "      <td>485</td>\n",
       "    </tr>\n",
       "    <tr>\n",
       "      <th>immigrants</th>\n",
       "      <td>485</td>\n",
       "    </tr>\n",
       "  </tbody>\n",
       "</table>\n",
       "</div>"
      ],
      "text/plain": [
       "                 count\n",
       "target_ident          \n",
       "gay people         577\n",
       "women              535\n",
       "disabled people    510\n",
       "Muslims            510\n",
       "black people       504\n",
       "trans people       485\n",
       "immigrants         485"
      ]
     },
     "metadata": {},
     "output_type": "display_data"
    }
   ],
   "source": [
    "# Using display() to display both at the same time without weird notebook formatting.\n",
    "# (Won't comment on any future use of display() again. Same as for any other obvious piece of code)\n",
    "display(\n",
    "    pd.DataFrame(data['label_gold'].value_counts()),\n",
    "    pd.DataFrame(data['target_ident'].value_counts())\n",
    ")"
   ]
  },
  {
   "cell_type": "markdown",
   "id": "3cb51211",
   "metadata": {},
   "source": [
    "No unusually short/long texts"
   ]
  },
  {
   "cell_type": "code",
   "execution_count": 433,
   "id": "02f8d1f1",
   "metadata": {},
   "outputs": [
    {
     "name": "stdout",
     "output_type": "stream",
     "text": [
      "Shortest: 104 chars, \"When will it finally be clear to people that it's in a disabled person's nature to be an annoying prick?\"\n",
      "Longest: 11 chars, \"Ihate women\"\n"
     ]
    }
   ],
   "source": [
    "longest_text_length = data['test_case'].str.len().max()\n",
    "shortest_text_length = data['test_case'].str.len().min()\n",
    "\n",
    "longest_text_index = data['test_case'].str.len().idxmax()\n",
    "shortest_text_index = data['test_case'].str.len().idxmin()\n",
    "\n",
    "print(\n",
    "    f'''Shortest: {longest_text_length} chars, \"{data['test_case'][longest_text_index]}\"\\n'''\n",
    "    f'''Longest: {shortest_text_length} chars, \"{data['test_case'][shortest_text_index]}\"'''\n",
    ")"
   ]
  },
  {
   "cell_type": "markdown",
   "id": "99bc3645",
   "metadata": {},
   "source": [
    "### Data cleaning"
   ]
  },
  {
   "cell_type": "markdown",
   "id": "a99d2b61",
   "metadata": {},
   "source": [
    "Drop irrelevant columns and rename the rest to something more appropriate"
   ]
  },
  {
   "cell_type": "code",
   "execution_count": 434,
   "id": "95f2d88a",
   "metadata": {},
   "outputs": [
    {
     "data": {
      "text/html": [
       "<div>\n",
       "<style scoped>\n",
       "    .dataframe tbody tr th:only-of-type {\n",
       "        vertical-align: middle;\n",
       "    }\n",
       "\n",
       "    .dataframe tbody tr th {\n",
       "        vertical-align: top;\n",
       "    }\n",
       "\n",
       "    .dataframe thead th {\n",
       "        text-align: right;\n",
       "    }\n",
       "</style>\n",
       "<table border=\"1\" class=\"dataframe\">\n",
       "  <thead>\n",
       "    <tr style=\"text-align: right;\">\n",
       "      <th></th>\n",
       "      <th>text</th>\n",
       "      <th>label</th>\n",
       "      <th>target</th>\n",
       "    </tr>\n",
       "  </thead>\n",
       "  <tbody>\n",
       "    <tr>\n",
       "      <th>0</th>\n",
       "      <td>I hate women.</td>\n",
       "      <td>hateful</td>\n",
       "      <td>women</td>\n",
       "    </tr>\n",
       "    <tr>\n",
       "      <th>1</th>\n",
       "      <td>I hate trans people.</td>\n",
       "      <td>hateful</td>\n",
       "      <td>trans people</td>\n",
       "    </tr>\n",
       "    <tr>\n",
       "      <th>2</th>\n",
       "      <td>I hate gay people.</td>\n",
       "      <td>hateful</td>\n",
       "      <td>gay people</td>\n",
       "    </tr>\n",
       "    <tr>\n",
       "      <th>3</th>\n",
       "      <td>I hate black people.</td>\n",
       "      <td>hateful</td>\n",
       "      <td>black people</td>\n",
       "    </tr>\n",
       "    <tr>\n",
       "      <th>4</th>\n",
       "      <td>I hate disabled people.</td>\n",
       "      <td>hateful</td>\n",
       "      <td>disabled people</td>\n",
       "    </tr>\n",
       "  </tbody>\n",
       "</table>\n",
       "</div>"
      ],
      "text/plain": [
       "                       text    label           target\n",
       "0            I hate women.   hateful            women\n",
       "1     I hate trans people.   hateful     trans people\n",
       "2       I hate gay people.   hateful       gay people\n",
       "3     I hate black people.   hateful     black people\n",
       "4  I hate disabled people.   hateful  disabled people"
      ]
     },
     "execution_count": 434,
     "metadata": {},
     "output_type": "execute_result"
    }
   ],
   "source": [
    "data = data.drop('case_id', axis=1)\n",
    "data = data.rename(columns=\n",
    "{\n",
    "    'test_case': 'text',\n",
    "    'label_gold': 'label',\n",
    "    'target_ident': 'target',\n",
    "})\n",
    "\n",
    "data.head()"
   ]
  },
  {
   "cell_type": "markdown",
   "id": "9c7a93d9",
   "metadata": {},
   "source": [
    "It appears as though non of the missing targets have any relevant hate speech associated with them. This can easily be varified by manually looking at the dataset (given its tiny size), But alas, given my horrendous dyslexia i decided to programmatically varify it as a sanity check"
   ]
  },
  {
   "cell_type": "code",
   "execution_count": 435,
   "id": "13deda2d",
   "metadata": {},
   "outputs": [],
   "source": [
    "# Easier than grabbing them from the \"target\" column and removing the trailing \"people\"\n",
    "target_search_words = [\n",
    "    'gay',\n",
    "    'women',\n",
    "    'disabled',\n",
    "    'Muslims',\n",
    "    'black',\n",
    "    'trans',\n",
    "    'immigrants'\n",
    "]\n",
    "\n",
    "target_nans = data[data['target'].isna()]\n",
    "\n",
    "'''\n",
    "After having spent 9 hours (no kidding) trying to make this piece of *** work with pandas queries,\n",
    "i settled for the caveman solution of two loops. Being bad at programming is frankly an understatement at this point.\n",
    "Might as well dig my own grave. And even that'd be done using for loops...\n",
    "'''\n",
    "for _, row in target_nans.iterrows():\n",
    "    for target_search_word in target_search_words:\n",
    "        # Split by words and search each one\n",
    "        if target_search_word in row['text'].split(' '):\n",
    "            print(f'''found target word in: \"{row['text']}\" row''')"
   ]
  },
  {
   "cell_type": "markdown",
   "id": "763d7427",
   "metadata": {},
   "source": [
    "I'm now confident in dropping all rows with target NaN values"
   ]
  },
  {
   "cell_type": "code",
   "execution_count": 436,
   "id": "23295a44",
   "metadata": {},
   "outputs": [],
   "source": [
    "data = data.dropna()"
   ]
  },
  {
   "cell_type": "markdown",
   "id": "5bf744ae",
   "metadata": {},
   "source": [
    "Balancing the dataset"
   ]
  },
  {
   "cell_type": "code",
   "execution_count": 437,
   "id": "955d0920",
   "metadata": {},
   "outputs": [
    {
     "data": {
      "text/html": [
       "<div>\n",
       "<style scoped>\n",
       "    .dataframe tbody tr th:only-of-type {\n",
       "        vertical-align: middle;\n",
       "    }\n",
       "\n",
       "    .dataframe tbody tr th {\n",
       "        vertical-align: top;\n",
       "    }\n",
       "\n",
       "    .dataframe thead th {\n",
       "        text-align: right;\n",
       "    }\n",
       "</style>\n",
       "<table border=\"1\" class=\"dataframe\">\n",
       "  <thead>\n",
       "    <tr style=\"text-align: right;\">\n",
       "      <th></th>\n",
       "      <th>count</th>\n",
       "    </tr>\n",
       "    <tr>\n",
       "      <th>label</th>\n",
       "      <th></th>\n",
       "    </tr>\n",
       "  </thead>\n",
       "  <tbody>\n",
       "    <tr>\n",
       "      <th>hateful</th>\n",
       "      <td>947</td>\n",
       "    </tr>\n",
       "    <tr>\n",
       "      <th>non-hateful</th>\n",
       "      <td>947</td>\n",
       "    </tr>\n",
       "  </tbody>\n",
       "</table>\n",
       "</div>"
      ],
      "text/plain": [
       "             count\n",
       "label             \n",
       "hateful        947\n",
       "non-hateful    947"
      ]
     },
     "metadata": {},
     "output_type": "display_data"
    },
    {
     "data": {
      "text/html": [
       "<div>\n",
       "<style scoped>\n",
       "    .dataframe tbody tr th:only-of-type {\n",
       "        vertical-align: middle;\n",
       "    }\n",
       "\n",
       "    .dataframe tbody tr th {\n",
       "        vertical-align: top;\n",
       "    }\n",
       "\n",
       "    .dataframe thead th {\n",
       "        text-align: right;\n",
       "    }\n",
       "</style>\n",
       "<table border=\"1\" class=\"dataframe\">\n",
       "  <thead>\n",
       "    <tr style=\"text-align: right;\">\n",
       "      <th></th>\n",
       "      <th>count</th>\n",
       "    </tr>\n",
       "    <tr>\n",
       "      <th>target</th>\n",
       "      <th></th>\n",
       "    </tr>\n",
       "  </thead>\n",
       "  <tbody>\n",
       "    <tr>\n",
       "      <th>gay people</th>\n",
       "      <td>313</td>\n",
       "    </tr>\n",
       "    <tr>\n",
       "      <th>disabled people</th>\n",
       "      <td>287</td>\n",
       "    </tr>\n",
       "    <tr>\n",
       "      <th>women</th>\n",
       "      <td>286</td>\n",
       "    </tr>\n",
       "    <tr>\n",
       "      <th>Muslims</th>\n",
       "      <td>270</td>\n",
       "    </tr>\n",
       "    <tr>\n",
       "      <th>black people</th>\n",
       "      <td>258</td>\n",
       "    </tr>\n",
       "    <tr>\n",
       "      <th>trans people</th>\n",
       "      <td>241</td>\n",
       "    </tr>\n",
       "    <tr>\n",
       "      <th>immigrants</th>\n",
       "      <td>239</td>\n",
       "    </tr>\n",
       "  </tbody>\n",
       "</table>\n",
       "</div>"
      ],
      "text/plain": [
       "                 count\n",
       "target                \n",
       "gay people         313\n",
       "disabled people    287\n",
       "women              286\n",
       "Muslims            270\n",
       "black people       258\n",
       "trans people       241\n",
       "immigrants         239"
      ]
     },
     "metadata": {},
     "output_type": "display_data"
    }
   ],
   "source": [
    "# Get the number of hate/non-hate rows\n",
    "hateful_count = data['label'].value_counts()['hateful']\n",
    "non_hateful_count = data['label'].value_counts()['non-hateful']\n",
    "\n",
    "hateful_to_drop_count = hateful_count - non_hateful_count\n",
    "\n",
    "# Randomly sample the rows and drop\n",
    "rows_indexes_to_remove = data[data['label'] == 'hateful'].sample(n=hateful_to_drop_count).index\n",
    "data = data.drop(rows_indexes_to_remove)\n",
    "\n",
    "display(\n",
    "    pd.DataFrame(data['label'].value_counts()),\n",
    "    pd.DataFrame(data['target'].value_counts())\n",
    ")"
   ]
  },
  {
   "cell_type": "markdown",
   "id": "613833d5",
   "metadata": {},
   "source": [
    "### Data Preprocessing"
   ]
  },
  {
   "cell_type": "markdown",
   "id": "f606c944",
   "metadata": {},
   "source": [
    "Shuffle the dataset"
   ]
  },
  {
   "cell_type": "code",
   "execution_count": 438,
   "id": "a0c1182a",
   "metadata": {},
   "outputs": [
    {
     "data": {
      "text/html": [
       "<div>\n",
       "<style scoped>\n",
       "    .dataframe tbody tr th:only-of-type {\n",
       "        vertical-align: middle;\n",
       "    }\n",
       "\n",
       "    .dataframe tbody tr th {\n",
       "        vertical-align: top;\n",
       "    }\n",
       "\n",
       "    .dataframe thead th {\n",
       "        text-align: right;\n",
       "    }\n",
       "</style>\n",
       "<table border=\"1\" class=\"dataframe\">\n",
       "  <thead>\n",
       "    <tr style=\"text-align: right;\">\n",
       "      <th></th>\n",
       "      <th>text</th>\n",
       "      <th>label</th>\n",
       "      <th>target</th>\n",
       "    </tr>\n",
       "  </thead>\n",
       "  <tbody>\n",
       "    <tr>\n",
       "      <th>0</th>\n",
       "      <td>The world would be worse off without Muslims l...</td>\n",
       "      <td>non-hateful</td>\n",
       "      <td>Muslims</td>\n",
       "    </tr>\n",
       "    <tr>\n",
       "      <th>1</th>\n",
       "      <td>I don't like people in general but I have no p...</td>\n",
       "      <td>non-hateful</td>\n",
       "      <td>gay people</td>\n",
       "    </tr>\n",
       "    <tr>\n",
       "      <th>2</th>\n",
       "      <td>You must be seriously sad to write things like...</td>\n",
       "      <td>non-hateful</td>\n",
       "      <td>gay people</td>\n",
       "    </tr>\n",
       "    <tr>\n",
       "      <th>3</th>\n",
       "      <td>I absolutely loathe black people.</td>\n",
       "      <td>hateful</td>\n",
       "      <td>black people</td>\n",
       "    </tr>\n",
       "    <tr>\n",
       "      <th>4</th>\n",
       "      <td>You disabled people are all dishonest.</td>\n",
       "      <td>hateful</td>\n",
       "      <td>disabled people</td>\n",
       "    </tr>\n",
       "  </tbody>\n",
       "</table>\n",
       "</div>"
      ],
      "text/plain": [
       "                                                text        label  \\\n",
       "0  The world would be worse off without Muslims l...  non-hateful   \n",
       "1  I don't like people in general but I have no p...  non-hateful   \n",
       "2  You must be seriously sad to write things like...  non-hateful   \n",
       "3                 I absolutely loathe black people.       hateful   \n",
       "4            You disabled people are all dishonest.       hateful   \n",
       "\n",
       "            target  \n",
       "0          Muslims  \n",
       "1       gay people  \n",
       "2       gay people  \n",
       "3     black people  \n",
       "4  disabled people  "
      ]
     },
     "execution_count": 438,
     "metadata": {},
     "output_type": "execute_result"
    }
   ],
   "source": [
    "data = data.sample(frac=1)\n",
    "\n",
    "# Reset index after having both balanced and shuffled\n",
    "data = data.reset_index(drop=True)\n",
    "data.head()"
   ]
  },
  {
   "cell_type": "markdown",
   "id": "14820be4",
   "metadata": {},
   "source": [
    "Tokenize and pad the texts"
   ]
  },
  {
   "cell_type": "code",
   "execution_count": 439,
   "id": "6f102123",
   "metadata": {},
   "outputs": [
    {
     "name": "stdout",
     "output_type": "stream",
     "text": [
      "Sequence 0: [10, 121, 34, 9, 169, 131, 143, 22, 7, 4]\n",
      "Sequence 1: [6, 84, 7, 1, 13, 308, 36, 6, 29, 46, 309, 148, 20, 16, 1]\n",
      "Sequence 2: [4, 71, 9, 103, 279, 3, 104, 105, 7, 16, 1, 68, 3, 98]\n",
      "Sequence 3: [6, 77, 445, 14, 1]\n",
      "Sequence 4: [4, 12, 1, 2, 8, 423]\n"
     ]
    }
   ],
   "source": [
    "max_words_to_use = 1000\n",
    "\n",
    "# Use 1k words as that's plenty for our use case\n",
    "tokenizer = Tokenizer(num_words=max_words_to_use)\n",
    "tokenizer.fit_on_texts(data['text'])\n",
    "tokenized_texts = tokenizer.texts_to_sequences(data['text'])\n",
    "\n",
    "# printing using loop for easier viewing\n",
    "for i in range(5):\n",
    "    print(f'Sequence {i}: {tokenized_texts[i]}')"
   ]
  },
  {
   "cell_type": "markdown",
   "id": "bbb0f45c",
   "metadata": {},
   "source": [
    "Given the stochasticity of \"sample()\" when balancing our dataset, we now need to figure out the longest sequence of tokenized words before we can perform padding.\n",
    "###### _Well... we don't technically need to know this... but i'd certainly never forgive myself knowing i had left unnecessary zeros in the padding process._"
   ]
  },
  {
   "cell_type": "code",
   "execution_count": 440,
   "id": "2f3412e5",
   "metadata": {},
   "outputs": [
    {
     "name": "stdout",
     "output_type": "stream",
     "text": [
      "longest sequence: 20\n"
     ]
    }
   ],
   "source": [
    "max_sequence_length = len(max(tokenized_texts, key=len))\n",
    "print(f'longest sequence: {max_sequence_length}')"
   ]
  },
  {
   "cell_type": "code",
   "execution_count": 441,
   "id": "690ce80a",
   "metadata": {},
   "outputs": [
    {
     "name": "stdout",
     "output_type": "stream",
     "text": [
      "seq 0: [0, 0, 0, 0, 0, 0, 0, 0, 0, 0, 0, 0, 0, 0, 0, 0, 0, 0, 0, 0, 0, 0, 0, 0, 0, 0, 0, 0, 0, 0, 10, 121, 34, 9, 169, 131, 143, 22, 7, 4]\n",
      "seq 1: [0, 0, 0, 0, 0, 0, 0, 0, 0, 0, 0, 0, 0, 0, 0, 0, 0, 0, 0, 0, 0, 0, 0, 0, 0, 6, 84, 7, 1, 13, 308, 36, 6, 29, 46, 309, 148, 20, 16, 1]\n",
      "seq 2: [0, 0, 0, 0, 0, 0, 0, 0, 0, 0, 0, 0, 0, 0, 0, 0, 0, 0, 0, 0, 0, 0, 0, 0, 0, 0, 4, 71, 9, 103, 279, 3, 104, 105, 7, 16, 1, 68, 3, 98]\n",
      "seq 3: [0, 0, 0, 0, 0, 0, 0, 0, 0, 0, 0, 0, 0, 0, 0, 0, 0, 0, 0, 0, 0, 0, 0, 0, 0, 0, 0, 0, 0, 0, 0, 0, 0, 0, 0, 6, 77, 445, 14, 1]\n",
      "seq 4: [0, 0, 0, 0, 0, 0, 0, 0, 0, 0, 0, 0, 0, 0, 0, 0, 0, 0, 0, 0, 0, 0, 0, 0, 0, 0, 0, 0, 0, 0, 0, 0, 0, 0, 4, 12, 1, 2, 8, 423]\n"
     ]
    }
   ],
   "source": [
    "# Double the max padding length to allow for longer sentences to be classified once we use actually wanna use the model.\n",
    "# (The resource hit is negligable)\n",
    "max_sequence_length = max_sequence_length * 2\n",
    "\n",
    "# Pad the sequences to make them of uniform length\n",
    "tokenized_padded_texts = pad_sequences(tokenized_texts, maxlen=max_sequence_length)\n",
    "\n",
    "for i in range(5):\n",
    "    print(f'seq {i}: {tokenized_padded_texts[i].tolist()}')"
   ]
  },
  {
   "cell_type": "markdown",
   "id": "0fdc6ff0",
   "metadata": {},
   "source": [
    "One-hot encode the labels"
   ]
  },
  {
   "cell_type": "code",
   "execution_count": 442,
   "id": "606d143d",
   "metadata": {},
   "outputs": [
    {
     "name": "stdout",
     "output_type": "stream",
     "text": [
      "labels: [[1], [1], [1], [0], [0]]\n",
      "Target 0: [1, 0, 0, 0, 0, 0, 0]\n",
      "Target 1: [0, 0, 0, 1, 0, 0, 0]\n",
      "Target 2: [0, 0, 0, 1, 0, 0, 0]\n",
      "Target 3: [0, 1, 0, 0, 0, 0, 0]\n",
      "Target 4: [0, 0, 1, 0, 0, 0, 0]\n"
     ]
    }
   ],
   "source": [
    "label_binarizer = LabelBinarizer()\n",
    "onehot_encoded_labels = label_binarizer.fit_transform(data['label'])\n",
    "onehot_encoded_targets = label_binarizer.fit_transform(data['target'])\n",
    "\n",
    "print(f'labels: {onehot_encoded_labels.tolist()[:5]}')\n",
    "\n",
    "for i in range(5):\n",
    "    print(f'Target {i}: {onehot_encoded_targets[i].tolist()}')"
   ]
  },
  {
   "cell_type": "markdown",
   "id": "75e6a0c1",
   "metadata": {},
   "source": [
    "Train/test split"
   ]
  },
  {
   "cell_type": "code",
   "execution_count": 443,
   "id": "be632ce0",
   "metadata": {},
   "outputs": [
    {
     "name": "stdout",
     "output_type": "stream",
     "text": [
      "train_texts shape: (1515, 40)\n",
      "train_labels shape: (1515, 1)\n",
      "train_targets shape: (1515, 7)\n",
      "test_texts shape: (379, 40)\n",
      "test_labels shape: (379, 1)\n",
      "test_targets shape: (379, 7)\n"
     ]
    }
   ],
   "source": [
    "train_texts, test_texts, train_labels, test_labels, train_targets, test_targets = train_test_split(\n",
    "    tokenized_padded_texts,\n",
    "    onehot_encoded_labels,\n",
    "    onehot_encoded_targets,\n",
    "    test_size=0.2\n",
    ")\n",
    "\n",
    "print(\n",
    "    f'train_texts shape: {np.shape(train_texts)}\\n'\n",
    "    f'train_labels shape: {np.shape(train_labels)}\\n'\n",
    "    f'train_targets shape: {np.shape(train_targets)}\\n'\n",
    "    f'test_texts shape: {np.shape(test_texts)}\\n'\n",
    "    f'test_labels shape: {np.shape(test_labels)}\\n'\n",
    "    f'test_targets shape: {np.shape(test_targets)}'\n",
    ")"
   ]
  },
  {
   "cell_type": "markdown",
   "id": "c71408a5",
   "metadata": {},
   "source": [
    "# Model building, training and testing\n",
    "###### At last!"
   ]
  },
  {
   "cell_type": "code",
   "execution_count": 444,
   "id": "7640120a",
   "metadata": {},
   "outputs": [
    {
     "name": "stdout",
     "output_type": "stream",
     "text": [
      "Epoch 1/100\n"
     ]
    },
    {
     "name": "stdout",
     "output_type": "stream",
     "text": [
      "38/38 [==============================] - 7s 45ms/step - loss: 0.6847 - accuracy: 0.5520 - val_loss: 0.6684 - val_accuracy: 0.7657\n",
      "Epoch 2/100\n",
      "38/38 [==============================] - 1s 31ms/step - loss: 0.6027 - accuracy: 0.7599 - val_loss: 0.5074 - val_accuracy: 0.7789\n",
      "Epoch 3/100\n",
      "38/38 [==============================] - 1s 28ms/step - loss: 0.3902 - accuracy: 0.8416 - val_loss: 0.3918 - val_accuracy: 0.8152\n",
      "Epoch 4/100\n",
      "38/38 [==============================] - 1s 33ms/step - loss: 0.2312 - accuracy: 0.9208 - val_loss: 0.2471 - val_accuracy: 0.8977\n",
      "Epoch 5/100\n",
      "38/38 [==============================] - 1s 27ms/step - loss: 0.1369 - accuracy: 0.9563 - val_loss: 0.1898 - val_accuracy: 0.9505\n",
      "Epoch 6/100\n",
      "38/38 [==============================] - 1s 36ms/step - loss: 0.0747 - accuracy: 0.9818 - val_loss: 0.1584 - val_accuracy: 0.9571\n",
      "Epoch 7/100\n",
      "38/38 [==============================] - 1s 34ms/step - loss: 0.0431 - accuracy: 0.9934 - val_loss: 0.1164 - val_accuracy: 0.9538\n",
      "Epoch 8/100\n",
      "38/38 [==============================] - 1s 33ms/step - loss: 0.0223 - accuracy: 0.9983 - val_loss: 0.1155 - val_accuracy: 0.9604\n",
      "Epoch 9/100\n",
      "38/38 [==============================] - 1s 33ms/step - loss: 0.0308 - accuracy: 0.9942 - val_loss: 0.1307 - val_accuracy: 0.9670\n",
      "Epoch 10/100\n",
      "38/38 [==============================] - 1s 34ms/step - loss: 0.0162 - accuracy: 0.9975 - val_loss: 0.0930 - val_accuracy: 0.9736\n",
      "Epoch 11/100\n",
      "38/38 [==============================] - 1s 40ms/step - loss: 0.0075 - accuracy: 1.0000 - val_loss: 0.0925 - val_accuracy: 0.9769\n",
      "Epoch 12/100\n",
      "38/38 [==============================] - 1s 27ms/step - loss: 0.0052 - accuracy: 1.0000 - val_loss: 0.0922 - val_accuracy: 0.9802\n",
      "Epoch 13/100\n",
      "38/38 [==============================] - 1s 26ms/step - loss: 0.0043 - accuracy: 1.0000 - val_loss: 0.0986 - val_accuracy: 0.9736\n",
      "Epoch 14/100\n",
      "38/38 [==============================] - 1s 26ms/step - loss: 0.0038 - accuracy: 1.0000 - val_loss: 0.1126 - val_accuracy: 0.9736\n",
      "Epoch 15/100\n",
      "38/38 [==============================] - 1s 27ms/step - loss: 0.0029 - accuracy: 1.0000 - val_loss: 0.1009 - val_accuracy: 0.9736\n",
      "Epoch 16/100\n",
      "38/38 [==============================] - 1s 27ms/step - loss: 0.0023 - accuracy: 1.0000 - val_loss: 0.0979 - val_accuracy: 0.9802\n",
      "Epoch 17/100\n",
      "38/38 [==============================] - 1s 26ms/step - loss: 0.0020 - accuracy: 1.0000 - val_loss: 0.1020 - val_accuracy: 0.9736\n",
      "Epoch 18/100\n",
      "38/38 [==============================] - 1s 26ms/step - loss: 0.0017 - accuracy: 1.0000 - val_loss: 0.1007 - val_accuracy: 0.9802\n",
      "Epoch 19/100\n",
      "38/38 [==============================] - 1s 27ms/step - loss: 0.0020 - accuracy: 1.0000 - val_loss: 0.1151 - val_accuracy: 0.9736\n",
      "Epoch 20/100\n",
      "38/38 [==============================] - 1s 27ms/step - loss: 0.0016 - accuracy: 1.0000 - val_loss: 0.1039 - val_accuracy: 0.9736\n",
      "Epoch 21/100\n",
      "38/38 [==============================] - 1s 26ms/step - loss: 0.0012 - accuracy: 1.0000 - val_loss: 0.1103 - val_accuracy: 0.9736\n",
      "Epoch 22/100\n",
      "38/38 [==============================] - 1s 27ms/step - loss: 0.0011 - accuracy: 1.0000 - val_loss: 0.1061 - val_accuracy: 0.9769\n",
      "Epoch 1/100\n",
      "38/38 [==============================] - 5s 45ms/step - loss: 1.9378 - accuracy: 0.1592 - val_loss: 1.9215 - val_accuracy: 0.1947\n",
      "Epoch 2/100\n",
      "38/38 [==============================] - 1s 27ms/step - loss: 1.8785 - accuracy: 0.2781 - val_loss: 1.8228 - val_accuracy: 0.3993\n",
      "Epoch 3/100\n",
      "38/38 [==============================] - 1s 29ms/step - loss: 1.6059 - accuracy: 0.4356 - val_loss: 1.4818 - val_accuracy: 0.3630\n",
      "Epoch 4/100\n",
      "38/38 [==============================] - 1s 29ms/step - loss: 1.1271 - accuracy: 0.6386 - val_loss: 1.1012 - val_accuracy: 0.6271\n",
      "Epoch 5/100\n",
      "38/38 [==============================] - 1s 27ms/step - loss: 0.7601 - accuracy: 0.8606 - val_loss: 0.7567 - val_accuracy: 0.8548\n",
      "Epoch 6/100\n",
      "38/38 [==============================] - 1s 28ms/step - loss: 0.4761 - accuracy: 0.9208 - val_loss: 0.6091 - val_accuracy: 0.8416\n",
      "Epoch 7/100\n",
      "38/38 [==============================] - 1s 27ms/step - loss: 0.3207 - accuracy: 0.9579 - val_loss: 0.4939 - val_accuracy: 0.8647\n",
      "Epoch 8/100\n",
      "38/38 [==============================] - 1s 27ms/step - loss: 0.2433 - accuracy: 0.9645 - val_loss: 0.4068 - val_accuracy: 0.9109\n",
      "Epoch 9/100\n",
      "38/38 [==============================] - 1s 26ms/step - loss: 0.1763 - accuracy: 0.9695 - val_loss: 0.3428 - val_accuracy: 0.9142\n",
      "Epoch 10/100\n",
      "38/38 [==============================] - 1s 26ms/step - loss: 0.1261 - accuracy: 0.9901 - val_loss: 0.3406 - val_accuracy: 0.9109\n",
      "Epoch 11/100\n",
      "38/38 [==============================] - 1s 27ms/step - loss: 0.1000 - accuracy: 0.9901 - val_loss: 0.3255 - val_accuracy: 0.9076\n",
      "Epoch 12/100\n",
      "38/38 [==============================] - 1s 26ms/step - loss: 0.0830 - accuracy: 0.9893 - val_loss: 0.3183 - val_accuracy: 0.9076\n",
      "Epoch 13/100\n",
      "38/38 [==============================] - 1s 26ms/step - loss: 0.0735 - accuracy: 0.9926 - val_loss: 0.3054 - val_accuracy: 0.9175\n",
      "Epoch 14/100\n",
      "38/38 [==============================] - 1s 26ms/step - loss: 0.0573 - accuracy: 0.9959 - val_loss: 0.2830 - val_accuracy: 0.9274\n",
      "Epoch 15/100\n",
      "38/38 [==============================] - 1s 27ms/step - loss: 0.0526 - accuracy: 0.9967 - val_loss: 0.2672 - val_accuracy: 0.9274\n",
      "Epoch 16/100\n",
      "38/38 [==============================] - 1s 26ms/step - loss: 0.0434 - accuracy: 0.9975 - val_loss: 0.2431 - val_accuracy: 0.9439\n",
      "Epoch 17/100\n",
      "38/38 [==============================] - 1s 30ms/step - loss: 0.0396 - accuracy: 0.9975 - val_loss: 0.2905 - val_accuracy: 0.9274\n",
      "Epoch 18/100\n",
      "38/38 [==============================] - 1s 26ms/step - loss: 0.0341 - accuracy: 0.9983 - val_loss: 0.2387 - val_accuracy: 0.9406\n",
      "Epoch 19/100\n",
      "38/38 [==============================] - 1s 27ms/step - loss: 0.0299 - accuracy: 0.9992 - val_loss: 0.2570 - val_accuracy: 0.9274\n",
      "Epoch 20/100\n",
      "38/38 [==============================] - 1s 31ms/step - loss: 0.0295 - accuracy: 0.9975 - val_loss: 0.2657 - val_accuracy: 0.9340\n",
      "Epoch 21/100\n",
      "38/38 [==============================] - 1s 26ms/step - loss: 0.0263 - accuracy: 0.9983 - val_loss: 0.3113 - val_accuracy: 0.9109\n",
      "Epoch 22/100\n",
      "38/38 [==============================] - 1s 25ms/step - loss: 0.0259 - accuracy: 0.9975 - val_loss: 0.2600 - val_accuracy: 0.9307\n",
      "Epoch 23/100\n",
      "38/38 [==============================] - 1s 24ms/step - loss: 0.0214 - accuracy: 0.9975 - val_loss: 0.2691 - val_accuracy: 0.9340\n",
      "Epoch 24/100\n",
      "38/38 [==============================] - 1s 23ms/step - loss: 0.0197 - accuracy: 0.9975 - val_loss: 0.2879 - val_accuracy: 0.9175\n",
      "Epoch 25/100\n",
      "38/38 [==============================] - 1s 23ms/step - loss: 0.0194 - accuracy: 0.9983 - val_loss: 0.2078 - val_accuracy: 0.9406\n",
      "Epoch 26/100\n",
      "38/38 [==============================] - 1s 26ms/step - loss: 0.0180 - accuracy: 0.9975 - val_loss: 0.2248 - val_accuracy: 0.9373\n",
      "Epoch 27/100\n",
      "38/38 [==============================] - 1s 23ms/step - loss: 0.0166 - accuracy: 0.9975 - val_loss: 0.2536 - val_accuracy: 0.9241\n",
      "Epoch 28/100\n",
      "38/38 [==============================] - 1s 23ms/step - loss: 0.0146 - accuracy: 0.9992 - val_loss: 0.2488 - val_accuracy: 0.9373\n",
      "Epoch 29/100\n",
      "38/38 [==============================] - 1s 23ms/step - loss: 0.0137 - accuracy: 0.9983 - val_loss: 0.2629 - val_accuracy: 0.9373\n",
      "Epoch 30/100\n",
      "38/38 [==============================] - 1s 23ms/step - loss: 0.0139 - accuracy: 0.9983 - val_loss: 0.2364 - val_accuracy: 0.9373\n",
      "Epoch 31/100\n",
      "38/38 [==============================] - 1s 25ms/step - loss: 0.0126 - accuracy: 0.9983 - val_loss: 0.2540 - val_accuracy: 0.9340\n",
      "Epoch 32/100\n",
      "38/38 [==============================] - 1s 23ms/step - loss: 0.0116 - accuracy: 0.9975 - val_loss: 0.2562 - val_accuracy: 0.9274\n",
      "Epoch 33/100\n",
      "38/38 [==============================] - 1s 25ms/step - loss: 0.0144 - accuracy: 0.9983 - val_loss: 0.3150 - val_accuracy: 0.9142\n",
      "Epoch 34/100\n",
      "38/38 [==============================] - 1s 24ms/step - loss: 0.0107 - accuracy: 0.9983 - val_loss: 0.2424 - val_accuracy: 0.9373\n",
      "Epoch 35/100\n",
      "38/38 [==============================] - 1s 25ms/step - loss: 0.0102 - accuracy: 0.9983 - val_loss: 0.2320 - val_accuracy: 0.9406\n"
     ]
    }
   ],
   "source": [
    "# All models and histories will be stored here\n",
    "models = {}\n",
    "\n",
    "# Easiest and most human readable way of doing it while training two models with different parameters\n",
    "# without having to use a bunch of ugly if-statements and duplicate code. Trust me, i tried the other methods.\n",
    "model_parameters = zip(\n",
    "    ['Hate Detection', 'Target Detection'],\n",
    "    [train_labels, train_targets],\n",
    "    ['sigmoid', 'softmax'],\n",
    "    ['binary_crossentropy', 'categorical_crossentropy']\n",
    ")\n",
    "\n",
    "for model_name, labels, output_activation_function, loss_function in model_parameters:\n",
    "    model = Sequential([\n",
    "        Embedding(\n",
    "            input_dim=max_words_to_use,\n",
    "            input_length=max_sequence_length,\n",
    "            output_dim=32\n",
    "        ),\n",
    "        LSTM(units=32, activation='tanh'),\n",
    "        \n",
    "        # The number of neurons at the output depends on the number of classes.\n",
    "        # We get the number of classes by taking the shape of the label arrays as they're one-hot encoded\n",
    "        Dense(labels.shape[1], activation=output_activation_function)\n",
    "    ])\n",
    "\n",
    "    model.compile(optimizer='adam', loss=loss_function, metrics=['accuracy'])\n",
    "\n",
    "    # Using a patience and start_from_epoch of 10 as the model is still all over the place before that\n",
    "    early_stopping = EarlyStopping(monitor='val_loss', patience=10, restore_best_weights=True, start_from_epoch=10)\n",
    "    history = model.fit(train_texts, labels, epochs=100, validation_split=0.2, callbacks=[early_stopping], verbose=1)\n",
    "    models[model_name] = {'model': model, 'history': history}"
   ]
  },
  {
   "cell_type": "code",
   "execution_count": 445,
   "id": "73bf96f3",
   "metadata": {},
   "outputs": [
    {
     "data": {
      "image/png": "[encoded data removed]",
      "text/plain": [
       "<Figure size 1200x400 with 2 Axes>"
      ]
     },
     "metadata": {},
     "output_type": "display_data"
    },
    {
     "data": {
      "image/png": "[encoded data removed]",
      "text/plain": [
       "<Figure size 800x600 with 2 Axes>"
      ]
     },
     "metadata": {},
     "output_type": "display_data"
    },
    {
     "name": "stdout",
     "output_type": "stream",
     "text": [
      "Hate Detection model testing:\n",
      "Accuracy: 99.0%\n",
      "Loss: 0.09\n",
      "F1: 0.9868110632737993\n"
     ]
    },
    {
     "data": {
      "image/png": "[encoded data removed]",
      "text/plain": [
       "<Figure size 1200x400 with 2 Axes>"
      ]
     },
     "metadata": {},
     "output_type": "display_data"
    },
    {
     "data": {
      "image/png": "[encoded data removed]",
      "text/plain": [
       "<Figure size 800x600 with 2 Axes>"
      ]
     },
     "metadata": {},
     "output_type": "display_data"
    },
    {
     "name": "stdout",
     "output_type": "stream",
     "text": [
      "Target Detection model testing:\n",
      "Accuracy: 95.0%\n",
      "Loss: 0.21\n",
      "F1: 0.9473075124219509\n"
     ]
    }
   ],
   "source": [
    "# Self explanatory code \n",
    "for (model_name, model), labels in zip(models.items(), [test_labels, test_targets]):\n",
    "    test_loss, test_accuracy = model['model'].evaluate(test_texts, labels, verbose=0)\n",
    "    predictions = model['model'].predict(test_texts, verbose=0)\n",
    "    \n",
    "    if labels.shape[1] == 1: # For binary model\n",
    "        # Translate based on if prediction probability is above/below 50%\n",
    "        predicted_classes = (predictions >= 0.5).astype(int).flatten()\n",
    "        actual_classes = labels.flatten()\n",
    "    else: # For multi-class model\n",
    "        # Translate using argmax to convert into number labels\n",
    "        predicted_classes = np.argmax(predictions, axis=1)\n",
    "        actual_classes = np.argmax(labels, axis=1)\n",
    "\n",
    "    f1 = f1_score(actual_classes, predicted_classes, average='weighted')\n",
    "    cm = confusion_matrix(actual_classes, predicted_classes)\n",
    "    \n",
    "    plt.figure(figsize=(12, 4))\n",
    "    \n",
    "    for subplot, metric in enumerate(['accuracy', 'loss'], 1):\n",
    "        plt.subplot(1, 2, subplot)\n",
    "        plt.plot(model['history'].history[metric], label='Training Accuracy')\n",
    "        plt.plot(model['history'].history[f'val_{metric}'], label='Validation Accuracy')\n",
    "        plt.xlabel('Epoch')\n",
    "        plt.ylabel(metric)\n",
    "        plt.legend()\n",
    "\n",
    "    plt.suptitle(f'{model_name} model training performance')\n",
    "    plt.show()\n",
    "\n",
    "    # Confusion matrix using seaborn as that was the simplest and best looking\n",
    "    plt.figure(figsize=(8, 6))\n",
    "    sns.heatmap(cm,\n",
    "        annot=True,\n",
    "        fmt='d',\n",
    "        cmap='Blues', \n",
    "        xticklabels=np.unique(actual_classes),\n",
    "        yticklabels=np.unique(actual_classes)\n",
    "    )\n",
    "    \n",
    "    plt.xlabel('Predicted')\n",
    "    plt.ylabel('Label')\n",
    "    plt.title(f'{model_name} model testing confusion matrix')\n",
    "    plt.show()\n",
    "    \n",
    "    print(\n",
    "        f'{model_name} model testing:\\n'\n",
    "        f'Accuracy: {round(test_accuracy, 2) * 100}%\\n'\n",
    "        f'Loss: {round(test_loss, 2)}\\n'\n",
    "        f'F1: {f1}'\n",
    "    )"
   ]
  },
  {
   "cell_type": "markdown",
   "id": "2f15706d",
   "metadata": {},
   "source": [
    "Real world usage"
   ]
  },
  {
   "cell_type": "code",
   "execution_count": 446,
   "id": "39d6f17c",
   "metadata": {},
   "outputs": [
    {
     "data": {
      "text/html": [
       "<div>\n",
       "<style scoped>\n",
       "    .dataframe tbody tr th:only-of-type {\n",
       "        vertical-align: middle;\n",
       "    }\n",
       "\n",
       "    .dataframe tbody tr th {\n",
       "        vertical-align: top;\n",
       "    }\n",
       "\n",
       "    .dataframe thead th {\n",
       "        text-align: right;\n",
       "    }\n",
       "</style>\n",
       "<table border=\"1\" class=\"dataframe\">\n",
       "  <thead>\n",
       "    <tr style=\"text-align: right;\">\n",
       "      <th></th>\n",
       "      <th>text</th>\n",
       "      <th>label</th>\n",
       "      <th>target</th>\n",
       "    </tr>\n",
       "  </thead>\n",
       "  <tbody>\n",
       "    <tr>\n",
       "      <th>0</th>\n",
       "      <td>The world would be worse off without Muslims l...</td>\n",
       "      <td>non-hateful</td>\n",
       "      <td>Muslims</td>\n",
       "    </tr>\n",
       "    <tr>\n",
       "      <th>1</th>\n",
       "      <td>I don't like people in general but I have no p...</td>\n",
       "      <td>non-hateful</td>\n",
       "      <td>gay people</td>\n",
       "    </tr>\n",
       "    <tr>\n",
       "      <th>2</th>\n",
       "      <td>You must be seriously sad to write things like...</td>\n",
       "      <td>non-hateful</td>\n",
       "      <td>gay people</td>\n",
       "    </tr>\n",
       "    <tr>\n",
       "      <th>3</th>\n",
       "      <td>I absolutely loathe black people.</td>\n",
       "      <td>hateful</td>\n",
       "      <td>black people</td>\n",
       "    </tr>\n",
       "    <tr>\n",
       "      <th>4</th>\n",
       "      <td>You disabled people are all dishonest.</td>\n",
       "      <td>hateful</td>\n",
       "      <td>disabled people</td>\n",
       "    </tr>\n",
       "    <tr>\n",
       "      <th>5</th>\n",
       "      <td>I will cut their female throats.</td>\n",
       "      <td>hateful</td>\n",
       "      <td>women</td>\n",
       "    </tr>\n",
       "    <tr>\n",
       "      <th>6</th>\n",
       "      <td>They must not get away with saying stuff like ...</td>\n",
       "      <td>non-hateful</td>\n",
       "      <td>women</td>\n",
       "    </tr>\n",
       "    <tr>\n",
       "      <th>7</th>\n",
       "      <td>There is nothing in the world I like less than...</td>\n",
       "      <td>hateful</td>\n",
       "      <td>gay people</td>\n",
       "    </tr>\n",
       "    <tr>\n",
       "      <th>8</th>\n",
       "      <td>Seeing immigrants in government makes me so pr...</td>\n",
       "      <td>non-hateful</td>\n",
       "      <td>immigrants</td>\n",
       "    </tr>\n",
       "    <tr>\n",
       "      <th>9</th>\n",
       "      <td>Women being in charge is a credit to our socie...</td>\n",
       "      <td>non-hateful</td>\n",
       "      <td>women</td>\n",
       "    </tr>\n",
       "  </tbody>\n",
       "</table>\n",
       "</div>"
      ],
      "text/plain": [
       "                                                text        label  \\\n",
       "0  The world would be worse off without Muslims l...  non-hateful   \n",
       "1  I don't like people in general but I have no p...  non-hateful   \n",
       "2  You must be seriously sad to write things like...  non-hateful   \n",
       "3                 I absolutely loathe black people.       hateful   \n",
       "4            You disabled people are all dishonest.       hateful   \n",
       "5                  I will cut their female throats.       hateful   \n",
       "6  They must not get away with saying stuff like ...  non-hateful   \n",
       "7  There is nothing in the world I like less than...      hateful   \n",
       "8  Seeing immigrants in government makes me so pr...  non-hateful   \n",
       "9  Women being in charge is a credit to our socie...  non-hateful   \n",
       "\n",
       "            target  \n",
       "0          Muslims  \n",
       "1       gay people  \n",
       "2       gay people  \n",
       "3     black people  \n",
       "4  disabled people  \n",
       "5            women  \n",
       "6            women  \n",
       "7       gay people  \n",
       "8       immigrants  \n",
       "9            women  "
      ]
     },
     "execution_count": 446,
     "metadata": {},
     "output_type": "execute_result"
    }
   ],
   "source": [
    "data[:10]"
   ]
  },
  {
   "cell_type": "code",
   "execution_count": 447,
   "id": "ce93d070",
   "metadata": {},
   "outputs": [
    {
     "data": {
      "text/plain": [
       "array([[  0,   0,   0,   0,   0,   0,   0,   0,   0,   0,   0,   0,   0,\n",
       "          0,   0,   0,   0,   0,   0,   0,   0,   0,   0,   0,   0,   0,\n",
       "          0,   0,   0,   0,   0,   0,   0,   0,   0,   0,   0,   6, 140,\n",
       "         23]])"
      ]
     },
     "execution_count": 447,
     "metadata": {},
     "output_type": "execute_result"
    }
   ],
   "source": [
    "# Convert to series as that's what texts_to_sequences() expects \n",
    "text = pd.Series('I love women')\n",
    "\n",
    "test = tokenizer.texts_to_sequences(pd.Series(text))\n",
    "test\n",
    "\n",
    "test = pad_sequences(test, maxlen=max_sequence_length)\n",
    "test"
   ]
  },
  {
   "cell_type": "code",
   "execution_count": 448,
   "id": "c26825cd",
   "metadata": {},
   "outputs": [
    {
     "data": {
      "text/plain": [
       "array([[0.8834865]], dtype=float32)"
      ]
     },
     "execution_count": 448,
     "metadata": {},
     "output_type": "execute_result"
    }
   ],
   "source": [
    "test = models['Hate Detection']['model'].predict(test, verbose=0)\n",
    "test"
   ]
  },
  {
   "cell_type": "code",
   "execution_count": 449,
   "id": "ebb74d71",
   "metadata": {},
   "outputs": [
    {
     "data": {
      "text/plain": [
       "array([1])"
      ]
     },
     "execution_count": 449,
     "metadata": {},
     "output_type": "execute_result"
    }
   ],
   "source": [
    "test = (test >= 0.5).astype(int).flatten()\n",
    "test"
   ]
  },
  {
   "cell_type": "code",
   "execution_count": null,
   "id": "f9cc1108",
   "metadata": {},
   "outputs": [],
   "source": []
  },
  {
   "cell_type": "markdown",
   "id": "89d3c795",
   "metadata": {},
   "source": [
    "### Q&A/Motivations"
   ]
  },
  {
   "cell_type": "markdown",
   "id": "2315463f",
   "metadata": {},
   "source": [
    "- #### Motivera din modell, dess arkitektur och val av relevanta hyperparametrar.\n",
    "    After doing some data exploration/generally examining the dataset i noticed that the spesific problem i was trying to solve was essentially perfect for an LSTM. The snippets of texts where short and to the point with minimal context needed in order to determin hate/non-hatefulness as well as the target group.\n",
    "\n",
    "    All i needed to do was train two models, one for each classification problem."
   ]
  },
  {
   "cell_type": "markdown",
   "id": "0652f4e6",
   "metadata": {},
   "source": [
    "# TEMPLATE\n",
    "\n",
    "- #### Motivera din modellarkitektur och val av relevanta hyperparametrar.<br>\n",
    "    \n",
    "    I initially settled on a \"vanilla\" RNN, but later decided on using an LSTM instead, given the task at hand. I non the less included both models for comparison purposes.\n",
    "    \n",
    "    The two models are both (obviously) based on the recurrent neural network architecture, with the only difference being that one is an LSTM. All other hyperparameters identical.\n",
    "\n",
    "    We start off by running the data through an embedding layer, which converts the words/tokens into dense vectors of fixed size. This helps to capture semantic relationships as words with similar meanings tend to have similar vector representations. This is essentially a must for RNNs performing tasks such as semantic analysis. After embedding the data, we feed it into our RNN with 32 units and an activation function of tanh (more on why later) and finally out to our output dense layer. That's it!<br>\n",
    "    It's an extremely simple yet surprisingly effective architecture.  \n",
    "\n",
    "    Now for the hyperparameter choices, which I'll be elaborating and explaning one by one.\n",
    "      \n",
    "  - SimpleRNN/LSTM units\n",
    "    - Experimented around with 8, 16, 32.. etc. until settling on 32, which gave me the best results. Essentially a bunch of trial and error.\n",
    "      \n",
    "  - SimpleRNN/LSTM activation\n",
    "    - Used tanh as it was generally the most fitting for RNNs. tanh provides a number of benefits when it comes to RNNs given it's bounded to -1 - 1, making the network less likely to suffer from things like vanishing gradient problems.\n",
    "  \n",
    "  - Dense units/activation\n",
    "    - 6 output neurons to account for our 6 labels, with the activation function being softmax as that helps in generating probabilities as output for classification.\n",
    "\n",
    "\n",
    "\n",
    "- #### Vilka aktiveringsfunktioner har du använt? Varför?\n",
    "  - Already stated above\n",
    "\n",
    "- #### Vilken loss funktion har du använt? Varför?\n",
    "  - Being that we're training a classifier, categorical_crossentropy seemed most appropriate. This because it's effective for training models to make accurate multi class predictions.\n",
    "\n",
    "- #### Har du använt någon databehandling? Varför?\n",
    "  - yes, plenty. In order for to feed textual data into the RNNs, i firstly needed to tokenize it. Tokenizing text simply converts it into a \"sequence\" of numbers which correspond to different words (delimited by a space). This is a must as neural networks work based off of numbers and not letters. The second order of business was to pad the sequences of numbers. Padding (in this case) involves ensuring that the sequences are of equal length, regardless of the underlying sentence length (which can obviously vary quite a bit). This is done by declaring a \"window\" of tokenized words which is than filled by zeros in order to \"pad\" the length up to a fixed size, in this case 100 words.\n",
    "  Lastly, i than one-hot encoded the labels in order for them to work with the networks categorical_crossentropy loss function.<br><br>Now, i could've also remove the stop words and performed lemmatization, but i simply didn't see a need. The amount of data we have is minuscule. It simply wouldn't benefit it. I also doubt model performance would change much. If anything, it may go down as the data would contain slightly less contextual information.\n",
    "  \n",
    "\n",
    "- #### Har du använt någon regulariseringsteknik? Motivera.\n",
    "  - Only early stopping. I was initially quite sure that I'd need to spend a good amount of time tinkering with various regularization techniques, but apparently not. The networks performed surprisingly well, with the only downside being that they started grossly overfitting at semi random epoch intervals. After having solved that issue, i opted for simplicity rather than pushing the bounds of accuracy.\n",
    "\n",
    "- #### Hur har modellen utvärderats?\n",
    "  - By looking at the test datas accuracy, loss f1 score and confusion matrix.\n",
    "\n",
    "- #### Är prestandan bra? Varför/ varför inte?\n",
    "  - Surprisingly.<br>\n",
    "  Wasn't expecting the RNN to whip out an >80% accuracy given such a simple architecture. Likewise for the LSTM. Just goes to show how good RNNs are at finding meaning in sequences of data. The LSTM does a bit better than the vanilla RNN alone, to no ones surprise. This is due to the LSTM performing better on longer sentences given its ability to \"recall\" context from what it has \"read\" from in \"the past\". Much like us humans.\n",
    "\n",
    "- #### Vad hade du kunnat göra för att förbättra den ytterligare?\n",
    "  - I'll paraphrase the same thing i said in lab 1, as it very much still applies here.<br><br>There are a myriad of possible techniques which i didn't explore. Everything from simply continuing to mess around with the architecture, to performing a comprehensive gridsearch of the parameter space in order to obtain the best model. The addition of stop word removal, lemmatization or even just a few more dense layers may also have given the model a slight advantage. But that would've also made the train time far longer. All of this is to say that in this field of computer science, you can always tweak things. One must call it quits at some point! >80% accuracy is spectacular in my books, especially when considering the fact that you'd have gotten roughly 16% had the model simply guessed at random."
   ]
  }
 ],
 "metadata": {
  "kernelspec": {
   "display_name": "Python 3 (ipykernel)",
   "language": "python",
   "name": "python3"
  },
  "language_info": {
   "codemirror_mode": {
    "name": "ipython",
    "version": 3
   },
   "file_extension": ".py",
   "mimetype": "text/x-python",
   "name": "python",
   "nbconvert_exporter": "python",
   "pygments_lexer": "ipython3",
   "version": "3.8.10"
  }
 },
 "nbformat": 4,
 "nbformat_minor": 5
}
