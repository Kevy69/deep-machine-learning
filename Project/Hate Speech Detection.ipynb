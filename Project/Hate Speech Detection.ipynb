{
 "cells": [
  {
   "cell_type": "markdown",
   "id": "1135a423",
   "metadata": {},
   "source": [
    "todo\n",
    "1. rnn kompletering\n",
    "2. further explain LSTM\n",
    "3. ask if code should be shown in powerpoint\n",
    "4. rename from \"real world usage\" to \"example usage\""
   ]
  },
  {
   "cell_type": "markdown",
   "id": "a33c9a6d",
   "metadata": {},
   "source": [
    "# Hate speech Detection"
   ]
  },
  {
   "cell_type": "code",
   "execution_count": 23,
   "id": "7a4b8bcc",
   "metadata": {},
   "outputs": [],
   "source": [
    "import numpy as np\n",
    "import pandas as pd\n",
    "import matplotlib.pyplot as plt\n",
    "import seaborn as sns\n",
    "\n",
    "from sklearn.model_selection import train_test_split\n",
    "from sklearn.preprocessing import LabelBinarizer\n",
    "from sklearn.metrics import confusion_matrix, f1_score\n",
    "\n",
    "from keras.callbacks import EarlyStopping\n",
    "from keras.layers import LSTM, Dense, Embedding\n",
    "from keras.models import Sequential\n",
    "from keras.preprocessing.text import Tokenizer\n",
    "from keras.utils import pad_sequences"
   ]
  },
  {
   "cell_type": "markdown",
   "id": "685a1498",
   "metadata": {},
   "source": [
    "### Data Exploration"
   ]
  },
  {
   "cell_type": "code",
   "execution_count": 24,
   "id": "8e7091f1",
   "metadata": {},
   "outputs": [
    {
     "data": {
      "text/html": [
       "<div>\n",
       "<style scoped>\n",
       "    .dataframe tbody tr th:only-of-type {\n",
       "        vertical-align: middle;\n",
       "    }\n",
       "\n",
       "    .dataframe tbody tr th {\n",
       "        vertical-align: top;\n",
       "    }\n",
       "\n",
       "    .dataframe thead th {\n",
       "        text-align: right;\n",
       "    }\n",
       "</style>\n",
       "<table border=\"1\" class=\"dataframe\">\n",
       "  <thead>\n",
       "    <tr style=\"text-align: right;\">\n",
       "      <th></th>\n",
       "      <th>case_id</th>\n",
       "      <th>test_case</th>\n",
       "      <th>label_gold</th>\n",
       "      <th>target_ident</th>\n",
       "    </tr>\n",
       "  </thead>\n",
       "  <tbody>\n",
       "    <tr>\n",
       "      <th>0</th>\n",
       "      <td>1</td>\n",
       "      <td>I hate women.</td>\n",
       "      <td>hateful</td>\n",
       "      <td>women</td>\n",
       "    </tr>\n",
       "    <tr>\n",
       "      <th>1</th>\n",
       "      <td>2</td>\n",
       "      <td>I hate trans people.</td>\n",
       "      <td>hateful</td>\n",
       "      <td>trans people</td>\n",
       "    </tr>\n",
       "    <tr>\n",
       "      <th>2</th>\n",
       "      <td>3</td>\n",
       "      <td>I hate gay people.</td>\n",
       "      <td>hateful</td>\n",
       "      <td>gay people</td>\n",
       "    </tr>\n",
       "    <tr>\n",
       "      <th>3</th>\n",
       "      <td>4</td>\n",
       "      <td>I hate black people.</td>\n",
       "      <td>hateful</td>\n",
       "      <td>black people</td>\n",
       "    </tr>\n",
       "    <tr>\n",
       "      <th>4</th>\n",
       "      <td>5</td>\n",
       "      <td>I hate disabled people.</td>\n",
       "      <td>hateful</td>\n",
       "      <td>disabled people</td>\n",
       "    </tr>\n",
       "    <tr>\n",
       "      <th>...</th>\n",
       "      <td>...</td>\n",
       "      <td>...</td>\n",
       "      <td>...</td>\n",
       "      <td>...</td>\n",
       "    </tr>\n",
       "    <tr>\n",
       "      <th>3896</th>\n",
       "      <td>3897</td>\n",
       "      <td>Gay people are all complete 4ssholes.</td>\n",
       "      <td>hateful</td>\n",
       "      <td>gay people</td>\n",
       "    </tr>\n",
       "    <tr>\n",
       "      <th>3897</th>\n",
       "      <td>3898</td>\n",
       "      <td>Black people are all complete 4ssholes.</td>\n",
       "      <td>hateful</td>\n",
       "      <td>black people</td>\n",
       "    </tr>\n",
       "    <tr>\n",
       "      <th>3898</th>\n",
       "      <td>3899</td>\n",
       "      <td>Disabled people are all complete 4ssholes.</td>\n",
       "      <td>hateful</td>\n",
       "      <td>disabled people</td>\n",
       "    </tr>\n",
       "    <tr>\n",
       "      <th>3899</th>\n",
       "      <td>3900</td>\n",
       "      <td>Muslims are all complete 4ssholes.</td>\n",
       "      <td>hateful</td>\n",
       "      <td>Muslims</td>\n",
       "    </tr>\n",
       "    <tr>\n",
       "      <th>3900</th>\n",
       "      <td>3901</td>\n",
       "      <td>Immigrants are all complete 4ssholes.</td>\n",
       "      <td>hateful</td>\n",
       "      <td>immigrants</td>\n",
       "    </tr>\n",
       "  </tbody>\n",
       "</table>\n",
       "<p>3901 rows × 4 columns</p>\n",
       "</div>"
      ],
      "text/plain": [
       "      case_id                                    test_case label_gold  \\\n",
       "0           1                               I hate women.     hateful   \n",
       "1           2                        I hate trans people.     hateful   \n",
       "2           3                          I hate gay people.     hateful   \n",
       "3           4                        I hate black people.     hateful   \n",
       "4           5                     I hate disabled people.     hateful   \n",
       "...       ...                                          ...        ...   \n",
       "3896     3897       Gay people are all complete 4ssholes.     hateful   \n",
       "3897     3898     Black people are all complete 4ssholes.     hateful   \n",
       "3898     3899  Disabled people are all complete 4ssholes.     hateful   \n",
       "3899     3900          Muslims are all complete 4ssholes.     hateful   \n",
       "3900     3901       Immigrants are all complete 4ssholes.     hateful   \n",
       "\n",
       "         target_ident  \n",
       "0               women  \n",
       "1        trans people  \n",
       "2          gay people  \n",
       "3        black people  \n",
       "4     disabled people  \n",
       "...               ...  \n",
       "3896       gay people  \n",
       "3897     black people  \n",
       "3898  disabled people  \n",
       "3899          Muslims  \n",
       "3900       immigrants  \n",
       "\n",
       "[3901 rows x 4 columns]"
      ]
     },
     "execution_count": 24,
     "metadata": {},
     "output_type": "execute_result"
    }
   ],
   "source": [
    "data = pd.read_csv('Hate Speech Data.csv')\n",
    "data"
   ]
  },
  {
   "cell_type": "markdown",
   "id": "09f98012",
   "metadata": {},
   "source": [
    "Looks like the dataset contains some missing values in the target_ident column, which we'll have to deal with later"
   ]
  },
  {
   "cell_type": "code",
   "execution_count": 25,
   "id": "ece91934",
   "metadata": {},
   "outputs": [
    {
     "name": "stdout",
     "output_type": "stream",
     "text": [
      "<class 'pandas.core.frame.DataFrame'>\n",
      "RangeIndex: 3901 entries, 0 to 3900\n",
      "Data columns (total 4 columns):\n",
      " #   Column        Non-Null Count  Dtype \n",
      "---  ------        --------------  ----- \n",
      " 0   case_id       3901 non-null   int64 \n",
      " 1   test_case     3901 non-null   object\n",
      " 2   label_gold    3901 non-null   object\n",
      " 3   target_ident  3606 non-null   object\n",
      "dtypes: int64(1), object(3)\n",
      "memory usage: 122.0+ KB\n"
     ]
    }
   ],
   "source": [
    "data.info()"
   ]
  },
  {
   "cell_type": "code",
   "execution_count": 26,
   "id": "4c5ef997",
   "metadata": {},
   "outputs": [
    {
     "data": {
      "text/html": [
       "<div>\n",
       "<style scoped>\n",
       "    .dataframe tbody tr th:only-of-type {\n",
       "        vertical-align: middle;\n",
       "    }\n",
       "\n",
       "    .dataframe tbody tr th {\n",
       "        vertical-align: top;\n",
       "    }\n",
       "\n",
       "    .dataframe thead th {\n",
       "        text-align: right;\n",
       "    }\n",
       "</style>\n",
       "<table border=\"1\" class=\"dataframe\">\n",
       "  <thead>\n",
       "    <tr style=\"text-align: right;\">\n",
       "      <th></th>\n",
       "      <th>case_id</th>\n",
       "      <th>test_case</th>\n",
       "      <th>label_gold</th>\n",
       "      <th>target_ident</th>\n",
       "    </tr>\n",
       "  </thead>\n",
       "  <tbody>\n",
       "    <tr>\n",
       "      <th>1271</th>\n",
       "      <td>1272</td>\n",
       "      <td>Fucking hell, what a day.</td>\n",
       "      <td>non-hateful</td>\n",
       "      <td>NaN</td>\n",
       "    </tr>\n",
       "    <tr>\n",
       "      <th>1272</th>\n",
       "      <td>1273</td>\n",
       "      <td>That's a great fucking idea.</td>\n",
       "      <td>non-hateful</td>\n",
       "      <td>NaN</td>\n",
       "    </tr>\n",
       "    <tr>\n",
       "      <th>1273</th>\n",
       "      <td>1274</td>\n",
       "      <td>No fucking way.</td>\n",
       "      <td>non-hateful</td>\n",
       "      <td>NaN</td>\n",
       "    </tr>\n",
       "    <tr>\n",
       "      <th>1274</th>\n",
       "      <td>1275</td>\n",
       "      <td>I'm so fucking excited.</td>\n",
       "      <td>non-hateful</td>\n",
       "      <td>NaN</td>\n",
       "    </tr>\n",
       "    <tr>\n",
       "      <th>1275</th>\n",
       "      <td>1276</td>\n",
       "      <td>Are you fucking kidding me?</td>\n",
       "      <td>non-hateful</td>\n",
       "      <td>NaN</td>\n",
       "    </tr>\n",
       "  </tbody>\n",
       "</table>\n",
       "</div>"
      ],
      "text/plain": [
       "      case_id                      test_case   label_gold target_ident\n",
       "1271     1272     Fucking hell, what a day.   non-hateful          NaN\n",
       "1272     1273  That's a great fucking idea.   non-hateful          NaN\n",
       "1273     1274               No fucking way.   non-hateful          NaN\n",
       "1274     1275       I'm so fucking excited.   non-hateful          NaN\n",
       "1275     1276    Are you fucking kidding me?  non-hateful          NaN"
      ]
     },
     "execution_count": 26,
     "metadata": {},
     "output_type": "execute_result"
    }
   ],
   "source": [
    "data[data.isna().any(axis=1)].head()"
   ]
  },
  {
   "cell_type": "markdown",
   "id": "a6376600",
   "metadata": {},
   "source": [
    "No duplicate texts found"
   ]
  },
  {
   "cell_type": "code",
   "execution_count": 27,
   "id": "d1517ff5",
   "metadata": {},
   "outputs": [
    {
     "name": "stdout",
     "output_type": "stream",
     "text": [
      "duplicate texts: False\n"
     ]
    }
   ],
   "source": [
    "print(f'''duplicate texts: {data['test_case'].duplicated().any()}''')"
   ]
  },
  {
   "cell_type": "markdown",
   "id": "1717c279",
   "metadata": {},
   "source": [
    "While the target groups are essentially balanced, the same cannot be said for the hate/non-hate categories"
   ]
  },
  {
   "cell_type": "code",
   "execution_count": 28,
   "id": "f284db55",
   "metadata": {},
   "outputs": [
    {
     "data": {
      "text/html": [
       "<div>\n",
       "<style scoped>\n",
       "    .dataframe tbody tr th:only-of-type {\n",
       "        vertical-align: middle;\n",
       "    }\n",
       "\n",
       "    .dataframe tbody tr th {\n",
       "        vertical-align: top;\n",
       "    }\n",
       "\n",
       "    .dataframe thead th {\n",
       "        text-align: right;\n",
       "    }\n",
       "</style>\n",
       "<table border=\"1\" class=\"dataframe\">\n",
       "  <thead>\n",
       "    <tr style=\"text-align: right;\">\n",
       "      <th></th>\n",
       "      <th>count</th>\n",
       "    </tr>\n",
       "    <tr>\n",
       "      <th>label_gold</th>\n",
       "      <th></th>\n",
       "    </tr>\n",
       "  </thead>\n",
       "  <tbody>\n",
       "    <tr>\n",
       "      <th>hateful</th>\n",
       "      <td>2659</td>\n",
       "    </tr>\n",
       "    <tr>\n",
       "      <th>non-hateful</th>\n",
       "      <td>1242</td>\n",
       "    </tr>\n",
       "  </tbody>\n",
       "</table>\n",
       "</div>"
      ],
      "text/plain": [
       "             count\n",
       "label_gold        \n",
       "hateful       2659\n",
       "non-hateful   1242"
      ]
     },
     "metadata": {},
     "output_type": "display_data"
    },
    {
     "data": {
      "text/html": [
       "<div>\n",
       "<style scoped>\n",
       "    .dataframe tbody tr th:only-of-type {\n",
       "        vertical-align: middle;\n",
       "    }\n",
       "\n",
       "    .dataframe tbody tr th {\n",
       "        vertical-align: top;\n",
       "    }\n",
       "\n",
       "    .dataframe thead th {\n",
       "        text-align: right;\n",
       "    }\n",
       "</style>\n",
       "<table border=\"1\" class=\"dataframe\">\n",
       "  <thead>\n",
       "    <tr style=\"text-align: right;\">\n",
       "      <th></th>\n",
       "      <th>count</th>\n",
       "    </tr>\n",
       "    <tr>\n",
       "      <th>target_ident</th>\n",
       "      <th></th>\n",
       "    </tr>\n",
       "  </thead>\n",
       "  <tbody>\n",
       "    <tr>\n",
       "      <th>gay people</th>\n",
       "      <td>577</td>\n",
       "    </tr>\n",
       "    <tr>\n",
       "      <th>women</th>\n",
       "      <td>535</td>\n",
       "    </tr>\n",
       "    <tr>\n",
       "      <th>disabled people</th>\n",
       "      <td>510</td>\n",
       "    </tr>\n",
       "    <tr>\n",
       "      <th>Muslims</th>\n",
       "      <td>510</td>\n",
       "    </tr>\n",
       "    <tr>\n",
       "      <th>black people</th>\n",
       "      <td>504</td>\n",
       "    </tr>\n",
       "    <tr>\n",
       "      <th>trans people</th>\n",
       "      <td>485</td>\n",
       "    </tr>\n",
       "    <tr>\n",
       "      <th>immigrants</th>\n",
       "      <td>485</td>\n",
       "    </tr>\n",
       "  </tbody>\n",
       "</table>\n",
       "</div>"
      ],
      "text/plain": [
       "                 count\n",
       "target_ident          \n",
       "gay people         577\n",
       "women              535\n",
       "disabled people    510\n",
       "Muslims            510\n",
       "black people       504\n",
       "trans people       485\n",
       "immigrants         485"
      ]
     },
     "metadata": {},
     "output_type": "display_data"
    }
   ],
   "source": [
    "# Using display() to display both at the same time without weird notebook formatting.\n",
    "# (Won't comment on any future use of display() again. Same as for any other obvious piece of code)\n",
    "display(\n",
    "    pd.DataFrame(data['label_gold'].value_counts()),\n",
    "    pd.DataFrame(data['target_ident'].value_counts())\n",
    ")"
   ]
  },
  {
   "cell_type": "markdown",
   "id": "3cb51211",
   "metadata": {},
   "source": [
    "No unusually short/long texts"
   ]
  },
  {
   "cell_type": "code",
   "execution_count": 29,
   "id": "02f8d1f1",
   "metadata": {},
   "outputs": [
    {
     "name": "stdout",
     "output_type": "stream",
     "text": [
      "Shortest: 104 chars, \"When will it finally be clear to people that it's in a disabled person's nature to be an annoying prick?\"\n",
      "Longest: 11 chars, \"Ihate women\"\n"
     ]
    }
   ],
   "source": [
    "longest_text_length = data['test_case'].str.len().max()\n",
    "shortest_text_length = data['test_case'].str.len().min()\n",
    "\n",
    "longest_text_index = data['test_case'].str.len().idxmax()\n",
    "shortest_text_index = data['test_case'].str.len().idxmin()\n",
    "\n",
    "print(\n",
    "    f'''Shortest: {longest_text_length} chars, \"{data['test_case'][longest_text_index]}\"\\n'''\n",
    "    f'''Longest: {shortest_text_length} chars, \"{data['test_case'][shortest_text_index]}\"'''\n",
    ")"
   ]
  },
  {
   "cell_type": "markdown",
   "id": "99bc3645",
   "metadata": {},
   "source": [
    "### Data cleaning"
   ]
  },
  {
   "cell_type": "markdown",
   "id": "a99d2b61",
   "metadata": {},
   "source": [
    "Drop irrelevant columns and rename the rest to something more appropriate"
   ]
  },
  {
   "cell_type": "code",
   "execution_count": 30,
   "id": "95f2d88a",
   "metadata": {},
   "outputs": [
    {
     "data": {
      "text/html": [
       "<div>\n",
       "<style scoped>\n",
       "    .dataframe tbody tr th:only-of-type {\n",
       "        vertical-align: middle;\n",
       "    }\n",
       "\n",
       "    .dataframe tbody tr th {\n",
       "        vertical-align: top;\n",
       "    }\n",
       "\n",
       "    .dataframe thead th {\n",
       "        text-align: right;\n",
       "    }\n",
       "</style>\n",
       "<table border=\"1\" class=\"dataframe\">\n",
       "  <thead>\n",
       "    <tr style=\"text-align: right;\">\n",
       "      <th></th>\n",
       "      <th>text</th>\n",
       "      <th>label</th>\n",
       "      <th>target</th>\n",
       "    </tr>\n",
       "  </thead>\n",
       "  <tbody>\n",
       "    <tr>\n",
       "      <th>0</th>\n",
       "      <td>I hate women.</td>\n",
       "      <td>hateful</td>\n",
       "      <td>women</td>\n",
       "    </tr>\n",
       "    <tr>\n",
       "      <th>1</th>\n",
       "      <td>I hate trans people.</td>\n",
       "      <td>hateful</td>\n",
       "      <td>trans people</td>\n",
       "    </tr>\n",
       "    <tr>\n",
       "      <th>2</th>\n",
       "      <td>I hate gay people.</td>\n",
       "      <td>hateful</td>\n",
       "      <td>gay people</td>\n",
       "    </tr>\n",
       "    <tr>\n",
       "      <th>3</th>\n",
       "      <td>I hate black people.</td>\n",
       "      <td>hateful</td>\n",
       "      <td>black people</td>\n",
       "    </tr>\n",
       "    <tr>\n",
       "      <th>4</th>\n",
       "      <td>I hate disabled people.</td>\n",
       "      <td>hateful</td>\n",
       "      <td>disabled people</td>\n",
       "    </tr>\n",
       "  </tbody>\n",
       "</table>\n",
       "</div>"
      ],
      "text/plain": [
       "                       text    label           target\n",
       "0            I hate women.   hateful            women\n",
       "1     I hate trans people.   hateful     trans people\n",
       "2       I hate gay people.   hateful       gay people\n",
       "3     I hate black people.   hateful     black people\n",
       "4  I hate disabled people.   hateful  disabled people"
      ]
     },
     "execution_count": 30,
     "metadata": {},
     "output_type": "execute_result"
    }
   ],
   "source": [
    "data = data.drop('case_id', axis=1)\n",
    "data = data.rename(columns=\n",
    "{\n",
    "    'test_case': 'text',\n",
    "    'label_gold': 'label',\n",
    "    'target_ident': 'target',\n",
    "})\n",
    "\n",
    "data.head()"
   ]
  },
  {
   "cell_type": "markdown",
   "id": "9c7a93d9",
   "metadata": {},
   "source": [
    "It appears as though non of the missing targets have any relevant hate speech associated with them. This can easily be varified by manually looking at the dataset (given its tiny size), But alas, given my horrendous dyslexia i decided to programmatically varify it as a sanity check"
   ]
  },
  {
   "cell_type": "code",
   "execution_count": 31,
   "id": "13deda2d",
   "metadata": {},
   "outputs": [],
   "source": [
    "# Easier than grabbing them from the \"target\" column and removing the trailing \"people\"\n",
    "target_search_words = [\n",
    "    'gay',\n",
    "    'women',\n",
    "    'disabled',\n",
    "    'Muslims',\n",
    "    'black',\n",
    "    'trans',\n",
    "    'immigrants'\n",
    "]\n",
    "\n",
    "target_nans = data[data['target'].isna()]\n",
    "\n",
    "'''\n",
    "After having spent 9 hours (no kidding) trying to make this piece of *** work with pandas queries,\n",
    "i settled for the caveman solution of using two loops. Being bad at programming is frankly an understatement at this point.\n",
    "Might as well dig my own grave. I'm sure even that'd be done using for loops...\n",
    "'''\n",
    "for _, row in target_nans.iterrows():\n",
    "    for target_search_word in target_search_words:\n",
    "        # Split by words and search each one\n",
    "        if target_search_word in row['text'].split(' '):\n",
    "            print(f'''found target word in: \"{row['text']}\" row''')"
   ]
  },
  {
   "cell_type": "markdown",
   "id": "763d7427",
   "metadata": {},
   "source": [
    "I'm now confident in dropping all rows with target NaN values"
   ]
  },
  {
   "cell_type": "code",
   "execution_count": 32,
   "id": "23295a44",
   "metadata": {},
   "outputs": [],
   "source": [
    "data = data.dropna()"
   ]
  },
  {
   "cell_type": "markdown",
   "id": "5bf744ae",
   "metadata": {},
   "source": [
    "Balancing the dataset.<br>Note that the target group isn't perfectly balanced, which shouldn't be a problem given the small discrepancy"
   ]
  },
  {
   "cell_type": "code",
   "execution_count": 33,
   "id": "955d0920",
   "metadata": {},
   "outputs": [
    {
     "data": {
      "text/html": [
       "<div>\n",
       "<style scoped>\n",
       "    .dataframe tbody tr th:only-of-type {\n",
       "        vertical-align: middle;\n",
       "    }\n",
       "\n",
       "    .dataframe tbody tr th {\n",
       "        vertical-align: top;\n",
       "    }\n",
       "\n",
       "    .dataframe thead th {\n",
       "        text-align: right;\n",
       "    }\n",
       "</style>\n",
       "<table border=\"1\" class=\"dataframe\">\n",
       "  <thead>\n",
       "    <tr style=\"text-align: right;\">\n",
       "      <th></th>\n",
       "      <th>count</th>\n",
       "    </tr>\n",
       "    <tr>\n",
       "      <th>label</th>\n",
       "      <th></th>\n",
       "    </tr>\n",
       "  </thead>\n",
       "  <tbody>\n",
       "    <tr>\n",
       "      <th>hateful</th>\n",
       "      <td>947</td>\n",
       "    </tr>\n",
       "    <tr>\n",
       "      <th>non-hateful</th>\n",
       "      <td>947</td>\n",
       "    </tr>\n",
       "  </tbody>\n",
       "</table>\n",
       "</div>"
      ],
      "text/plain": [
       "             count\n",
       "label             \n",
       "hateful        947\n",
       "non-hateful    947"
      ]
     },
     "metadata": {},
     "output_type": "display_data"
    },
    {
     "data": {
      "text/html": [
       "<div>\n",
       "<style scoped>\n",
       "    .dataframe tbody tr th:only-of-type {\n",
       "        vertical-align: middle;\n",
       "    }\n",
       "\n",
       "    .dataframe tbody tr th {\n",
       "        vertical-align: top;\n",
       "    }\n",
       "\n",
       "    .dataframe thead th {\n",
       "        text-align: right;\n",
       "    }\n",
       "</style>\n",
       "<table border=\"1\" class=\"dataframe\">\n",
       "  <thead>\n",
       "    <tr style=\"text-align: right;\">\n",
       "      <th></th>\n",
       "      <th>count</th>\n",
       "    </tr>\n",
       "    <tr>\n",
       "      <th>target</th>\n",
       "      <th></th>\n",
       "    </tr>\n",
       "  </thead>\n",
       "  <tbody>\n",
       "    <tr>\n",
       "      <th>gay people</th>\n",
       "      <td>325</td>\n",
       "    </tr>\n",
       "    <tr>\n",
       "      <th>women</th>\n",
       "      <td>291</td>\n",
       "    </tr>\n",
       "    <tr>\n",
       "      <th>Muslims</th>\n",
       "      <td>267</td>\n",
       "    </tr>\n",
       "    <tr>\n",
       "      <th>black people</th>\n",
       "      <td>265</td>\n",
       "    </tr>\n",
       "    <tr>\n",
       "      <th>disabled people</th>\n",
       "      <td>263</td>\n",
       "    </tr>\n",
       "    <tr>\n",
       "      <th>trans people</th>\n",
       "      <td>244</td>\n",
       "    </tr>\n",
       "    <tr>\n",
       "      <th>immigrants</th>\n",
       "      <td>239</td>\n",
       "    </tr>\n",
       "  </tbody>\n",
       "</table>\n",
       "</div>"
      ],
      "text/plain": [
       "                 count\n",
       "target                \n",
       "gay people         325\n",
       "women              291\n",
       "Muslims            267\n",
       "black people       265\n",
       "disabled people    263\n",
       "trans people       244\n",
       "immigrants         239"
      ]
     },
     "metadata": {},
     "output_type": "display_data"
    }
   ],
   "source": [
    "# Get the number of hate/non-hate rows\n",
    "hateful_count = data['label'].value_counts()['hateful']\n",
    "non_hateful_count = data['label'].value_counts()['non-hateful']\n",
    "\n",
    "hateful_to_drop_count = hateful_count - non_hateful_count\n",
    "\n",
    "# Randomly sample the rows and drop\n",
    "rows_indexes_to_remove = data[data['label'] == 'hateful'].sample(n=hateful_to_drop_count).index\n",
    "data = data.drop(rows_indexes_to_remove)\n",
    "\n",
    "display(\n",
    "    pd.DataFrame(data['label'].value_counts()),\n",
    "    pd.DataFrame(data['target'].value_counts())\n",
    ")"
   ]
  },
  {
   "cell_type": "markdown",
   "id": "613833d5",
   "metadata": {},
   "source": [
    "### Data Preprocessing"
   ]
  },
  {
   "cell_type": "markdown",
   "id": "f606c944",
   "metadata": {},
   "source": [
    "Shuffle the dataset"
   ]
  },
  {
   "cell_type": "code",
   "execution_count": 34,
   "id": "a0c1182a",
   "metadata": {},
   "outputs": [
    {
     "data": {
      "text/html": [
       "<div>\n",
       "<style scoped>\n",
       "    .dataframe tbody tr th:only-of-type {\n",
       "        vertical-align: middle;\n",
       "    }\n",
       "\n",
       "    .dataframe tbody tr th {\n",
       "        vertical-align: top;\n",
       "    }\n",
       "\n",
       "    .dataframe thead th {\n",
       "        text-align: right;\n",
       "    }\n",
       "</style>\n",
       "<table border=\"1\" class=\"dataframe\">\n",
       "  <thead>\n",
       "    <tr style=\"text-align: right;\">\n",
       "      <th></th>\n",
       "      <th>text</th>\n",
       "      <th>label</th>\n",
       "      <th>target</th>\n",
       "    </tr>\n",
       "  </thead>\n",
       "  <tbody>\n",
       "    <tr>\n",
       "      <th>0</th>\n",
       "      <td>Gay lives aren't worth sh1t.</td>\n",
       "      <td>hateful</td>\n",
       "      <td>gay people</td>\n",
       "    </tr>\n",
       "    <tr>\n",
       "      <th>1</th>\n",
       "      <td>We dyked the marshland along the rivers to pro...</td>\n",
       "      <td>non-hateful</td>\n",
       "      <td>gay people</td>\n",
       "    </tr>\n",
       "    <tr>\n",
       "      <th>2</th>\n",
       "      <td>There have to be consequences for saying you w...</td>\n",
       "      <td>non-hateful</td>\n",
       "      <td>immigrants</td>\n",
       "    </tr>\n",
       "    <tr>\n",
       "      <th>3</th>\n",
       "      <td>More than half of the participants were Muslims.</td>\n",
       "      <td>non-hateful</td>\n",
       "      <td>Muslims</td>\n",
       "    </tr>\n",
       "    <tr>\n",
       "      <th>4</th>\n",
       "      <td>I feel nothing but contempt for trans people.</td>\n",
       "      <td>hateful</td>\n",
       "      <td>trans people</td>\n",
       "    </tr>\n",
       "  </tbody>\n",
       "</table>\n",
       "</div>"
      ],
      "text/plain": [
       "                                                text        label  \\\n",
       "0                      Gay lives aren't worth sh1t.       hateful   \n",
       "1  We dyked the marshland along the rivers to pro...  non-hateful   \n",
       "2  There have to be consequences for saying you w...  non-hateful   \n",
       "3  More than half of the participants were Muslims.   non-hateful   \n",
       "4     I feel nothing but contempt for trans people.       hateful   \n",
       "\n",
       "         target  \n",
       "0    gay people  \n",
       "1    gay people  \n",
       "2    immigrants  \n",
       "3       Muslims  \n",
       "4  trans people  "
      ]
     },
     "execution_count": 34,
     "metadata": {},
     "output_type": "execute_result"
    }
   ],
   "source": [
    "data = data.sample(frac=1)\n",
    "\n",
    "# Reset index after having both balanced and shuffled\n",
    "data = data.reset_index(drop=True)\n",
    "data.head()"
   ]
  },
  {
   "cell_type": "markdown",
   "id": "14820be4",
   "metadata": {},
   "source": [
    "Tokenize and pad the texts"
   ]
  },
  {
   "cell_type": "code",
   "execution_count": 35,
   "id": "6f102123",
   "metadata": {},
   "outputs": [
    {
     "name": "stdout",
     "output_type": "stream",
     "text": [
      "Sequence 0: [16, 33, 118, 48, 548]\n",
      "Sequence 1: [27, 738, 10, 739, 549, 10, 740, 3, 741, 742, 12, 743]\n",
      "Sequence 2: [51, 29, 3, 9, 303, 17, 62, 5, 36, 189, 92, 67]\n",
      "Sequence 3: [116, 54, 304, 19, 10, 305, 123, 21]\n",
      "Sequence 4: [6, 179, 46, 37, 145, 17, 15, 1]\n"
     ]
    }
   ],
   "source": [
    "max_words_to_use = 1000\n",
    "\n",
    "# Use 1k words as that's plenty for our use case\n",
    "tokenizer = Tokenizer(num_words=max_words_to_use)\n",
    "tokenizer.fit_on_texts(data['text'])\n",
    "tokenized_texts = tokenizer.texts_to_sequences(data['text'])\n",
    "\n",
    "# printing using loop for easier viewing\n",
    "for i in range(5):\n",
    "    print(f'Sequence {i}: {tokenized_texts[i]}')"
   ]
  },
  {
   "cell_type": "markdown",
   "id": "bbb0f45c",
   "metadata": {},
   "source": [
    "Given the stochasticity of \"sample()\" when balancing our dataset, we now need to figure out the longest sequence of tokenized words before we can perform padding.\n",
    "###### _Well... we don't technically need to know this... but i'd certainly never forgive myself knowing i had left unnecessary zeros in the padding process._"
   ]
  },
  {
   "cell_type": "code",
   "execution_count": 36,
   "id": "2f3412e5",
   "metadata": {},
   "outputs": [
    {
     "name": "stdout",
     "output_type": "stream",
     "text": [
      "longest sequence: 20\n"
     ]
    }
   ],
   "source": [
    "max_sequence_length = len(max(tokenized_texts, key=len))\n",
    "print(f'longest sequence: {max_sequence_length}')"
   ]
  },
  {
   "cell_type": "code",
   "execution_count": 37,
   "id": "690ce80a",
   "metadata": {},
   "outputs": [
    {
     "name": "stdout",
     "output_type": "stream",
     "text": [
      "seq 0: [0, 0, 0, 0, 0, 0, 0, 0, 0, 0, 0, 0, 0, 0, 0, 0, 0, 0, 0, 0, 0, 0, 0, 0, 0, 0, 0, 0, 0, 0, 0, 0, 0, 0, 0, 16, 33, 118, 48, 548]\n",
      "seq 1: [0, 0, 0, 0, 0, 0, 0, 0, 0, 0, 0, 0, 0, 0, 0, 0, 0, 0, 0, 0, 0, 0, 0, 0, 0, 0, 0, 0, 27, 738, 10, 739, 549, 10, 740, 3, 741, 742, 12, 743]\n",
      "seq 2: [0, 0, 0, 0, 0, 0, 0, 0, 0, 0, 0, 0, 0, 0, 0, 0, 0, 0, 0, 0, 0, 0, 0, 0, 0, 0, 0, 0, 51, 29, 3, 9, 303, 17, 62, 5, 36, 189, 92, 67]\n",
      "seq 3: [0, 0, 0, 0, 0, 0, 0, 0, 0, 0, 0, 0, 0, 0, 0, 0, 0, 0, 0, 0, 0, 0, 0, 0, 0, 0, 0, 0, 0, 0, 0, 0, 116, 54, 304, 19, 10, 305, 123, 21]\n",
      "seq 4: [0, 0, 0, 0, 0, 0, 0, 0, 0, 0, 0, 0, 0, 0, 0, 0, 0, 0, 0, 0, 0, 0, 0, 0, 0, 0, 0, 0, 0, 0, 0, 0, 6, 179, 46, 37, 145, 17, 15, 1]\n"
     ]
    }
   ],
   "source": [
    "# Double the max padding length to allow for longer sentences to be classified once we use actually wanna use the model.\n",
    "# (The resource & model performance penalty is negligable)\n",
    "max_sequence_length = max_sequence_length * 2\n",
    "\n",
    "# Pad the sequences to make them of uniform length\n",
    "tokenized_padded_texts = pad_sequences(tokenized_texts, maxlen=max_sequence_length)\n",
    "\n",
    "for i in range(5):\n",
    "    print(f'seq {i}: {tokenized_padded_texts[i].tolist()}')"
   ]
  },
  {
   "cell_type": "markdown",
   "id": "0fdc6ff0",
   "metadata": {},
   "source": [
    "One-hot and binary encode the labels"
   ]
  },
  {
   "cell_type": "code",
   "execution_count": 38,
   "id": "606d143d",
   "metadata": {},
   "outputs": [
    {
     "name": "stdout",
     "output_type": "stream",
     "text": [
      "labels: [[0], [1], [1], [1], [0]]\n",
      "Target 0: [0, 0, 0, 1, 0, 0, 0]\n",
      "Target 1: [0, 0, 0, 1, 0, 0, 0]\n",
      "Target 2: [0, 0, 0, 0, 1, 0, 0]\n",
      "Target 3: [1, 0, 0, 0, 0, 0, 0]\n",
      "Target 4: [0, 0, 0, 0, 0, 1, 0]\n"
     ]
    }
   ],
   "source": [
    "label_binarizer = LabelBinarizer()\n",
    "binary_encoded_labels = label_binarizer.fit_transform(data['label'])\n",
    "onehot_encoded_targets = label_binarizer.fit_transform(data['target'])\n",
    "\n",
    "print(f'labels: {binary_encoded_labels.tolist()[:5]}')\n",
    "\n",
    "for i in range(5):\n",
    "    print(f'Target {i}: {onehot_encoded_targets[i].tolist()}')"
   ]
  },
  {
   "cell_type": "markdown",
   "id": "75e6a0c1",
   "metadata": {},
   "source": [
    "Train/test split"
   ]
  },
  {
   "cell_type": "code",
   "execution_count": 39,
   "id": "be632ce0",
   "metadata": {},
   "outputs": [
    {
     "name": "stdout",
     "output_type": "stream",
     "text": [
      "train_texts shape: (1515, 40)\n",
      "train_labels shape: (1515, 1)\n",
      "train_targets shape: (1515, 7)\n",
      "test_texts shape: (379, 40)\n",
      "test_labels shape: (379, 1)\n",
      "test_targets shape: (379, 7)\n"
     ]
    }
   ],
   "source": [
    "train_texts, test_texts, train_labels, test_labels, train_targets, test_targets = train_test_split(\n",
    "    tokenized_padded_texts,\n",
    "    binary_encoded_labels,\n",
    "    onehot_encoded_targets,\n",
    "    test_size=0.2\n",
    ")\n",
    "\n",
    "print(\n",
    "    f'train_texts shape: {np.shape(train_texts)}\\n'\n",
    "    f'train_labels shape: {np.shape(train_labels)}\\n'\n",
    "    f'train_targets shape: {np.shape(train_targets)}\\n'\n",
    "    f'test_texts shape: {np.shape(test_texts)}\\n'\n",
    "    f'test_labels shape: {np.shape(test_labels)}\\n'\n",
    "    f'test_targets shape: {np.shape(test_targets)}'\n",
    ")"
   ]
  },
  {
   "cell_type": "markdown",
   "id": "c71408a5",
   "metadata": {},
   "source": [
    "### Model building, training and evaluating\n",
    "###### At last!"
   ]
  },
  {
   "cell_type": "markdown",
   "id": "d2c18e59",
   "metadata": {},
   "source": [
    "Build the architecture and train the model "
   ]
  },
  {
   "cell_type": "code",
   "execution_count": 40,
   "id": "7640120a",
   "metadata": {},
   "outputs": [
    {
     "name": "stdout",
     "output_type": "stream",
     "text": [
      "Epoch 1/100\n"
     ]
    },
    {
     "name": "stdout",
     "output_type": "stream",
     "text": [
      "38/38 [==============================] - 6s 48ms/step - loss: 0.6804 - accuracy: 0.5842 - val_loss: 0.6610 - val_accuracy: 0.6964\n",
      "Epoch 2/100\n",
      "38/38 [==============================] - 1s 26ms/step - loss: 0.5706 - accuracy: 0.7467 - val_loss: 0.5207 - val_accuracy: 0.7756\n",
      "Epoch 3/100\n",
      "38/38 [==============================] - 1s 26ms/step - loss: 0.3893 - accuracy: 0.8457 - val_loss: 0.4007 - val_accuracy: 0.8449\n",
      "Epoch 4/100\n",
      "38/38 [==============================] - 1s 26ms/step - loss: 0.2345 - accuracy: 0.9117 - val_loss: 0.2707 - val_accuracy: 0.8944\n",
      "Epoch 5/100\n",
      "38/38 [==============================] - 1s 26ms/step - loss: 0.1435 - accuracy: 0.9488 - val_loss: 0.2415 - val_accuracy: 0.8845\n",
      "Epoch 6/100\n",
      "38/38 [==============================] - 1s 27ms/step - loss: 0.0950 - accuracy: 0.9711 - val_loss: 0.1759 - val_accuracy: 0.9538\n",
      "Epoch 7/100\n",
      "38/38 [==============================] - 1s 26ms/step - loss: 0.0564 - accuracy: 0.9934 - val_loss: 0.1816 - val_accuracy: 0.9307\n",
      "Epoch 8/100\n",
      "38/38 [==============================] - 1s 25ms/step - loss: 0.0420 - accuracy: 0.9917 - val_loss: 0.1366 - val_accuracy: 0.9670\n",
      "Epoch 9/100\n",
      "38/38 [==============================] - 1s 25ms/step - loss: 0.0260 - accuracy: 0.9975 - val_loss: 0.1492 - val_accuracy: 0.9604\n",
      "Epoch 10/100\n",
      "38/38 [==============================] - 1s 25ms/step - loss: 0.0154 - accuracy: 0.9992 - val_loss: 0.1386 - val_accuracy: 0.9538\n",
      "Epoch 11/100\n",
      "38/38 [==============================] - 1s 25ms/step - loss: 0.0162 - accuracy: 0.9967 - val_loss: 0.1140 - val_accuracy: 0.9571\n",
      "Epoch 12/100\n",
      "38/38 [==============================] - 1s 25ms/step - loss: 0.0122 - accuracy: 0.9967 - val_loss: 0.1068 - val_accuracy: 0.9637\n",
      "Epoch 13/100\n",
      "38/38 [==============================] - 1s 25ms/step - loss: 0.0094 - accuracy: 1.0000 - val_loss: 0.1110 - val_accuracy: 0.9637\n",
      "Epoch 14/100\n",
      "38/38 [==============================] - 1s 25ms/step - loss: 0.0049 - accuracy: 1.0000 - val_loss: 0.1054 - val_accuracy: 0.9637\n",
      "Epoch 15/100\n",
      "38/38 [==============================] - 1s 25ms/step - loss: 0.0038 - accuracy: 1.0000 - val_loss: 0.1275 - val_accuracy: 0.9538\n",
      "Epoch 16/100\n",
      "38/38 [==============================] - 1s 25ms/step - loss: 0.0037 - accuracy: 1.0000 - val_loss: 0.1085 - val_accuracy: 0.9670\n",
      "Epoch 17/100\n",
      "38/38 [==============================] - 1s 25ms/step - loss: 0.0029 - accuracy: 1.0000 - val_loss: 0.1087 - val_accuracy: 0.9670\n",
      "Epoch 18/100\n",
      "38/38 [==============================] - 1s 25ms/step - loss: 0.0039 - accuracy: 0.9992 - val_loss: 0.1305 - val_accuracy: 0.9703\n",
      "Epoch 19/100\n",
      "38/38 [==============================] - 1s 27ms/step - loss: 0.0037 - accuracy: 1.0000 - val_loss: 0.1089 - val_accuracy: 0.9703\n",
      "Epoch 20/100\n",
      "38/38 [==============================] - 1s 25ms/step - loss: 0.0022 - accuracy: 1.0000 - val_loss: 0.1229 - val_accuracy: 0.9637\n",
      "Epoch 21/100\n",
      "38/38 [==============================] - 1s 25ms/step - loss: 0.0026 - accuracy: 1.0000 - val_loss: 0.1091 - val_accuracy: 0.9736\n",
      "Epoch 22/100\n",
      "38/38 [==============================] - 1s 25ms/step - loss: 0.0017 - accuracy: 1.0000 - val_loss: 0.1166 - val_accuracy: 0.9637\n",
      "Epoch 23/100\n",
      "38/38 [==============================] - 1s 25ms/step - loss: 0.0014 - accuracy: 1.0000 - val_loss: 0.1209 - val_accuracy: 0.9637\n",
      "Epoch 24/100\n",
      "38/38 [==============================] - 1s 25ms/step - loss: 0.0012 - accuracy: 1.0000 - val_loss: 0.1171 - val_accuracy: 0.9670\n",
      "Epoch 1/100\n",
      "38/38 [==============================] - 6s 46ms/step - loss: 1.9375 - accuracy: 0.1931 - val_loss: 1.9248 - val_accuracy: 0.2178\n",
      "Epoch 2/100\n",
      "38/38 [==============================] - 1s 26ms/step - loss: 1.8748 - accuracy: 0.3564 - val_loss: 1.8176 - val_accuracy: 0.3300\n",
      "Epoch 3/100\n",
      "38/38 [==============================] - 1s 32ms/step - loss: 1.6130 - accuracy: 0.4266 - val_loss: 1.5128 - val_accuracy: 0.3333\n",
      "Epoch 4/100\n",
      "38/38 [==============================] - 1s 29ms/step - loss: 1.1913 - accuracy: 0.6782 - val_loss: 1.1819 - val_accuracy: 0.6172\n",
      "Epoch 5/100\n",
      "38/38 [==============================] - 1s 28ms/step - loss: 0.8096 - accuracy: 0.8614 - val_loss: 0.7735 - val_accuracy: 0.8449\n",
      "Epoch 6/100\n",
      "38/38 [==============================] - 1s 25ms/step - loss: 0.5111 - accuracy: 0.9307 - val_loss: 0.5776 - val_accuracy: 0.8515\n",
      "Epoch 7/100\n",
      "38/38 [==============================] - 1s 25ms/step - loss: 0.3788 - accuracy: 0.9546 - val_loss: 0.4918 - val_accuracy: 0.8746\n",
      "Epoch 8/100\n",
      "38/38 [==============================] - 1s 25ms/step - loss: 0.2418 - accuracy: 0.9711 - val_loss: 0.4100 - val_accuracy: 0.9010\n",
      "Epoch 9/100\n",
      "38/38 [==============================] - 1s 25ms/step - loss: 0.1884 - accuracy: 0.9810 - val_loss: 0.4293 - val_accuracy: 0.8911\n",
      "Epoch 10/100\n",
      "38/38 [==============================] - 1s 25ms/step - loss: 0.1535 - accuracy: 0.9876 - val_loss: 0.3528 - val_accuracy: 0.9109\n",
      "Epoch 11/100\n",
      "38/38 [==============================] - 1s 25ms/step - loss: 0.1140 - accuracy: 0.9893 - val_loss: 0.3354 - val_accuracy: 0.9076\n",
      "Epoch 12/100\n",
      "38/38 [==============================] - 1s 25ms/step - loss: 0.0957 - accuracy: 0.9950 - val_loss: 0.3008 - val_accuracy: 0.9241\n",
      "Epoch 13/100\n",
      "38/38 [==============================] - 1s 25ms/step - loss: 0.0774 - accuracy: 0.9959 - val_loss: 0.2958 - val_accuracy: 0.9241\n",
      "Epoch 14/100\n",
      "38/38 [==============================] - 1s 25ms/step - loss: 0.0667 - accuracy: 0.9975 - val_loss: 0.2794 - val_accuracy: 0.9241\n",
      "Epoch 15/100\n",
      "38/38 [==============================] - 1s 29ms/step - loss: 0.0650 - accuracy: 0.9950 - val_loss: 0.2845 - val_accuracy: 0.9373\n",
      "Epoch 16/100\n",
      "38/38 [==============================] - 1s 25ms/step - loss: 0.0533 - accuracy: 0.9959 - val_loss: 0.2684 - val_accuracy: 0.9340\n",
      "Epoch 17/100\n",
      "38/38 [==============================] - 1s 26ms/step - loss: 0.0451 - accuracy: 0.9975 - val_loss: 0.2745 - val_accuracy: 0.9241\n",
      "Epoch 18/100\n",
      "38/38 [==============================] - 1s 25ms/step - loss: 0.0410 - accuracy: 0.9983 - val_loss: 0.2724 - val_accuracy: 0.9307\n",
      "Epoch 19/100\n",
      "38/38 [==============================] - 1s 25ms/step - loss: 0.0366 - accuracy: 0.9975 - val_loss: 0.2677 - val_accuracy: 0.9340\n",
      "Epoch 20/100\n",
      "38/38 [==============================] - 1s 25ms/step - loss: 0.0331 - accuracy: 0.9983 - val_loss: 0.2666 - val_accuracy: 0.9340\n",
      "Epoch 21/100\n",
      "38/38 [==============================] - 1s 25ms/step - loss: 0.0293 - accuracy: 0.9975 - val_loss: 0.2655 - val_accuracy: 0.9340\n",
      "Epoch 22/100\n",
      "38/38 [==============================] - 1s 25ms/step - loss: 0.0286 - accuracy: 0.9975 - val_loss: 0.2576 - val_accuracy: 0.9307\n",
      "Epoch 23/100\n",
      "38/38 [==============================] - 1s 25ms/step - loss: 0.0247 - accuracy: 0.9983 - val_loss: 0.2832 - val_accuracy: 0.9274\n",
      "Epoch 24/100\n",
      "38/38 [==============================] - 1s 25ms/step - loss: 0.0219 - accuracy: 0.9975 - val_loss: 0.2745 - val_accuracy: 0.9373\n",
      "Epoch 25/100\n",
      "38/38 [==============================] - 1s 25ms/step - loss: 0.0213 - accuracy: 0.9983 - val_loss: 0.2913 - val_accuracy: 0.9241\n",
      "Epoch 26/100\n",
      "38/38 [==============================] - 1s 29ms/step - loss: 0.0198 - accuracy: 0.9983 - val_loss: 0.2551 - val_accuracy: 0.9340\n",
      "Epoch 27/100\n",
      "38/38 [==============================] - 1s 25ms/step - loss: 0.0281 - accuracy: 0.9975 - val_loss: 0.2341 - val_accuracy: 0.9307\n",
      "Epoch 28/100\n",
      "38/38 [==============================] - 1s 25ms/step - loss: 0.0202 - accuracy: 0.9983 - val_loss: 0.2568 - val_accuracy: 0.9241\n",
      "Epoch 29/100\n",
      "38/38 [==============================] - 1s 25ms/step - loss: 0.0141 - accuracy: 0.9992 - val_loss: 0.2912 - val_accuracy: 0.9307\n",
      "Epoch 30/100\n",
      "38/38 [==============================] - 1s 25ms/step - loss: 0.0145 - accuracy: 0.9992 - val_loss: 0.2951 - val_accuracy: 0.9340\n",
      "Epoch 31/100\n",
      "38/38 [==============================] - 1s 25ms/step - loss: 0.0173 - accuracy: 0.9983 - val_loss: 0.2643 - val_accuracy: 0.9307\n",
      "Epoch 32/100\n",
      "38/38 [==============================] - 1s 25ms/step - loss: 0.0127 - accuracy: 0.9992 - val_loss: 0.2618 - val_accuracy: 0.9340\n",
      "Epoch 33/100\n",
      "38/38 [==============================] - 1s 25ms/step - loss: 0.0122 - accuracy: 0.9983 - val_loss: 0.2685 - val_accuracy: 0.9307\n",
      "Epoch 34/100\n",
      "38/38 [==============================] - 1s 25ms/step - loss: 0.0119 - accuracy: 0.9983 - val_loss: 0.2502 - val_accuracy: 0.9274\n",
      "Epoch 35/100\n",
      "38/38 [==============================] - 1s 25ms/step - loss: 0.0115 - accuracy: 0.9992 - val_loss: 0.2547 - val_accuracy: 0.9340\n",
      "Epoch 36/100\n",
      "38/38 [==============================] - 1s 29ms/step - loss: 0.0101 - accuracy: 0.9992 - val_loss: 0.2740 - val_accuracy: 0.9241\n",
      "Epoch 37/100\n",
      "38/38 [==============================] - 1s 25ms/step - loss: 0.0104 - accuracy: 0.9983 - val_loss: 0.2694 - val_accuracy: 0.9340\n"
     ]
    }
   ],
   "source": [
    "# All models and histories will be stored here\n",
    "models = {}\n",
    "\n",
    "# Easiest and most human readable way of doing it while training two models with different parameters\n",
    "# without having to use a bunch of ugly if-statements and duplicate code. Trust me, i tried the other methods.\n",
    "model_parameters = zip(\n",
    "    ['Hate Detection', 'Target Detection'],\n",
    "    [train_labels, train_targets],\n",
    "    ['sigmoid', 'softmax'],\n",
    "    ['binary_crossentropy', 'categorical_crossentropy']\n",
    ")\n",
    "\n",
    "for model_name, labels, output_activation_function, loss_function in model_parameters:\n",
    "    model = Sequential([\n",
    "        Embedding(\n",
    "            input_dim=max_words_to_use,\n",
    "            input_length=max_sequence_length,\n",
    "            output_dim=32\n",
    "        ),\n",
    "        LSTM(units=32, activation='tanh'),\n",
    "        \n",
    "        # The number of neurons at the output depends on the number of classes.\n",
    "        # We get the number of classes by taking the shape of the label arrays as they're one-hot encoded\n",
    "        Dense(labels.shape[1], activation=output_activation_function)\n",
    "    ])\n",
    "\n",
    "    model.compile(optimizer='adam', loss=loss_function, metrics=['accuracy'])\n",
    "\n",
    "    # Using a patience and start_from_epoch of 10 as the model is still all over the place before that\n",
    "    early_stopping = EarlyStopping(monitor='val_loss', patience=10, restore_best_weights=True, start_from_epoch=10)\n",
    "    history = model.fit(train_texts, labels, epochs=100, validation_split=0.2, callbacks=[early_stopping], verbose=1)\n",
    "    models[model_name] = {'model': model, 'history': history}"
   ]
  },
  {
   "cell_type": "markdown",
   "id": "8573f44c",
   "metadata": {},
   "source": [
    "evaluating the model"
   ]
  },
  {
   "cell_type": "code",
   "execution_count": 41,
   "id": "73bf96f3",
   "metadata": {},
   "outputs": [
    {
     "data": {
      "image/png": "[encoded data removed]",
      "text/plain": [
       "<Figure size 1200x400 with 2 Axes>"
      ]
     },
     "metadata": {},
     "output_type": "display_data"
    },
    {
     "data": {
      "image/png": "[encoded data removed]",
      "text/plain": [
       "<Figure size 800x600 with 2 Axes>"
      ]
     },
     "metadata": {},
     "output_type": "display_data"
    },
    {
     "name": "stdout",
     "output_type": "stream",
     "text": [
      "Hate Detection model testing:\n",
      "Accuracy: 98.0%\n",
      "Loss: 0.07\n",
      "F1: 0.9788944671897641\n"
     ]
    },
    {
     "data": {
      "image/png": "[encoded data removed]",
      "text/plain": [
       "<Figure size 1200x400 with 2 Axes>"
      ]
     },
     "metadata": {},
     "output_type": "display_data"
    },
    {
     "data": {
      "image/png": "[encoded data removed]",
      "text/plain": [
       "<Figure size 800x600 with 2 Axes>"
      ]
     },
     "metadata": {},
     "output_type": "display_data"
    },
    {
     "name": "stdout",
     "output_type": "stream",
     "text": [
      "Target Detection model testing:\n",
      "Accuracy: 95.0%\n",
      "Loss: 0.18\n",
      "F1: 0.9474526881837815\n"
     ]
    }
   ],
   "source": [
    "# Self explanatory code \n",
    "for (model_name, model), labels in zip(models.items(), [test_labels, test_targets]):\n",
    "    test_loss, test_accuracy = model['model'].evaluate(test_texts, labels, verbose=0)\n",
    "    predictions = model['model'].predict(test_texts, verbose=0)\n",
    "    \n",
    "    if labels.shape[1] == 1: # For binary model\n",
    "        # Translate based on if prediction probability is above/below 50%\n",
    "        predicted_classes = (predictions >= 0.5).astype(int).flatten()\n",
    "        actual_classes = labels.flatten()\n",
    "    else: # For multi-class model\n",
    "        # Translate using argmax to convert into number labels\n",
    "        predicted_classes = np.argmax(predictions, axis=1)\n",
    "        actual_classes = np.argmax(labels, axis=1)\n",
    "\n",
    "    f1 = f1_score(actual_classes, predicted_classes, average='weighted')\n",
    "    cm = confusion_matrix(actual_classes, predicted_classes)\n",
    "    \n",
    "    plt.figure(figsize=(12, 4))\n",
    "    \n",
    "    for subplot, metric in enumerate(['accuracy', 'loss'], 1):\n",
    "        plt.subplot(1, 2, subplot)\n",
    "        plt.plot(model['history'].history[metric], label='Training Accuracy')\n",
    "        plt.plot(model['history'].history[f'val_{metric}'], label='Validation Accuracy')\n",
    "        plt.xlabel('Epoch')\n",
    "        plt.ylabel(metric)\n",
    "        plt.legend()\n",
    "\n",
    "    plt.suptitle(f'{model_name} model training performance')\n",
    "    plt.show()\n",
    "\n",
    "    # Confusion matrix using seaborn as that was the simplest and best looking\n",
    "    plt.figure(figsize=(8, 6))\n",
    "    sns.heatmap(cm,\n",
    "        annot=True,\n",
    "        fmt='d',\n",
    "        cmap='Blues', \n",
    "        xticklabels=np.unique(actual_classes),\n",
    "        yticklabels=np.unique(actual_classes)\n",
    "    )\n",
    "    \n",
    "    plt.xlabel('Predicted')\n",
    "    plt.ylabel('Label')\n",
    "    plt.title(f'{model_name} model testing confusion matrix')\n",
    "    plt.show()\n",
    "    \n",
    "    print(\n",
    "        f'{model_name} model testing:\\n'\n",
    "        f'Accuracy: {round(test_accuracy, 2) * 100}%\\n'\n",
    "        f'Loss: {round(test_loss, 2)}\\n'\n",
    "        f'F1: {f1}'\n",
    "    )"
   ]
  },
  {
   "cell_type": "markdown",
   "id": "2f15706d",
   "metadata": {},
   "source": [
    "### Real world usage"
   ]
  },
  {
   "cell_type": "code",
   "execution_count": 42,
   "id": "f9cc1108",
   "metadata": {},
   "outputs": [],
   "source": [
    "# for coverting our multi class labels into human readable ones \n",
    "target_lookup_table = {\n",
    "    0: 'Muslims',\n",
    "    1: 'Blacks',\n",
    "    2: 'Disabled',\n",
    "    3: 'Gays',\n",
    "    4: 'Immigrants',\n",
    "    5: 'Trans',\n",
    "    6: 'Women'\n",
    "}\n",
    "\n",
    "# Most of the code is identical to the stuff we did before feeding the data into the model the first time aroind.\n",
    "# Minimal commenting will be added.\n",
    "def detect_hate_speech(text):\n",
    "    # Convert to series as that's what texts_to_sequences() expects\n",
    "    tokenized_text = tokenizer.texts_to_sequences(pd.Series(text))\n",
    "    padded_tokenized_text = pad_sequences(tokenized_text, maxlen=max_sequence_length)\n",
    "    \n",
    "    # Use both models to classify\n",
    "    predicted_label = models['Hate Detection']['model'].predict(padded_tokenized_text, verbose=0)\n",
    "    predicted_target = models['Target Detection']['model'].predict(padded_tokenized_text, verbose=0)\n",
    "    \n",
    "    predicted_label_class = convert_to_label(predicted_label)\n",
    "    predicted_target_class = convert_to_label(predicted_target)\n",
    "    \n",
    "    return predicted_label_class, predicted_target_class\n",
    "\n",
    "def convert_to_label(prediction):\n",
    "    if prediction.shape[1] == 1:\n",
    "        label = (prediction <= 0.5).item() # item() converts to pythonic bool\n",
    "    else:\n",
    "        multi_class_label = np.argmax(prediction, axis=1)\n",
    "        label = target_lookup_table[multi_class_label[0]]\n",
    "    \n",
    "    return label"
   ]
  },
  {
   "cell_type": "code",
   "execution_count": 43,
   "id": "e7182067",
   "metadata": {},
   "outputs": [
    {
     "name": "stdout",
     "output_type": "stream",
     "text": [
      "The text \"i hate women\" is hateful towards the group \"Women\"\n",
      "The text \"i love women\" is not hateful towards the group \"Women\"\n",
      "The text \"i hate black people\" is hateful towards the group \"Blacks\"\n",
      "The text \"Immigrants are a bunch of cool people\" is hateful towards the group \"Immigrants\"\n",
      "The text \"Immigrants are all dicks\" is hateful towards the group \"Immigrants\"\n"
     ]
    }
   ],
   "source": [
    "example_texts = [\n",
    "    'i hate women',\n",
    "    'i love women',\n",
    "    'i hate black people',\n",
    "    'Immigrants are a bunch of cool people', # Shows the models limitations\n",
    "    'Immigrants are all dicks'\n",
    "]\n",
    "\n",
    "for text in example_texts:\n",
    "    is_hateful, target_group = detect_hate_speech(text)\n",
    "    print(f'''The text \"{text}\" is {'hateful' if is_hateful else 'not hateful'} towards the group \"{target_group}\"''')"
   ]
  },
  {
   "cell_type": "markdown",
   "id": "89d3c795",
   "metadata": {},
   "source": [
    "### Q&A/Motivations"
   ]
  },
  {
   "cell_type": "markdown",
   "id": "2315463f",
   "metadata": {},
   "source": [
    "- #### Motivera din modell, dess arkitektur och val av relevanta hyperparametrar.\n",
    "  After doing some data exploration/generally examining the dataset, i noticed that the spesific problem i was trying to solve was essentially perfect for the LSTM architecture of models. This because LSTMs have both a long and short term memory, giving them the ability to capture the context in the various texts, without running into things like vanishing gradient problems, something vanilla RNNs struggling with at times.\n",
    "  \n",
    "  Why not use something fancier and more advanced such as transformer, you might ask?\n",
    "  Well. The snippets of text where short and to the point with minimal context needed in order to determin hate/non-hatefulness as well as the target group in question. Thus allowing us to [reduce complexity](https://en.wikipedia.org/wiki/Occam%27s_razor) while achieving the same result. This did however add some incremental complexity in that two LSTMs where needed, one for each classification problem.\n",
    "\n",
    "  Note: I'm going to refrain from explaining the entire LSTM model architecture (the hidden stuff behind the scenes) given that I've already done so in excruciating (in relation to the prior assignment) detail. The TLDR (as seen in the code) is that we convert the data into a numeric token representations and feed it into an embedding layer which converts the data into dense vectors of a fixed size. This helps capture the semantic relationships between words of similar meaning. After this we simply feed the data the LSTM layer which does the work for us. The data is than finally fed into an output dense layer which gives us our predictions in probabilistic form. We than we subsequently convert them back into labels. Training is of course done using gradient descent and the ADAM optimizer, with a appropriate loss function.\n",
    "  \n",
    "  Now for the hyperparameter choices, which I'll be elaborating and explaning one by one.\n",
    "\n",
    "  - LSTM units\n",
    "    - I had already gotten great results from prior use of LSTMs with 32 units on a similar problem in the past and decided to stick with that. The end result was great, so i didn't see a need to further tune this parameter.\n",
    "      \n",
    "  - LSTM activation\n",
    "    - LSTM's are based on the RNN architecture which benefits from tanh as activation function. Tanh has a bound of -1 - 1 which tends to make the network less likely to suffer from the common problem of vanishing gradients which RNNs are known for. It's also sort of an industry standard to use tanh for LSTMs.\n",
    "  \n",
    "  - Dense units/activation\n",
    "    - Given the difference in output labels, one being binary and the other a multi-class model, each one requires a different number of output neurons (units). The binary one for hate/non-hate detection gets a single neuron with an activation of sigmoid, while the one for target detection gets 7 neurons and softmax as activation.<br>Sigmoid is used in order to generate probabilities (bounded to between 0 - 1) as output for the binary classification model. Softmax on the other hand tries to maximize the value for the predicted numeric label. A softmax output can thus look something like [0.01, 0.0042, 0.1334, 0.993, 0.1, 0.00042, 0.11], with the predicted numeric label being 4 in this case.\n",
    "\n",
    "  - Optimizer/Loss function\n",
    "    - As stated above, we've got one binary and one multi-class classifier, making binary_crossentropy and categorical_crossentropy the obvious choices. The choice was equally obvious for the optmizer given Adam offers the best performance for most applications.\n",
    "  \n",
    "  - Early stopping\n",
    "    - I wanted to train the model to completion, but didn't want to overfit it to the data. So i opted for Early stopping after the first 10 epochs with a resonable patience parameter. This ensures the model trains until it's in a global maximum (or close to it) while avoiding overfitting by backtracking to the best weights once training is done.\n",
    "\n",
    "- #### Har du använt någon databehandling? Varför?\n",
    "  - Plenty, which i'll describe/elaborate on in steps for easiest consumption\n",
    "  \n",
    "    - Cleaning\n",
    "      1. Dropped the irrelevant columns and renamed the rest to something more appropriate for easier viewing/handling of the datadset.\n",
    "      2. Dropped all the rows with target NaN values as they weren't relevant to the dataset given non of the texts actually had anything to do with hate/non-hate comments nor any target groups.\n",
    "      3. Balanced the dataset such that there was a roughly equal number of hate/non-hate and target group entries in order to prevent the model from biasing (overfitting) to one type of text/label during training\n",
    "    \n",
    "    \n",
    "    - Preprocessing\n",
    "      1. Shuffled the dataset rows in order to randomize the data being fed into the model during training to prevent overfitting.\n",
    "      2. Tokenized and padded the texts in order to get equally long numerical representations of the data which can be fed into the model.\n",
    "      3. One-hot and binary encoded the labels/targets, for the same reason(s) as stated above.\n",
    "      4. Train test split the data (reasons being obvious)\n",
    "\n",
    "\n",
    "- #### Utvärdera modellens prestanda. / Är prestandan bra? Varför/varför inte?\n",
    "  At first i didn't expect the models to perform that well given the small dataset. I mean sure, they'd probably perform amazingly during training, while giving off mediocre results on the test data... right?<br>\n",
    "  Wrong!\n",
    "\n",
    "  It absolutely smashes the accuracy scores on the test data, with both models coming in at >=95%. Now, it's worth mentioning that these results ought to be taken with a mountainous grain of salt given the miniscule dataset. We can for example still not obtain accurate precision/recall estimates for the hate/non-hate model given how actually few cases where falsely labeled. Nor can we draw any definitive conclusions as to how well these models will perform in a real world setting. Proceed with caution, is what i'm trying to say.\n",
    "  \n",
    "  With that being said, I non the less believe that these great results can be attributed to applying LSTMs to the task which they where designed for. Deriving meaning and context from short snippets of text.\n",
    "\n",
    "  Another notable thing to consider is that both models converge to near 100% accuracy on the training set within 5 - 15 epochs, again pointing to a lack of data rather than the insane performance charactaristics of LSTMs. The models also display clear signs of overfitting to word usage rather than sentiment, as can be seen by the manual example text inputs.\n",
    "\n",
    "  but overall?<br>\n",
    "  Color me impressed!\n",
    "\n",
    "\n",
    "- #### Vad hade du kunnat göra för att förbättra den ytterligare?\n",
    "  the first order of business (as stated above) would be to dramatically increase the size of the dataset. That alone would solve most of the questionable results and lead to a much more competent model that can actually perform well on sophisticated sentances.\n",
    "\n",
    "  Another possible approach would be data augmentation.<br>It's no secret that the human language is extremely low entropy and thus subject to interpretation. You could thus argue that the models would perform essentially the same even if we say, shuffle the words around (papers linked below). Sure, the sentances would become basically unreadable to any human (without some serious effort), but the general meaning would probably still be attainable by the model. Though the model would probably bias itself to giving predictions based off of word usage rather than sentiment.\n",
    "\n",
    "  - https://aclanthology.org/S17-1003.pdf\n",
    "  - https://alvinntnu.github.io/NTNU_ENC2045_LECTURES/nlp/ml-sklearn-classification.html\n",
    "\n",
    "\n",
    "  This could not only improve the models ability to generalize, but also double or triple our dataset size."
   ]
  }
 ],
 "metadata": {
  "kernelspec": {
   "display_name": "Python 3 (ipykernel)",
   "language": "python",
   "name": "python3"
  },
  "language_info": {
   "codemirror_mode": {
    "name": "ipython",
    "version": 3
   },
   "file_extension": ".py",
   "mimetype": "text/x-python",
   "name": "python",
   "nbconvert_exporter": "python",
   "pygments_lexer": "ipython3",
   "version": "3.8.10"
  }
 },
 "nbformat": 4,
 "nbformat_minor": 5
}
