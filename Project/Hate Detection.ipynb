{
 "cells": [
  {
   "cell_type": "markdown",
   "id": "1135a423",
   "metadata": {},
   "source": [
    "todo\n",
    "1. optimize hyperparameters\n",
    "2. clean dataset\n",
    "    - balance\n",
    "3. data augmentation\n",
    "4. add requirments.txt\n",
    "5. correct title (of file as well)\n",
    "6. go through all variable names\n",
    "7. ask which types of groups should \"be in focus\". Do disabled people count?\n",
    "8. more advaned duplicate dropping?\n",
    "9. balancing the dataset needed?\n",
    "10. dedicated train test split?\n",
    "11. data augmentation only on train?\n",
    "12. remove duplicates a second time\n",
    "13. train test split after tokenization?\n",
    "14. change train test split ratio?\n",
    "15. wtf is \"output_dim\"?"
   ]
  },
  {
   "cell_type": "markdown",
   "id": "a33c9a6d",
   "metadata": {},
   "source": [
    "# Hate Detection"
   ]
  },
  {
   "cell_type": "code",
   "execution_count": 579,
   "metadata": {},
   "outputs": [],
   "source": [
    "import numpy as np\n",
    "import pandas as pd\n",
    "import matplotlib.pyplot as plt\n",
    "import seaborn as sns\n",
    "\n",
    "from sklearn.model_selection import train_test_split\n",
    "from sklearn.preprocessing import LabelBinarizer\n",
    "from sklearn.metrics import confusion_matrix, f1_score\n",
    "\n",
    "from keras.callbacks import EarlyStopping\n",
    "from keras.layers import SimpleRNN, LSTM, GRU, Bidirectional, Dense, Embedding\n",
    "from keras.models import Sequential\n",
    "from keras.preprocessing.text import Tokenizer\n",
    "from keras.utils import pad_sequences\n",
    "\n",
    "\n",
    "from random import sample"
   ]
  },
  {
   "cell_type": "markdown",
   "id": "685a1498",
   "metadata": {},
   "source": [
    "### Data Exploration"
   ]
  },
  {
   "cell_type": "code",
   "execution_count": 580,
   "id": "8e7091f1",
   "metadata": {},
   "outputs": [
    {
     "data": {
      "text/html": [
       "<div>\n",
       "<style scoped>\n",
       "    .dataframe tbody tr th:only-of-type {\n",
       "        vertical-align: middle;\n",
       "    }\n",
       "\n",
       "    .dataframe tbody tr th {\n",
       "        vertical-align: top;\n",
       "    }\n",
       "\n",
       "    .dataframe thead th {\n",
       "        text-align: right;\n",
       "    }\n",
       "</style>\n",
       "<table border=\"1\" class=\"dataframe\">\n",
       "  <thead>\n",
       "    <tr style=\"text-align: right;\">\n",
       "      <th></th>\n",
       "      <th>case_id</th>\n",
       "      <th>test_case</th>\n",
       "      <th>label_gold</th>\n",
       "      <th>target_ident</th>\n",
       "    </tr>\n",
       "  </thead>\n",
       "  <tbody>\n",
       "    <tr>\n",
       "      <th>0</th>\n",
       "      <td>1</td>\n",
       "      <td>I hate women.</td>\n",
       "      <td>hateful</td>\n",
       "      <td>women</td>\n",
       "    </tr>\n",
       "    <tr>\n",
       "      <th>1</th>\n",
       "      <td>2</td>\n",
       "      <td>I hate trans people.</td>\n",
       "      <td>hateful</td>\n",
       "      <td>trans people</td>\n",
       "    </tr>\n",
       "    <tr>\n",
       "      <th>2</th>\n",
       "      <td>3</td>\n",
       "      <td>I hate gay people.</td>\n",
       "      <td>hateful</td>\n",
       "      <td>gay people</td>\n",
       "    </tr>\n",
       "    <tr>\n",
       "      <th>3</th>\n",
       "      <td>4</td>\n",
       "      <td>I hate black people.</td>\n",
       "      <td>hateful</td>\n",
       "      <td>black people</td>\n",
       "    </tr>\n",
       "    <tr>\n",
       "      <th>4</th>\n",
       "      <td>5</td>\n",
       "      <td>I hate disabled people.</td>\n",
       "      <td>hateful</td>\n",
       "      <td>disabled people</td>\n",
       "    </tr>\n",
       "    <tr>\n",
       "      <th>...</th>\n",
       "      <td>...</td>\n",
       "      <td>...</td>\n",
       "      <td>...</td>\n",
       "      <td>...</td>\n",
       "    </tr>\n",
       "    <tr>\n",
       "      <th>3896</th>\n",
       "      <td>3897</td>\n",
       "      <td>Gay people are all complete 4ssholes.</td>\n",
       "      <td>hateful</td>\n",
       "      <td>gay people</td>\n",
       "    </tr>\n",
       "    <tr>\n",
       "      <th>3897</th>\n",
       "      <td>3898</td>\n",
       "      <td>Black people are all complete 4ssholes.</td>\n",
       "      <td>hateful</td>\n",
       "      <td>black people</td>\n",
       "    </tr>\n",
       "    <tr>\n",
       "      <th>3898</th>\n",
       "      <td>3899</td>\n",
       "      <td>Disabled people are all complete 4ssholes.</td>\n",
       "      <td>hateful</td>\n",
       "      <td>disabled people</td>\n",
       "    </tr>\n",
       "    <tr>\n",
       "      <th>3899</th>\n",
       "      <td>3900</td>\n",
       "      <td>Muslims are all complete 4ssholes.</td>\n",
       "      <td>hateful</td>\n",
       "      <td>Muslims</td>\n",
       "    </tr>\n",
       "    <tr>\n",
       "      <th>3900</th>\n",
       "      <td>3901</td>\n",
       "      <td>Immigrants are all complete 4ssholes.</td>\n",
       "      <td>hateful</td>\n",
       "      <td>immigrants</td>\n",
       "    </tr>\n",
       "  </tbody>\n",
       "</table>\n",
       "<p>3901 rows × 4 columns</p>\n",
       "</div>"
      ],
      "text/plain": [
       "      case_id                                    test_case label_gold  \\\n",
       "0           1                               I hate women.     hateful   \n",
       "1           2                        I hate trans people.     hateful   \n",
       "2           3                          I hate gay people.     hateful   \n",
       "3           4                        I hate black people.     hateful   \n",
       "4           5                     I hate disabled people.     hateful   \n",
       "...       ...                                          ...        ...   \n",
       "3896     3897       Gay people are all complete 4ssholes.     hateful   \n",
       "3897     3898     Black people are all complete 4ssholes.     hateful   \n",
       "3898     3899  Disabled people are all complete 4ssholes.     hateful   \n",
       "3899     3900          Muslims are all complete 4ssholes.     hateful   \n",
       "3900     3901       Immigrants are all complete 4ssholes.     hateful   \n",
       "\n",
       "         target_ident  \n",
       "0               women  \n",
       "1        trans people  \n",
       "2          gay people  \n",
       "3        black people  \n",
       "4     disabled people  \n",
       "...               ...  \n",
       "3896       gay people  \n",
       "3897     black people  \n",
       "3898  disabled people  \n",
       "3899          Muslims  \n",
       "3900       immigrants  \n",
       "\n",
       "[3901 rows x 4 columns]"
      ]
     },
     "execution_count": 580,
     "metadata": {},
     "output_type": "execute_result"
    }
   ],
   "source": [
    "data = pd.read_csv('hate-text.csv')\n",
    "data"
   ]
  },
  {
   "cell_type": "markdown",
   "id": "09f98012",
   "metadata": {},
   "source": [
    "The dataset contains some missing values in the target_ident column, which we'll have to deal with later"
   ]
  },
  {
   "cell_type": "code",
   "execution_count": 581,
   "id": "4c5ef997",
   "metadata": {},
   "outputs": [
    {
     "data": {
      "text/plain": [
       "case_id         False\n",
       "test_case       False\n",
       "label_gold      False\n",
       "target_ident     True\n",
       "dtype: bool"
      ]
     },
     "metadata": {},
     "output_type": "display_data"
    },
    {
     "data": {
      "text/html": [
       "<div>\n",
       "<style scoped>\n",
       "    .dataframe tbody tr th:only-of-type {\n",
       "        vertical-align: middle;\n",
       "    }\n",
       "\n",
       "    .dataframe tbody tr th {\n",
       "        vertical-align: top;\n",
       "    }\n",
       "\n",
       "    .dataframe thead th {\n",
       "        text-align: right;\n",
       "    }\n",
       "</style>\n",
       "<table border=\"1\" class=\"dataframe\">\n",
       "  <thead>\n",
       "    <tr style=\"text-align: right;\">\n",
       "      <th></th>\n",
       "      <th>case_id</th>\n",
       "      <th>test_case</th>\n",
       "      <th>label_gold</th>\n",
       "      <th>target_ident</th>\n",
       "    </tr>\n",
       "  </thead>\n",
       "  <tbody>\n",
       "    <tr>\n",
       "      <th>1271</th>\n",
       "      <td>1272</td>\n",
       "      <td>Fucking hell, what a day.</td>\n",
       "      <td>non-hateful</td>\n",
       "      <td>NaN</td>\n",
       "    </tr>\n",
       "    <tr>\n",
       "      <th>1272</th>\n",
       "      <td>1273</td>\n",
       "      <td>That's a great fucking idea.</td>\n",
       "      <td>non-hateful</td>\n",
       "      <td>NaN</td>\n",
       "    </tr>\n",
       "    <tr>\n",
       "      <th>1273</th>\n",
       "      <td>1274</td>\n",
       "      <td>No fucking way.</td>\n",
       "      <td>non-hateful</td>\n",
       "      <td>NaN</td>\n",
       "    </tr>\n",
       "    <tr>\n",
       "      <th>1274</th>\n",
       "      <td>1275</td>\n",
       "      <td>I'm so fucking excited.</td>\n",
       "      <td>non-hateful</td>\n",
       "      <td>NaN</td>\n",
       "    </tr>\n",
       "    <tr>\n",
       "      <th>1275</th>\n",
       "      <td>1276</td>\n",
       "      <td>Are you fucking kidding me?</td>\n",
       "      <td>non-hateful</td>\n",
       "      <td>NaN</td>\n",
       "    </tr>\n",
       "    <tr>\n",
       "      <th>...</th>\n",
       "      <td>...</td>\n",
       "      <td>...</td>\n",
       "      <td>...</td>\n",
       "      <td>...</td>\n",
       "    </tr>\n",
       "    <tr>\n",
       "      <th>3097</th>\n",
       "      <td>3098</td>\n",
       "      <td>Pro lifers should get the fuck out of our coun...</td>\n",
       "      <td>non-hateful</td>\n",
       "      <td>NaN</td>\n",
       "    </tr>\n",
       "    <tr>\n",
       "      <th>3098</th>\n",
       "      <td>3099</td>\n",
       "      <td>Most gun dealers are seriously fucked in the h...</td>\n",
       "      <td>non-hateful</td>\n",
       "      <td>NaN</td>\n",
       "    </tr>\n",
       "    <tr>\n",
       "      <th>3099</th>\n",
       "      <td>3100</td>\n",
       "      <td>By nature, corporate accountants are just shit...</td>\n",
       "      <td>non-hateful</td>\n",
       "      <td>NaN</td>\n",
       "    </tr>\n",
       "    <tr>\n",
       "      <th>3100</th>\n",
       "      <td>3101</td>\n",
       "      <td>Most real estate agents are absolute bastards.</td>\n",
       "      <td>non-hateful</td>\n",
       "      <td>NaN</td>\n",
       "    </tr>\n",
       "    <tr>\n",
       "      <th>3101</th>\n",
       "      <td>3102</td>\n",
       "      <td>Of course that dumbass was a snowboarder.</td>\n",
       "      <td>non-hateful</td>\n",
       "      <td>NaN</td>\n",
       "    </tr>\n",
       "  </tbody>\n",
       "</table>\n",
       "<p>295 rows × 4 columns</p>\n",
       "</div>"
      ],
      "text/plain": [
       "      case_id                                          test_case   label_gold  \\\n",
       "1271     1272                         Fucking hell, what a day.   non-hateful   \n",
       "1272     1273                      That's a great fucking idea.   non-hateful   \n",
       "1273     1274                                   No fucking way.   non-hateful   \n",
       "1274     1275                           I'm so fucking excited.   non-hateful   \n",
       "1275     1276                        Are you fucking kidding me?  non-hateful   \n",
       "...       ...                                                ...          ...   \n",
       "3097     3098  Pro lifers should get the fuck out of our coun...  non-hateful   \n",
       "3098     3099  Most gun dealers are seriously fucked in the h...  non-hateful   \n",
       "3099     3100  By nature, corporate accountants are just shit...  non-hateful   \n",
       "3100     3101    Most real estate agents are absolute bastards.   non-hateful   \n",
       "3101     3102         Of course that dumbass was a snowboarder.   non-hateful   \n",
       "\n",
       "     target_ident  \n",
       "1271          NaN  \n",
       "1272          NaN  \n",
       "1273          NaN  \n",
       "1274          NaN  \n",
       "1275          NaN  \n",
       "...           ...  \n",
       "3097          NaN  \n",
       "3098          NaN  \n",
       "3099          NaN  \n",
       "3100          NaN  \n",
       "3101          NaN  \n",
       "\n",
       "[295 rows x 4 columns]"
      ]
     },
     "metadata": {},
     "output_type": "display_data"
    }
   ],
   "source": [
    "# Using display() to display both at the same time. Won't comment any future use of display() (for obvious reasons)\n",
    "display(\n",
    "    data.isnull().any(),\n",
    "    data[data.isna().any(axis=1)]\n",
    ")"
   ]
  },
  {
   "cell_type": "markdown",
   "id": "a6376600",
   "metadata": {},
   "source": [
    "No duplicate texts found"
   ]
  },
  {
   "cell_type": "code",
   "execution_count": 582,
   "id": "d1517ff5",
   "metadata": {},
   "outputs": [
    {
     "name": "stdout",
     "output_type": "stream",
     "text": [
      "duplicate texts: False\n"
     ]
    }
   ],
   "source": [
    "print(f'''duplicate texts: {data['test_case'].duplicated().any()}''')"
   ]
  },
  {
   "cell_type": "markdown",
   "id": "1717c279",
   "metadata": {},
   "source": [
    "While the dataset is quite balanced in the target groups, it's still assymetric when it comes to the number of hate/non-hate texts"
   ]
  },
  {
   "cell_type": "code",
   "execution_count": 583,
   "id": "f284db55",
   "metadata": {},
   "outputs": [
    {
     "data": {
      "text/html": [
       "<div>\n",
       "<style scoped>\n",
       "    .dataframe tbody tr th:only-of-type {\n",
       "        vertical-align: middle;\n",
       "    }\n",
       "\n",
       "    .dataframe tbody tr th {\n",
       "        vertical-align: top;\n",
       "    }\n",
       "\n",
       "    .dataframe thead th {\n",
       "        text-align: right;\n",
       "    }\n",
       "</style>\n",
       "<table border=\"1\" class=\"dataframe\">\n",
       "  <thead>\n",
       "    <tr style=\"text-align: right;\">\n",
       "      <th></th>\n",
       "      <th>count</th>\n",
       "    </tr>\n",
       "    <tr>\n",
       "      <th>label_gold</th>\n",
       "      <th></th>\n",
       "    </tr>\n",
       "  </thead>\n",
       "  <tbody>\n",
       "    <tr>\n",
       "      <th>hateful</th>\n",
       "      <td>2659</td>\n",
       "    </tr>\n",
       "    <tr>\n",
       "      <th>non-hateful</th>\n",
       "      <td>1242</td>\n",
       "    </tr>\n",
       "  </tbody>\n",
       "</table>\n",
       "</div>"
      ],
      "text/plain": [
       "             count\n",
       "label_gold        \n",
       "hateful       2659\n",
       "non-hateful   1242"
      ]
     },
     "metadata": {},
     "output_type": "display_data"
    },
    {
     "data": {
      "text/html": [
       "<div>\n",
       "<style scoped>\n",
       "    .dataframe tbody tr th:only-of-type {\n",
       "        vertical-align: middle;\n",
       "    }\n",
       "\n",
       "    .dataframe tbody tr th {\n",
       "        vertical-align: top;\n",
       "    }\n",
       "\n",
       "    .dataframe thead th {\n",
       "        text-align: right;\n",
       "    }\n",
       "</style>\n",
       "<table border=\"1\" class=\"dataframe\">\n",
       "  <thead>\n",
       "    <tr style=\"text-align: right;\">\n",
       "      <th></th>\n",
       "      <th>count</th>\n",
       "    </tr>\n",
       "    <tr>\n",
       "      <th>target_ident</th>\n",
       "      <th></th>\n",
       "    </tr>\n",
       "  </thead>\n",
       "  <tbody>\n",
       "    <tr>\n",
       "      <th>gay people</th>\n",
       "      <td>577</td>\n",
       "    </tr>\n",
       "    <tr>\n",
       "      <th>women</th>\n",
       "      <td>535</td>\n",
       "    </tr>\n",
       "    <tr>\n",
       "      <th>disabled people</th>\n",
       "      <td>510</td>\n",
       "    </tr>\n",
       "    <tr>\n",
       "      <th>Muslims</th>\n",
       "      <td>510</td>\n",
       "    </tr>\n",
       "    <tr>\n",
       "      <th>black people</th>\n",
       "      <td>504</td>\n",
       "    </tr>\n",
       "    <tr>\n",
       "      <th>trans people</th>\n",
       "      <td>485</td>\n",
       "    </tr>\n",
       "    <tr>\n",
       "      <th>immigrants</th>\n",
       "      <td>485</td>\n",
       "    </tr>\n",
       "  </tbody>\n",
       "</table>\n",
       "</div>"
      ],
      "text/plain": [
       "                 count\n",
       "target_ident          \n",
       "gay people         577\n",
       "women              535\n",
       "disabled people    510\n",
       "Muslims            510\n",
       "black people       504\n",
       "trans people       485\n",
       "immigrants         485"
      ]
     },
     "metadata": {},
     "output_type": "display_data"
    }
   ],
   "source": [
    "display(\n",
    "    pd.DataFrame(data['label_gold'].value_counts()),\n",
    "    pd.DataFrame(data['target_ident'].value_counts())\n",
    ")"
   ]
  },
  {
   "cell_type": "markdown",
   "id": "3cb51211",
   "metadata": {},
   "source": [
    "No unusually short/long texts"
   ]
  },
  {
   "cell_type": "code",
   "execution_count": 584,
   "id": "02f8d1f1",
   "metadata": {},
   "outputs": [
    {
     "name": "stdout",
     "output_type": "stream",
     "text": [
      "Shortest: 104, \"When will it finally be clear to people that it's in a disabled person's nature to be an annoying prick?\"\n",
      "Longest: 11, \"Ihate women\"\n"
     ]
    }
   ],
   "source": [
    "longest_text_length = data['test_case'].str.len().max()\n",
    "shortest_text_length = data['test_case'].str.len().min()\n",
    "\n",
    "longest_text_index = data['test_case'].str.len().idxmax()\n",
    "shortest_text_index = data['test_case'].str.len().idxmin()\n",
    "\n",
    "print(\n",
    "    f'''Shortest: {longest_text_length}, \"{data['test_case'][longest_text_index]}\"\\n'''\n",
    "    f'''Longest: {shortest_text_length}, \"{data['test_case'][shortest_text_index]}\"'''\n",
    ")"
   ]
  },
  {
   "cell_type": "markdown",
   "id": "99bc3645",
   "metadata": {},
   "source": [
    "### Data cleaning"
   ]
  },
  {
   "cell_type": "markdown",
   "id": "a99d2b61",
   "metadata": {},
   "source": [
    "Drop and rename columns to something more suitable"
   ]
  },
  {
   "cell_type": "code",
   "execution_count": 585,
   "id": "95f2d88a",
   "metadata": {},
   "outputs": [
    {
     "data": {
      "text/html": [
       "<div>\n",
       "<style scoped>\n",
       "    .dataframe tbody tr th:only-of-type {\n",
       "        vertical-align: middle;\n",
       "    }\n",
       "\n",
       "    .dataframe tbody tr th {\n",
       "        vertical-align: top;\n",
       "    }\n",
       "\n",
       "    .dataframe thead th {\n",
       "        text-align: right;\n",
       "    }\n",
       "</style>\n",
       "<table border=\"1\" class=\"dataframe\">\n",
       "  <thead>\n",
       "    <tr style=\"text-align: right;\">\n",
       "      <th></th>\n",
       "      <th>text</th>\n",
       "      <th>label</th>\n",
       "      <th>target</th>\n",
       "    </tr>\n",
       "  </thead>\n",
       "  <tbody>\n",
       "    <tr>\n",
       "      <th>0</th>\n",
       "      <td>I hate women.</td>\n",
       "      <td>hateful</td>\n",
       "      <td>women</td>\n",
       "    </tr>\n",
       "    <tr>\n",
       "      <th>1</th>\n",
       "      <td>I hate trans people.</td>\n",
       "      <td>hateful</td>\n",
       "      <td>trans people</td>\n",
       "    </tr>\n",
       "    <tr>\n",
       "      <th>2</th>\n",
       "      <td>I hate gay people.</td>\n",
       "      <td>hateful</td>\n",
       "      <td>gay people</td>\n",
       "    </tr>\n",
       "    <tr>\n",
       "      <th>3</th>\n",
       "      <td>I hate black people.</td>\n",
       "      <td>hateful</td>\n",
       "      <td>black people</td>\n",
       "    </tr>\n",
       "    <tr>\n",
       "      <th>4</th>\n",
       "      <td>I hate disabled people.</td>\n",
       "      <td>hateful</td>\n",
       "      <td>disabled people</td>\n",
       "    </tr>\n",
       "  </tbody>\n",
       "</table>\n",
       "</div>"
      ],
      "text/plain": [
       "                       text    label           target\n",
       "0            I hate women.   hateful            women\n",
       "1     I hate trans people.   hateful     trans people\n",
       "2       I hate gay people.   hateful       gay people\n",
       "3     I hate black people.   hateful     black people\n",
       "4  I hate disabled people.   hateful  disabled people"
      ]
     },
     "execution_count": 585,
     "metadata": {},
     "output_type": "execute_result"
    }
   ],
   "source": [
    "data = data.drop('case_id', axis=1)\n",
    "data = data.rename(\n",
    "    columns=\n",
    "    {\n",
    "        'test_case': 'text',\n",
    "        'label_gold': 'label',\n",
    "        'target_ident': 'target',\n",
    "    }\n",
    ")\n",
    "\n",
    "data.head()"
   ]
  },
  {
   "cell_type": "markdown",
   "id": "9c7a93d9",
   "metadata": {},
   "source": [
    "It appears as though non of the missing target data have any relevant hate speech associated with them. This can easily be varified by manually looking at the dataset (given its tiny size). But alas, given my horrendous dyslexia i decided to programmatically varify it as a sanity check"
   ]
  },
  {
   "cell_type": "code",
   "execution_count": 586,
   "id": "13deda2d",
   "metadata": {},
   "outputs": [],
   "source": [
    "target_search_words = [\n",
    "    'gay',\n",
    "    'women',\n",
    "    'disabled',\n",
    "    'Muslims',\n",
    "    'black',\n",
    "    'trans',\n",
    "    'immigrants'\n",
    "]\n",
    "\n",
    "# Get all rows targets with NaNs\n",
    "data_target_nans = data[data['target'].isna()]\n",
    "\n",
    "for index, row in data_target_nans.iterrows():\n",
    "    for word in target_search_words:\n",
    "        # Split by words and search each one\n",
    "        if word in row['text'].split(' '):\n",
    "            print(f'''found target word in: \"{row['text']}\" row''')"
   ]
  },
  {
   "cell_type": "markdown",
   "id": "763d7427",
   "metadata": {},
   "source": [
    "I'm now confident in dropping all rows with target NaN values"
   ]
  },
  {
   "cell_type": "code",
   "execution_count": 587,
   "id": "23295a44",
   "metadata": {},
   "outputs": [],
   "source": [
    "data = data.dropna()"
   ]
  },
  {
   "cell_type": "markdown",
   "id": "5bf744ae",
   "metadata": {},
   "source": [
    "Balance the dataset"
   ]
  },
  {
   "cell_type": "code",
   "execution_count": 588,
   "id": "955d0920",
   "metadata": {},
   "outputs": [
    {
     "data": {
      "text/html": [
       "<div>\n",
       "<style scoped>\n",
       "    .dataframe tbody tr th:only-of-type {\n",
       "        vertical-align: middle;\n",
       "    }\n",
       "\n",
       "    .dataframe tbody tr th {\n",
       "        vertical-align: top;\n",
       "    }\n",
       "\n",
       "    .dataframe thead th {\n",
       "        text-align: right;\n",
       "    }\n",
       "</style>\n",
       "<table border=\"1\" class=\"dataframe\">\n",
       "  <thead>\n",
       "    <tr style=\"text-align: right;\">\n",
       "      <th></th>\n",
       "      <th>count</th>\n",
       "    </tr>\n",
       "    <tr>\n",
       "      <th>label</th>\n",
       "      <th></th>\n",
       "    </tr>\n",
       "  </thead>\n",
       "  <tbody>\n",
       "    <tr>\n",
       "      <th>hateful</th>\n",
       "      <td>947</td>\n",
       "    </tr>\n",
       "    <tr>\n",
       "      <th>non-hateful</th>\n",
       "      <td>947</td>\n",
       "    </tr>\n",
       "  </tbody>\n",
       "</table>\n",
       "</div>"
      ],
      "text/plain": [
       "             count\n",
       "label             \n",
       "hateful        947\n",
       "non-hateful    947"
      ]
     },
     "metadata": {},
     "output_type": "display_data"
    },
    {
     "data": {
      "text/html": [
       "<div>\n",
       "<style scoped>\n",
       "    .dataframe tbody tr th:only-of-type {\n",
       "        vertical-align: middle;\n",
       "    }\n",
       "\n",
       "    .dataframe tbody tr th {\n",
       "        vertical-align: top;\n",
       "    }\n",
       "\n",
       "    .dataframe thead th {\n",
       "        text-align: right;\n",
       "    }\n",
       "</style>\n",
       "<table border=\"1\" class=\"dataframe\">\n",
       "  <thead>\n",
       "    <tr style=\"text-align: right;\">\n",
       "      <th></th>\n",
       "      <th>count</th>\n",
       "    </tr>\n",
       "    <tr>\n",
       "      <th>target</th>\n",
       "      <th></th>\n",
       "    </tr>\n",
       "  </thead>\n",
       "  <tbody>\n",
       "    <tr>\n",
       "      <th>gay people</th>\n",
       "      <td>330</td>\n",
       "    </tr>\n",
       "    <tr>\n",
       "      <th>black people</th>\n",
       "      <td>276</td>\n",
       "    </tr>\n",
       "    <tr>\n",
       "      <th>women</th>\n",
       "      <td>276</td>\n",
       "    </tr>\n",
       "    <tr>\n",
       "      <th>Muslims</th>\n",
       "      <td>258</td>\n",
       "    </tr>\n",
       "    <tr>\n",
       "      <th>disabled people</th>\n",
       "      <td>258</td>\n",
       "    </tr>\n",
       "    <tr>\n",
       "      <th>trans people</th>\n",
       "      <td>256</td>\n",
       "    </tr>\n",
       "    <tr>\n",
       "      <th>immigrants</th>\n",
       "      <td>240</td>\n",
       "    </tr>\n",
       "  </tbody>\n",
       "</table>\n",
       "</div>"
      ],
      "text/plain": [
       "                 count\n",
       "target                \n",
       "gay people         330\n",
       "black people       276\n",
       "women              276\n",
       "Muslims            258\n",
       "disabled people    258\n",
       "trans people       256\n",
       "immigrants         240"
      ]
     },
     "metadata": {},
     "output_type": "display_data"
    }
   ],
   "source": [
    "hateful = data['label'].value_counts()['hateful']\n",
    "non_hateful = data['label'].value_counts()['non-hateful']\n",
    "\n",
    "# Because we've got far more hateful texts\n",
    "number_of_rows_to_drop = hateful - non_hateful\n",
    "\n",
    "# randomly sample the rows and and drop them\n",
    "rows_indexes_to_remove = data[data['label'] == 'hateful'].sample(n=number_of_rows_to_drop).index\n",
    "data = data.drop(rows_indexes_to_remove)\n",
    "\n",
    "display(\n",
    "    pd.DataFrame(data['label'].value_counts()),\n",
    "    pd.DataFrame(data['target'].value_counts())\n",
    ")"
   ]
  },
  {
   "cell_type": "markdown",
   "id": "613833d5",
   "metadata": {},
   "source": [
    "### Data preprocessing"
   ]
  },
  {
   "cell_type": "markdown",
   "id": "f606c944",
   "metadata": {},
   "source": [
    "Shuffle the dataset"
   ]
  },
  {
   "cell_type": "code",
   "execution_count": 589,
   "id": "a0c1182a",
   "metadata": {},
   "outputs": [
    {
     "data": {
      "text/html": [
       "<div>\n",
       "<style scoped>\n",
       "    .dataframe tbody tr th:only-of-type {\n",
       "        vertical-align: middle;\n",
       "    }\n",
       "\n",
       "    .dataframe tbody tr th {\n",
       "        vertical-align: top;\n",
       "    }\n",
       "\n",
       "    .dataframe thead th {\n",
       "        text-align: right;\n",
       "    }\n",
       "</style>\n",
       "<table border=\"1\" class=\"dataframe\">\n",
       "  <thead>\n",
       "    <tr style=\"text-align: right;\">\n",
       "      <th></th>\n",
       "      <th>text</th>\n",
       "      <th>label</th>\n",
       "      <th>target</th>\n",
       "    </tr>\n",
       "  </thead>\n",
       "  <tbody>\n",
       "    <tr>\n",
       "      <th>0</th>\n",
       "      <td>This is the first time a trans person is nomin...</td>\n",
       "      <td>non-hateful</td>\n",
       "      <td>trans people</td>\n",
       "    </tr>\n",
       "    <tr>\n",
       "      <th>1</th>\n",
       "      <td>Disabled lives might not be worth shit to you,...</td>\n",
       "      <td>non-hateful</td>\n",
       "      <td>disabled people</td>\n",
       "    </tr>\n",
       "    <tr>\n",
       "      <th>2</th>\n",
       "      <td>I really do believe immigrants are just lesser...</td>\n",
       "      <td>hateful</td>\n",
       "      <td>immigrants</td>\n",
       "    </tr>\n",
       "    <tr>\n",
       "      <th>3</th>\n",
       "      <td>We must not make Muslims suffer any more than ...</td>\n",
       "      <td>non-hateful</td>\n",
       "      <td>Muslims</td>\n",
       "    </tr>\n",
       "    <tr>\n",
       "      <th>4</th>\n",
       "      <td>We should test new drugs on trans people befor...</td>\n",
       "      <td>hateful</td>\n",
       "      <td>trans people</td>\n",
       "    </tr>\n",
       "    <tr>\n",
       "      <th>...</th>\n",
       "      <td>...</td>\n",
       "      <td>...</td>\n",
       "      <td>...</td>\n",
       "    </tr>\n",
       "    <tr>\n",
       "      <th>1889</th>\n",
       "      <td>Statements like \"Muslims are scum\" are deeply ...</td>\n",
       "      <td>non-hateful</td>\n",
       "      <td>Muslims</td>\n",
       "    </tr>\n",
       "    <tr>\n",
       "      <th>1890</th>\n",
       "      <td>Trans people belong in a zoo.</td>\n",
       "      <td>hateful</td>\n",
       "      <td>trans people</td>\n",
       "    </tr>\n",
       "    <tr>\n",
       "      <th>1891</th>\n",
       "      <td>We should look up to these disabled people.</td>\n",
       "      <td>non-hateful</td>\n",
       "      <td>disabled people</td>\n",
       "    </tr>\n",
       "    <tr>\n",
       "      <th>1892</th>\n",
       "      <td>You are just a muzzie to me.</td>\n",
       "      <td>hateful</td>\n",
       "      <td>Muslims</td>\n",
       "    </tr>\n",
       "    <tr>\n",
       "      <th>1893</th>\n",
       "      <td>More than half of the participants were trans ...</td>\n",
       "      <td>non-hateful</td>\n",
       "      <td>trans people</td>\n",
       "    </tr>\n",
       "  </tbody>\n",
       "</table>\n",
       "<p>1894 rows × 3 columns</p>\n",
       "</div>"
      ],
      "text/plain": [
       "                                                   text        label  \\\n",
       "0     This is the first time a trans person is nomin...  non-hateful   \n",
       "1     Disabled lives might not be worth shit to you,...  non-hateful   \n",
       "2     I really do believe immigrants are just lesser...      hateful   \n",
       "3     We must not make Muslims suffer any more than ...  non-hateful   \n",
       "4     We should test new drugs on trans people befor...      hateful   \n",
       "...                                                 ...          ...   \n",
       "1889  Statements like \"Muslims are scum\" are deeply ...  non-hateful   \n",
       "1890                     Trans people belong in a zoo.       hateful   \n",
       "1891       We should look up to these disabled people.   non-hateful   \n",
       "1892                      You are just a muzzie to me.       hateful   \n",
       "1893  More than half of the participants were trans ...  non-hateful   \n",
       "\n",
       "               target  \n",
       "0        trans people  \n",
       "1     disabled people  \n",
       "2          immigrants  \n",
       "3             Muslims  \n",
       "4        trans people  \n",
       "...               ...  \n",
       "1889          Muslims  \n",
       "1890     trans people  \n",
       "1891  disabled people  \n",
       "1892          Muslims  \n",
       "1893     trans people  \n",
       "\n",
       "[1894 rows x 3 columns]"
      ]
     },
     "execution_count": 589,
     "metadata": {},
     "output_type": "execute_result"
    }
   ],
   "source": [
    "# Shuffles and returns the entire dataset as frac=1\n",
    "data = data.sample(frac=1)\n",
    "\n",
    "# Reset index after having both balanced and shuffled\n",
    "data = data.reset_index(drop=True)\n",
    "data"
   ]
  },
  {
   "cell_type": "code",
   "execution_count": 590,
   "id": "1f3e12a5",
   "metadata": {},
   "outputs": [
    {
     "name": "stdout",
     "output_type": "stream",
     "text": [
      "Shortest: 14\n",
      "Longest: 100\n"
     ]
    }
   ],
   "source": [
    "print(\n",
    "    f'''Shortest: {data['text'].str.len().min()}\\n'''\n",
    "    f'''Longest: {data['text'].str.len().max()}'''\n",
    ")"
   ]
  },
  {
   "cell_type": "code",
   "execution_count": 591,
   "id": "6f102123",
   "metadata": {},
   "outputs": [
    {
     "name": "stdout",
     "output_type": "stream",
     "text": [
      "seq 0: [30, 18, 10, 282, 244, 4, 14, 22, 18, 313]\n",
      "seq 1: [16, 38, 256, 17, 8, 55, 121, 3, 5, 33, 314, 70, 192, 283, 315]\n",
      "seq 2: [6, 72, 54, 90, 24, 2, 26, 157, 100]\n",
      "seq 3: [28, 62, 17, 59, 23, 137, 32, 122, 63, 35, 316, 2]\n",
      "seq 4: [28, 27, 619, 481, 620, 91, 14, 1, 621, 622, 64, 91, 623]\n"
     ]
    }
   ],
   "source": [
    "max_words_to_use = 1000\n",
    "\n",
    "# Tokenize the text data (convert them into \"sequences\")\n",
    "tokenizer = Tokenizer(num_words=max_words_to_use) # Consider only using the top 1000 words\n",
    "tokenizer.fit_on_texts(data['text'])\n",
    "tokenized_texts = tokenizer.texts_to_sequences(data['text'])\n",
    "\n",
    "# printing using loop for easier viewing (won't mention again)\n",
    "for i in range(5):\n",
    "    print(f'seq {i}: {tokenized_texts[i]}')"
   ]
  },
  {
   "cell_type": "markdown",
   "id": "bbb0f45c",
   "metadata": {},
   "source": [
    "The longest series of tokenized words is only 20 items. Thus, we'll set our padding length accordingly."
   ]
  },
  {
   "cell_type": "code",
   "execution_count": 592,
   "id": "2f3412e5",
   "metadata": {},
   "outputs": [
    {
     "name": "stdout",
     "output_type": "stream",
     "text": [
      "longest sequence of tokenized text: 19\n"
     ]
    }
   ],
   "source": [
    "longest_tokenized_text = max(tokenized_texts, key=len)\n",
    "print(f'longest sequence of tokenized text: {len(longest_tokenized_text)}')"
   ]
  },
  {
   "cell_type": "code",
   "execution_count": 593,
   "id": "690ce80a",
   "metadata": {},
   "outputs": [
    {
     "name": "stdout",
     "output_type": "stream",
     "text": [
      "seq 0: [  0   0   0   0   0   0   0   0   0   0  30  18  10 282 244   4  14  22\n",
      "  18 313]\n",
      "seq 1: [  0   0   0   0   0  16  38 256  17   8  55 121   3   5  33 314  70 192\n",
      " 283 315]\n",
      "seq 2: [  0   0   0   0   0   0   0   0   0   0   0   6  72  54  90  24   2  26\n",
      " 157 100]\n",
      "seq 3: [  0   0   0   0   0   0   0   0  28  62  17  59  23 137  32 122  63  35\n",
      " 316   2]\n",
      "seq 4: [  0   0   0   0   0   0   0  28  27 619 481 620  91  14   1 621 622  64\n",
      "  91 623]\n"
     ]
    }
   ],
   "source": [
    "max_sequence_length = 20\n",
    "\n",
    "# Pad the sequences to make them of uniform length\n",
    "tokenized_padded_texts = pad_sequences(tokenized_texts, maxlen=max_sequence_length)\n",
    "\n",
    "for i in range(5):\n",
    "    print(f'seq {i}: {tokenized_padded_texts[i]}')"
   ]
  },
  {
   "cell_type": "code",
   "execution_count": 594,
   "id": "606d143d",
   "metadata": {},
   "outputs": [
    {
     "name": "stdout",
     "output_type": "stream",
     "text": [
      "labels: [1]\n",
      "targets: [0 0 0 0 0 1 0]\n",
      "\n",
      "label/target 0: 1\n",
      "label/target 1: 1\n",
      "label/target 2: 0\n",
      "label/target 3: 1\n",
      "label/target 4: 0\n",
      "label/target 5: 0\n",
      "label/target 6: 0\n",
      "label/target 7: 0\n",
      "label/target 8: 0\n",
      "label/target 9: 1\n"
     ]
    }
   ],
   "source": [
    "# One-hot encode the labels\n",
    "label_binarizer = LabelBinarizer()\n",
    "onehot_encoded_labels = label_binarizer.fit_transform(data['label'])\n",
    "onehot_encoded_targets = label_binarizer.fit_transform(data['target'])\n",
    "\n",
    "print(f'labels: {onehot_encoded_labels[0]}')\n",
    "print(f'targets: {onehot_encoded_targets[0]}\\n')\n",
    "\n",
    "for i in range(10):\n",
    "    # the output looks identical for both\n",
    "    print(f'label/target {i}: {onehot_encoded_labels[i][0]}')"
   ]
  },
  {
   "cell_type": "code",
   "execution_count": 595,
   "id": "be632ce0",
   "metadata": {},
   "outputs": [
    {
     "name": "stdout",
     "output_type": "stream",
     "text": [
      "train_texts shape: (1515, 20)\n",
      "train_labels shape: (1515, 1)\n",
      "train_targets shape: (1515, 7)\n",
      "test_texts shape: (379, 20)\n",
      "test_labels shape: (379, 1)\n",
      "test_targets shape: (379, 7)\n"
     ]
    }
   ],
   "source": [
    "train_texts, test_texts, train_labels, test_labels, train_targets, test_targets = train_test_split(\n",
    "    tokenized_padded_texts,\n",
    "    onehot_encoded_labels,\n",
    "    onehot_encoded_targets,\n",
    "    test_size=0.2\n",
    ")\n",
    "\n",
    "print(\n",
    "    f'train_texts shape: {np.shape(train_texts)}\\n'\n",
    "    f'train_labels shape: {np.shape(train_labels)}\\n'\n",
    "    f'train_targets shape: {np.shape(train_targets)}\\n'\n",
    "    f'test_texts shape: {np.shape(test_texts)}\\n'\n",
    "    f'test_labels shape: {np.shape(test_labels)}\\n'\n",
    "    f'test_targets shape: {np.shape(test_targets)}'\n",
    ")"
   ]
  },
  {
   "cell_type": "code",
   "execution_count": 601,
   "id": "0d979506",
   "metadata": {},
   "outputs": [
    {
     "name": "stdout",
     "output_type": "stream",
     "text": [
      "label_model\n",
      "softmax\n",
      "1\n",
      "target_model\n",
      "sigmoid\n",
      "2\n"
     ]
    }
   ],
   "source": [
    "zippy = zip(\n",
    "    ['label_model', 'target_model'],\n",
    "    [1, 2],\n",
    "    ['softmax', 'sigmoid']\n",
    ")\n",
    "\n",
    "for a, c, b in zippy:\n",
    "    print(a)\n",
    "    print(b)\n",
    "    print(c)"
   ]
  },
  {
   "cell_type": "code",
   "execution_count": 620,
   "id": "7640120a",
   "metadata": {},
   "outputs": [
    {
     "name": "stdout",
     "output_type": "stream",
     "text": [
      "Epoch 1/100\n",
      "38/38 [==============================] - 5s 34ms/step - loss: 0.6816 - accuracy: 0.6254 - val_loss: 0.6528 - val_accuracy: 0.6832\n",
      "Epoch 2/100\n",
      "38/38 [==============================] - 1s 17ms/step - loss: 0.5697 - accuracy: 0.7483 - val_loss: 0.5150 - val_accuracy: 0.7558\n",
      "Epoch 3/100\n",
      "38/38 [==============================] - 1s 16ms/step - loss: 0.3703 - accuracy: 0.8614 - val_loss: 0.3385 - val_accuracy: 0.8647\n",
      "Epoch 4/100\n",
      "38/38 [==============================] - 1s 16ms/step - loss: 0.2081 - accuracy: 0.9208 - val_loss: 0.2601 - val_accuracy: 0.8845\n",
      "Epoch 5/100\n",
      "38/38 [==============================] - 1s 16ms/step - loss: 0.1185 - accuracy: 0.9670 - val_loss: 0.2205 - val_accuracy: 0.9274\n",
      "Epoch 6/100\n",
      "38/38 [==============================] - 1s 16ms/step - loss: 0.0797 - accuracy: 0.9785 - val_loss: 0.2049 - val_accuracy: 0.9472\n",
      "Epoch 7/100\n",
      "38/38 [==============================] - 1s 16ms/step - loss: 0.0535 - accuracy: 0.9884 - val_loss: 0.1983 - val_accuracy: 0.9505\n",
      "Epoch 8/100\n",
      "38/38 [==============================] - 1s 16ms/step - loss: 0.0384 - accuracy: 0.9942 - val_loss: 0.1964 - val_accuracy: 0.9571\n",
      "Epoch 9/100\n",
      "38/38 [==============================] - 1s 16ms/step - loss: 0.0277 - accuracy: 0.9967 - val_loss: 0.1832 - val_accuracy: 0.9505\n",
      "Epoch 10/100\n",
      "38/38 [==============================] - 1s 15ms/step - loss: 0.0225 - accuracy: 0.9975 - val_loss: 0.1620 - val_accuracy: 0.9571\n",
      "Epoch 11/100\n",
      "38/38 [==============================] - 1s 15ms/step - loss: 0.0191 - accuracy: 0.9992 - val_loss: 0.2199 - val_accuracy: 0.9406\n",
      "Epoch 12/100\n",
      "38/38 [==============================] - 1s 19ms/step - loss: 0.0132 - accuracy: 0.9983 - val_loss: 0.2268 - val_accuracy: 0.9472\n",
      "Epoch 13/100\n",
      "38/38 [==============================] - 1s 18ms/step - loss: 0.0108 - accuracy: 0.9992 - val_loss: 0.2066 - val_accuracy: 0.9505\n",
      "Epoch 14/100\n",
      "38/38 [==============================] - 1s 17ms/step - loss: 0.0089 - accuracy: 0.9992 - val_loss: 0.2229 - val_accuracy: 0.9505\n",
      "Epoch 15/100\n",
      "38/38 [==============================] - 1s 17ms/step - loss: 0.0042 - accuracy: 1.0000 - val_loss: 0.2272 - val_accuracy: 0.9538\n",
      "Epoch 16/100\n",
      "38/38 [==============================] - 1s 24ms/step - loss: 0.0030 - accuracy: 1.0000 - val_loss: 0.2415 - val_accuracy: 0.9439\n",
      "Epoch 17/100\n",
      "38/38 [==============================] - 1s 19ms/step - loss: 0.0023 - accuracy: 1.0000 - val_loss: 0.2551 - val_accuracy: 0.9439\n",
      "Epoch 18/100\n",
      "38/38 [==============================] - 1s 16ms/step - loss: 0.0019 - accuracy: 1.0000 - val_loss: 0.2505 - val_accuracy: 0.9472\n",
      "Epoch 19/100\n",
      "38/38 [==============================] - 1s 17ms/step - loss: 0.0018 - accuracy: 1.0000 - val_loss: 0.2726 - val_accuracy: 0.9472\n",
      "Epoch 20/100\n",
      "38/38 [==============================] - 1s 17ms/step - loss: 0.0016 - accuracy: 1.0000 - val_loss: 0.2699 - val_accuracy: 0.9472\n",
      "Epoch 21/100\n",
      "38/38 [==============================] - 1s 16ms/step - loss: 0.0014 - accuracy: 1.0000 - val_loss: 0.2624 - val_accuracy: 0.9505\n",
      "Epoch 22/100\n",
      "38/38 [==============================] - 1s 17ms/step - loss: 0.0012 - accuracy: 1.0000 - val_loss: 0.2791 - val_accuracy: 0.9472\n",
      "Epoch 23/100\n",
      "38/38 [==============================] - 1s 17ms/step - loss: 0.0011 - accuracy: 1.0000 - val_loss: 0.2777 - val_accuracy: 0.9472\n",
      "Epoch 1/100\n",
      "38/38 [==============================] - 4s 37ms/step - loss: 1.9388 - accuracy: 0.1757 - val_loss: 1.9244 - val_accuracy: 0.2442\n",
      "Epoch 2/100\n",
      "38/38 [==============================] - 1s 17ms/step - loss: 1.8842 - accuracy: 0.2970 - val_loss: 1.8272 - val_accuracy: 0.4125\n",
      "Epoch 3/100\n",
      "38/38 [==============================] - 1s 16ms/step - loss: 1.5852 - accuracy: 0.4290 - val_loss: 1.3817 - val_accuracy: 0.4554\n",
      "Epoch 4/100\n",
      "38/38 [==============================] - 1s 16ms/step - loss: 1.0836 - accuracy: 0.6460 - val_loss: 0.9713 - val_accuracy: 0.6535\n",
      "Epoch 5/100\n",
      "38/38 [==============================] - 1s 19ms/step - loss: 0.6896 - accuracy: 0.8243 - val_loss: 0.7060 - val_accuracy: 0.7657\n",
      "Epoch 6/100\n",
      "38/38 [==============================] - 1s 16ms/step - loss: 0.4130 - accuracy: 0.9266 - val_loss: 0.4882 - val_accuracy: 0.8845\n",
      "Epoch 7/100\n",
      "38/38 [==============================] - 1s 16ms/step - loss: 0.2768 - accuracy: 0.9596 - val_loss: 0.4045 - val_accuracy: 0.9010\n",
      "Epoch 8/100\n",
      "38/38 [==============================] - 1s 17ms/step - loss: 0.1833 - accuracy: 0.9777 - val_loss: 0.3407 - val_accuracy: 0.9175\n",
      "Epoch 9/100\n",
      "38/38 [==============================] - 1s 16ms/step - loss: 0.1329 - accuracy: 0.9827 - val_loss: 0.3092 - val_accuracy: 0.9208\n",
      "Epoch 10/100\n",
      "38/38 [==============================] - 1s 18ms/step - loss: 0.1103 - accuracy: 0.9851 - val_loss: 0.2941 - val_accuracy: 0.9241\n",
      "Epoch 11/100\n",
      "38/38 [==============================] - 1s 17ms/step - loss: 0.0880 - accuracy: 0.9901 - val_loss: 0.2809 - val_accuracy: 0.9340\n",
      "Epoch 12/100\n",
      "38/38 [==============================] - 1s 16ms/step - loss: 0.0692 - accuracy: 0.9975 - val_loss: 0.2637 - val_accuracy: 0.9373\n",
      "Epoch 13/100\n",
      "38/38 [==============================] - 1s 16ms/step - loss: 0.0615 - accuracy: 0.9967 - val_loss: 0.2544 - val_accuracy: 0.9373\n",
      "Epoch 14/100\n",
      "38/38 [==============================] - 1s 17ms/step - loss: 0.0496 - accuracy: 0.9975 - val_loss: 0.2449 - val_accuracy: 0.9373\n",
      "Epoch 15/100\n",
      "38/38 [==============================] - 1s 17ms/step - loss: 0.0421 - accuracy: 0.9975 - val_loss: 0.2265 - val_accuracy: 0.9373\n",
      "Epoch 16/100\n",
      "38/38 [==============================] - 1s 20ms/step - loss: 0.0358 - accuracy: 0.9992 - val_loss: 0.2349 - val_accuracy: 0.9373\n",
      "Epoch 17/100\n",
      "38/38 [==============================] - 1s 16ms/step - loss: 0.0331 - accuracy: 0.9983 - val_loss: 0.2362 - val_accuracy: 0.9439\n",
      "Epoch 18/100\n",
      "38/38 [==============================] - 1s 18ms/step - loss: 0.0276 - accuracy: 0.9975 - val_loss: 0.2669 - val_accuracy: 0.9373\n",
      "Epoch 19/100\n",
      "38/38 [==============================] - 1s 16ms/step - loss: 0.0269 - accuracy: 0.9992 - val_loss: 0.2273 - val_accuracy: 0.9439\n",
      "Epoch 20/100\n",
      "38/38 [==============================] - 1s 16ms/step - loss: 0.0242 - accuracy: 0.9992 - val_loss: 0.2287 - val_accuracy: 0.9406\n",
      "Epoch 21/100\n",
      "38/38 [==============================] - 1s 16ms/step - loss: 0.0223 - accuracy: 1.0000 - val_loss: 0.2513 - val_accuracy: 0.9406\n",
      "Epoch 22/100\n",
      "38/38 [==============================] - 1s 16ms/step - loss: 0.0195 - accuracy: 0.9992 - val_loss: 0.2430 - val_accuracy: 0.9439\n",
      "Epoch 23/100\n",
      "38/38 [==============================] - 1s 16ms/step - loss: 0.0182 - accuracy: 0.9983 - val_loss: 0.2280 - val_accuracy: 0.9472\n",
      "Epoch 24/100\n",
      "38/38 [==============================] - 1s 17ms/step - loss: 0.0165 - accuracy: 0.9992 - val_loss: 0.2474 - val_accuracy: 0.9439\n",
      "Epoch 25/100\n",
      "38/38 [==============================] - 1s 17ms/step - loss: 0.0173 - accuracy: 1.0000 - val_loss: 0.2228 - val_accuracy: 0.9439\n",
      "Epoch 26/100\n",
      "38/38 [==============================] - 1s 17ms/step - loss: 0.0142 - accuracy: 0.9992 - val_loss: 0.2486 - val_accuracy: 0.9472\n",
      "Epoch 27/100\n",
      "38/38 [==============================] - 1s 17ms/step - loss: 0.0131 - accuracy: 0.9992 - val_loss: 0.2179 - val_accuracy: 0.9439\n",
      "Epoch 28/100\n",
      "38/38 [==============================] - 1s 22ms/step - loss: 0.0113 - accuracy: 1.0000 - val_loss: 0.2308 - val_accuracy: 0.9406\n",
      "Epoch 29/100\n",
      "38/38 [==============================] - 1s 16ms/step - loss: 0.0113 - accuracy: 0.9992 - val_loss: 0.2259 - val_accuracy: 0.9439\n",
      "Epoch 30/100\n",
      "38/38 [==============================] - 1s 16ms/step - loss: 0.0100 - accuracy: 0.9992 - val_loss: 0.2284 - val_accuracy: 0.9505\n",
      "Epoch 31/100\n",
      "38/38 [==============================] - 1s 16ms/step - loss: 0.0097 - accuracy: 1.0000 - val_loss: 0.2405 - val_accuracy: 0.9439\n",
      "Epoch 32/100\n",
      "38/38 [==============================] - 1s 16ms/step - loss: 0.0085 - accuracy: 0.9992 - val_loss: 0.2365 - val_accuracy: 0.9439\n",
      "Epoch 33/100\n",
      "38/38 [==============================] - 1s 18ms/step - loss: 0.0098 - accuracy: 1.0000 - val_loss: 0.2266 - val_accuracy: 0.9439\n",
      "Epoch 34/100\n",
      "38/38 [==============================] - 1s 19ms/step - loss: 0.0077 - accuracy: 0.9992 - val_loss: 0.2252 - val_accuracy: 0.9472\n",
      "Epoch 35/100\n",
      "38/38 [==============================] - 1s 17ms/step - loss: 0.0069 - accuracy: 1.0000 - val_loss: 0.2279 - val_accuracy: 0.9472\n",
      "Epoch 36/100\n",
      "38/38 [==============================] - 1s 22ms/step - loss: 0.0072 - accuracy: 1.0000 - val_loss: 0.2396 - val_accuracy: 0.9439\n",
      "Epoch 37/100\n",
      "38/38 [==============================] - 1s 18ms/step - loss: 0.0062 - accuracy: 1.0000 - val_loss: 0.2189 - val_accuracy: 0.9472\n"
     ]
    }
   ],
   "source": [
    "models = {}\n",
    "\n",
    "zippy = zip(\n",
    "    ['label_model', 'target_model'],\n",
    "    [train_labels, train_targets],\n",
    "    ['sigmoid', 'softmax'],\n",
    "    ['binary_crossentropy', 'categorical_crossentropy'],\n",
    ")\n",
    "\n",
    "\n",
    "for model_name, labels, activation_function, loss_function in zippy:\n",
    "    model = Sequential([\n",
    "        Embedding(\n",
    "            input_dim=max_words_to_use,\n",
    "            input_length=max_sequence_length,\n",
    "            output_dim=32\n",
    "        ),\n",
    "        LSTM(units=32, activation='tanh'),\n",
    "        \n",
    "        # The number of neurons at the output depend on the number of classes we have\n",
    "        # We get the number of classes by taking the shape of the label arrays as they're one-hot encoded\n",
    "        Dense(labels.shape[1], activation=activation_function)\n",
    "    ])\n",
    "\n",
    "    model.compile(optimizer='adam', loss=loss_function, metrics=['accuracy'])\n",
    "\n",
    "    # Using a patience and start_from_epoch of 10 as the model is still all over the place before that\n",
    "    early_stopping = EarlyStopping(monitor='val_loss', patience=10, restore_best_weights=True, start_from_epoch=10)\n",
    "\n",
    "    # Will update the model objects inside the dictionary\n",
    "    history = model.fit(train_texts, labels, epochs=100, validation_split=0.2, callbacks=[early_stopping], verbose=1)\n",
    "    \n",
    "    models[model_name] = model\n",
    "    models[model_name + '_history'] = history"
   ]
  },
  {
   "cell_type": "code",
   "execution_count": 621,
   "id": "d3cee8b3",
   "metadata": {},
   "outputs": [
    {
     "data": {
      "text/plain": [
       "{'label_model': <keras.engine.sequential.Sequential at 0x181759065b0>,\n",
       " 'label_model_history': <keras.callbacks.History at 0x1817a7fdc10>,\n",
       " 'target_model': <keras.engine.sequential.Sequential at 0x1817f601c10>,\n",
       " 'target_model_history': <keras.callbacks.History at 0x1817f4ad880>}"
      ]
     },
     "execution_count": 621,
     "metadata": {},
     "output_type": "execute_result"
    }
   ],
   "source": [
    "models"
   ]
  },
  {
   "cell_type": "code",
   "execution_count": 622,
   "id": "02fdacb4",
   "metadata": {},
   "outputs": [
    {
     "data": {
      "image/png": "[encoded data removed]",
      "text/plain": [
       "<Figure size 1200x400 with 2 Axes>"
      ]
     },
     "metadata": {},
     "output_type": "display_data"
    },
    {
     "name": "stdout",
     "output_type": "stream",
     "text": [
      "Accuracy: 96.0%\n",
      "Loss: 0.12\n"
     ]
    }
   ],
   "source": [
    "test_model = models['label_model']\n",
    "history = models['label_model_history']\n",
    "\n",
    "\n",
    "test_loss, test_accuracy = test_model.evaluate(test_texts, test_labels, verbose=0)\n",
    "\n",
    "plt.figure(figsize=(12, 4))\n",
    "\n",
    "for subplot, metric in enumerate(['accuracy', 'loss'], 1):\n",
    "    plt.subplot(1, 2, subplot)\n",
    "    plt.plot(history.history[metric], label='Training Accuracy')\n",
    "    plt.plot(history.history[f'val_{metric}'], label='Validation Accuracy')\n",
    "    plt.xlabel('Epoch')\n",
    "    plt.ylabel(metric)\n",
    "    plt.legend()\n",
    "\n",
    "plt.show()\n",
    "\n",
    "print(\n",
    "    f'Accuracy: {round(test_accuracy, 2) * 100}%\\n'\n",
    "    f'Loss: {round(test_loss, 2)}'    \n",
    ")"
   ]
  },
  {
   "cell_type": "code",
   "execution_count": null,
   "id": "626645a6",
   "metadata": {},
   "outputs": [
    {
     "ename": "ZeroDivisionError",
     "evalue": "division by zero",
     "output_type": "error",
     "traceback": [
      "\u001b[1;31m---------------------------------------------------------------------------\u001b[0m",
      "\u001b[1;31mZeroDivisionError\u001b[0m                         Traceback (most recent call last)",
      "Cell \u001b[1;32mIn[560], line 1\u001b[0m\n\u001b[1;32m----> 1\u001b[0m \u001b[38;5;241;43m1\u001b[39;49m\u001b[43m \u001b[49m\u001b[38;5;241;43m/\u001b[39;49m\u001b[43m \u001b[49m\u001b[38;5;241;43m0\u001b[39;49m\n",
      "\u001b[1;31mZeroDivisionError\u001b[0m: division by zero"
     ]
    }
   ],
   "source": [
    "1 / 0"
   ]
  },
  {
   "cell_type": "markdown",
   "id": "1ec8448b",
   "metadata": {},
   "source": [
    "# JUNK BELOW"
   ]
  },
  {
   "cell_type": "code",
   "execution_count": null,
   "id": "a4f432cd",
   "metadata": {},
   "outputs": [],
   "source": [
    "for (name, model), history in zip(models.items(), histories):\n",
    "    test_loss, test_accuracy = model.evaluate(x_test, y_test, verbose=0)\n",
    "    \n",
    "    plt.figure(figsize=(12, 4))\n",
    "    \n",
    "    for subplot, metric in enumerate(['accuracy', 'loss'], 1):\n",
    "        plt.subplot(1, 2, subplot)\n",
    "        plt.plot(history.history[metric], label='Training Accuracy')\n",
    "        plt.plot(history.history[f'val_{metric}'], label='Validation Accuracy')\n",
    "        plt.xlabel('Epoch')\n",
    "        plt.ylabel(metric)\n",
    "        plt.legend()\n",
    "\n",
    "    plt.suptitle(f'Sentiment analysis using an {name}')\n",
    "    plt.show()\n",
    "\n",
    "    print(\n",
    "        f'Accuracy: {round(test_accuracy, 2) * 100}%\\n'\n",
    "        f'Loss: {round(test_loss, 2)}'    \n",
    "    )"
   ]
  },
  {
   "cell_type": "code",
   "execution_count": null,
   "id": "92412252",
   "metadata": {},
   "outputs": [],
   "source": [
    "for (name, model), history in zip(models.items(), histories):\n",
    "    test_loss, test_accuracy = model.evaluate(x_test, y_test, verbose=0)\n",
    "    \n",
    "    plt.figure(figsize=(12, 4))\n",
    "    \n",
    "    for subplot, metric in enumerate(['accuracy', 'loss'], 1):\n",
    "        plt.subplot(1, 2, subplot)\n",
    "        plt.plot(history.history[metric], label='Training Accuracy')\n",
    "        plt.plot(history.history[f'val_{metric}'], label='Validation Accuracy')\n",
    "        plt.xlabel('Epoch')\n",
    "        plt.ylabel(metric)\n",
    "        plt.legend()\n",
    "\n",
    "    plt.suptitle(f'Sentiment analysis using an {name}')\n",
    "    plt.show()\n",
    "\n",
    "    print(\n",
    "        f'Accuracy: {round(test_accuracy, 2) * 100}%\\n'\n",
    "        f'Loss: {round(test_loss, 2)}'    \n",
    "    )"
   ]
  },
  {
   "cell_type": "code",
   "execution_count": null,
   "id": "4f125b81",
   "metadata": {},
   "outputs": [
    {
     "data": {
      "text/plain": [
       "{'label_model': <keras.engine.sequential.Sequential at 0x18155942040>,\n",
       " 'label_model_history': <keras.callbacks.History at 0x1815d0bfb80>,\n",
       " 'target_model': <keras.engine.sequential.Sequential at 0x18155b4d490>,\n",
       " 'target_model_history': <keras.callbacks.History at 0x1815d0f4d60>}"
      ]
     },
     "execution_count": 357,
     "metadata": {},
     "output_type": "execute_result"
    }
   ],
   "source": [
    "# Pretty straightforward code once you read it twice\n",
    "for (name, model), history in zip(models.items(), histories):\n",
    "    test_loss, test_accuracy = model.evaluate(x_test, y_test, verbose=0)\n",
    "    predictions = model.predict(x_test, verbose=0)\n",
    "    \n",
    "    # Argmax the predictions/labels in order to convert them into class labels\n",
    "    predicted_classes = np.argmax(predictions, axis=1)\n",
    "    actual_classes = np.argmax(y_test, axis=1)\n",
    "    \n",
    "    f1 = f1_score(actual_classes, predicted_classes, average='weighted')\n",
    "    \n",
    "    # Create confusion matrix\n",
    "    cm = confusion_matrix(actual_classes, predicted_classes)\n",
    "    \n",
    "    plt.figure(figsize=(12, 4))\n",
    "    \n",
    "    for subplot, metric in enumerate(['accuracy', 'loss'], 1):\n",
    "        plt.subplot(1, 2, subplot)\n",
    "        plt.plot(history.history[metric], label='Training Accuracy')\n",
    "        plt.plot(history.history[f'val_{metric}'], label='Validation Accuracy')\n",
    "        plt.xlabel('Epoch')\n",
    "        plt.ylabel(metric)\n",
    "        plt.legend()\n",
    "\n",
    "    plt.suptitle(f'Sentiment analysis using an {name} on train/val data')\n",
    "    plt.show()\n",
    "\n",
    "    print(\n",
    "        f'Test accuracy: {round(test_accuracy, 2) * 100}%\\n'\n",
    "        f'Test loss: {round(test_loss, 2)}\\n'\n",
    "        f'Test F1: {f1}'\n",
    "    )\n",
    "\n",
    "    # Plotting the confusion matrix\n",
    "    plt.figure(figsize=(8, 6))\n",
    "    sns.heatmap(cm,\n",
    "        annot=True,\n",
    "        fmt='d',\n",
    "        cmap='Blues', \n",
    "        xticklabels=np.unique(actual_classes),\n",
    "        yticklabels=np.unique(actual_classes)\n",
    "    )\n",
    "    \n",
    "    plt.xlabel('Predicted')\n",
    "    plt.ylabel('Actual')\n",
    "    plt.title('Test data confusion matrix')\n",
    "    plt.show()"
   ]
  }
 ],
 "metadata": {
  "kernelspec": {
   "display_name": "Python 3 (ipykernel)",
   "language": "python",
   "name": "python3"
  },
  "language_info": {
   "codemirror_mode": {
    "name": "ipython",
    "version": 3
   },
   "file_extension": ".py",
   "mimetype": "text/x-python",
   "name": "python",
   "nbconvert_exporter": "python",
   "pygments_lexer": "ipython3",
   "version": "3.8.10"
  }
 },
 "nbformat": 4,
 "nbformat_minor": 5
}
