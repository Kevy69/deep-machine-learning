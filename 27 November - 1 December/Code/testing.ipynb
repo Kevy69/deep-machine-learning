{
 "cells": [
  {
   "cell_type": "code",
   "execution_count": 1,
   "metadata": {},
   "outputs": [],
   "source": [
    "from keras.models import Sequential\n",
    "from keras.layers import Dense, InputLayer\n",
    "from scikeras.wrappers import KerasClassifier\n",
    "from sklearn.model_selection import GridSearchCV\n",
    "from sklearn.datasets import make_classification\n",
    "from sklearn.model_selection import train_test_split"
   ]
  },
  {
   "cell_type": "code",
   "execution_count": 2,
   "metadata": {},
   "outputs": [],
   "source": [
    "# Generate some example data\n",
    "X, y = make_classification(n_samples=1000, n_features=20, random_state=42)\n",
    "\n",
    "# Split the data into training and testing sets\n",
    "X_train, X_test, y_train, y_test = train_test_split(X, y, test_size=0.2, random_state=42)"
   ]
  },
  {
   "cell_type": "code",
   "execution_count": 3,
   "metadata": {},
   "outputs": [],
   "source": [
    "# Create a function that returns a Keras Sequential model\n",
    "def create_model(optimizer='adam', hidden_units=10):\n",
    "    \n",
    "    print(f'optimizer={optimizer}, hidden_units={hidden_units}')\n",
    "\n",
    "    \n",
    "    model = Sequential()\n",
    "    \n",
    "    model.add(InputLayer(input_shape=(20,)))\n",
    "    \n",
    "    model.add(Dense(hidden_units, activation='relu'))  # Assuming input dimension is 20\n",
    "    \n",
    "    model.add(Dense(1, activation='sigmoid'))  # Output layer with one neuron for binary classification\n",
    "    \n",
    "    model.compile(loss='binary_crossentropy', optimizer=optimizer, metrics=['accuracy'])\n",
    "    \n",
    "    return model\n"
   ]
  },
  {
   "cell_type": "code",
   "execution_count": 4,
   "metadata": {},
   "outputs": [
    {
     "name": "stdout",
     "output_type": "stream",
     "text": [
      "optimizer=adam, hidden_units=10\n",
      "optimizer=adam, hidden_units=10\n",
      "optimizer=adam, hidden_units=10\n",
      "optimizer=rmsprop, hidden_units=10\n",
      "optimizer=rmsprop, hidden_units=10\n",
      "optimizer=rmsprop, hidden_units=10\n",
      "optimizer=adam, hidden_units=20\n",
      "optimizer=adam, hidden_units=20\n",
      "optimizer=adam, hidden_units=20\n",
      "optimizer=rmsprop, hidden_units=20\n",
      "optimizer=rmsprop, hidden_units=20\n",
      "optimizer=rmsprop, hidden_units=20\n",
      "optimizer=adam, hidden_units=30\n",
      "optimizer=adam, hidden_units=30\n",
      "optimizer=adam, hidden_units=30\n",
      "optimizer=rmsprop, hidden_units=30\n",
      "optimizer=rmsprop, hidden_units=30\n",
      "optimizer=rmsprop, hidden_units=30\n",
      "optimizer=rmsprop, hidden_units=30\n",
      "Best: 0.573512 using {'model__hidden_units': 30, 'model__optimizer': 'rmsprop'}\n",
      "0.572550 (0.034704) with: {'model__hidden_units': 10, 'model__optimizer': 'adam'}\n",
      "0.523631 (0.070095) with: {'model__hidden_units': 10, 'model__optimizer': 'rmsprop'}\n",
      "0.526156 (0.075356) with: {'model__hidden_units': 20, 'model__optimizer': 'adam'}\n",
      "0.509870 (0.080774) with: {'model__hidden_units': 20, 'model__optimizer': 'rmsprop'}\n",
      "0.517502 (0.076456) with: {'model__hidden_units': 30, 'model__optimizer': 'adam'}\n",
      "0.573512 (0.139719) with: {'model__hidden_units': 30, 'model__optimizer': 'rmsprop'}\n",
      "Test accuracy of the best model: 57.00%\n"
     ]
    }
   ],
   "source": [
    "# Create a KerasClassifier based on the function\n",
    "model = KerasClassifier(model=create_model, batch_size=32, verbose=0)\n",
    "\n",
    "# Define the parameters for grid search\n",
    "param_grid = {\n",
    "    'model__optimizer': ['adam', 'rmsprop'],\n",
    "    'model__hidden_units': [10, 20, 30]\n",
    "}\n",
    "\n",
    "# Perform grid search\n",
    "grid = GridSearchCV(estimator=model, param_grid=param_grid, cv=3)\n",
    "grid_result = grid.fit(X_train, y_train)\n",
    "\n",
    "# Summarize results\n",
    "print(f\"Best: {grid_result.best_score_} using {grid_result.best_params_}\")\n",
    "\n",
    "\n",
    "means = grid_result.cv_results_['mean_test_score']\n",
    "stds = grid_result.cv_results_['std_test_score']\n",
    "params = grid_result.cv_results_['params']\n",
    "for mean, stdev, param in zip(means, stds, params):\n",
    "    print(\"%f (%f) with: %r\" % (mean, stdev, param))\n",
    "\n",
    "# Evaluate the best model on test data\n",
    "best_model = grid.best_estimator_\n",
    "test_accuracy = best_model.score(X_test, y_test)\n",
    "print(\"Test accuracy of the best model: {:.2f}%\".format(test_accuracy * 100))\n"
   ]
  }
 ],
 "metadata": {
  "kernelspec": {
   "display_name": "Python 3",
   "language": "python",
   "name": "python3"
  },
  "language_info": {
   "codemirror_mode": {
    "name": "ipython",
    "version": 3
   },
   "file_extension": ".py",
   "mimetype": "text/x-python",
   "name": "python",
   "nbconvert_exporter": "python",
   "pygments_lexer": "ipython3",
   "version": "3.8.10"
  }
 },
 "nbformat": 4,
 "nbformat_minor": 2
}
