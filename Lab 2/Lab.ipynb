{
 "cells": [
  {
   "cell_type": "code",
   "execution_count": 297,
   "id": "6b09d145",
   "metadata": {},
   "outputs": [],
   "source": [
    "# Todo: balance dataset? \n",
    "\n",
    "# is Embedding(max_words, 32, input_length=maxlen) correct?\n",
    "\n",
    "# remove stopwords?\n",
    "# lemmetize?\n",
    "\n",
    "# add misc section to the explanation text?\n",
    "\n",
    "# why embedding layer?"
   ]
  },
  {
   "cell_type": "markdown",
   "id": "a1eb5209",
   "metadata": {},
   "source": [
    "# Sentiment Analysis"
   ]
  },
  {
   "cell_type": "code",
   "execution_count": 310,
   "id": "9891682c",
   "metadata": {},
   "outputs": [],
   "source": [
    "import matplotlib.pyplot as plt\n",
    "import numpy as np\n",
    "import pandas as pd\n",
    "\n",
    "from sklearn.model_selection import train_test_split\n",
    "from sklearn.preprocessing import LabelBinarizer\n",
    "\n",
    "from keras.callbacks import EarlyStopping\n",
    "from keras.layers import SimpleRNN, LSTM, GRU, Bidirectional, Dense, Embedding\n",
    "from keras.models import Sequential\n",
    "from keras.preprocessing.text import Tokenizer\n",
    "from keras.utils import pad_sequences\n"
   ]
  },
  {
   "cell_type": "markdown",
   "id": "af32e9ee",
   "metadata": {},
   "source": [
    "### Load & explore data"
   ]
  },
  {
   "cell_type": "code",
   "execution_count": 314,
   "id": "341d4768",
   "metadata": {},
   "outputs": [
    {
     "data": {
      "text/html": [
       "<div>\n",
       "<style scoped>\n",
       "    .dataframe tbody tr th:only-of-type {\n",
       "        vertical-align: middle;\n",
       "    }\n",
       "\n",
       "    .dataframe tbody tr th {\n",
       "        vertical-align: top;\n",
       "    }\n",
       "\n",
       "    .dataframe thead th {\n",
       "        text-align: right;\n",
       "    }\n",
       "</style>\n",
       "<table border=\"1\" class=\"dataframe\">\n",
       "  <thead>\n",
       "    <tr style=\"text-align: right;\">\n",
       "      <th></th>\n",
       "      <th>text</th>\n",
       "      <th>label</th>\n",
       "    </tr>\n",
       "  </thead>\n",
       "  <tbody>\n",
       "    <tr>\n",
       "      <th>0</th>\n",
       "      <td>i feel so pissed off over an old friend and so...</td>\n",
       "      <td>anger</td>\n",
       "    </tr>\n",
       "    <tr>\n",
       "      <th>1</th>\n",
       "      <td>ive found it has made a huge difference especi...</td>\n",
       "      <td>anger</td>\n",
       "    </tr>\n",
       "    <tr>\n",
       "      <th>2</th>\n",
       "      <td>i also feel it is unfortunate that nearly all ...</td>\n",
       "      <td>sadness</td>\n",
       "    </tr>\n",
       "    <tr>\n",
       "      <th>3</th>\n",
       "      <td>i feel petty a href http clairee</td>\n",
       "      <td>anger</td>\n",
       "    </tr>\n",
       "    <tr>\n",
       "      <th>4</th>\n",
       "      <td>i used to believe that a feeling like fear was...</td>\n",
       "      <td>sadness</td>\n",
       "    </tr>\n",
       "    <tr>\n",
       "      <th>...</th>\n",
       "      <td>...</td>\n",
       "      <td>...</td>\n",
       "    </tr>\n",
       "    <tr>\n",
       "      <th>19995</th>\n",
       "      <td>i was i might be buying stuff from there but i...</td>\n",
       "      <td>joy</td>\n",
       "    </tr>\n",
       "    <tr>\n",
       "      <th>19996</th>\n",
       "      <td>i like sonam deepika and genelia who i feel ar...</td>\n",
       "      <td>joy</td>\n",
       "    </tr>\n",
       "    <tr>\n",
       "      <th>19997</th>\n",
       "      <td>i feel pathetic that i can hardly go a whole d...</td>\n",
       "      <td>sadness</td>\n",
       "    </tr>\n",
       "    <tr>\n",
       "      <th>19998</th>\n",
       "      <td>id have spent more time with her on reading i ...</td>\n",
       "      <td>sadness</td>\n",
       "    </tr>\n",
       "    <tr>\n",
       "      <th>19999</th>\n",
       "      <td>i do however feel like one of those pathetic g...</td>\n",
       "      <td>sadness</td>\n",
       "    </tr>\n",
       "  </tbody>\n",
       "</table>\n",
       "<p>20000 rows × 2 columns</p>\n",
       "</div>"
      ],
      "text/plain": [
       "                                                    text    label\n",
       "0      i feel so pissed off over an old friend and so...    anger\n",
       "1      ive found it has made a huge difference especi...    anger\n",
       "2      i also feel it is unfortunate that nearly all ...  sadness\n",
       "3                       i feel petty a href http clairee    anger\n",
       "4      i used to believe that a feeling like fear was...  sadness\n",
       "...                                                  ...      ...\n",
       "19995  i was i might be buying stuff from there but i...      joy\n",
       "19996  i like sonam deepika and genelia who i feel ar...      joy\n",
       "19997  i feel pathetic that i can hardly go a whole d...  sadness\n",
       "19998  id have spent more time with her on reading i ...  sadness\n",
       "19999  i do however feel like one of those pathetic g...  sadness\n",
       "\n",
       "[20000 rows x 2 columns]"
      ]
     },
     "execution_count": 314,
     "metadata": {},
     "output_type": "execute_result"
    }
   ],
   "source": [
    "data = pd.read_csv('emotions.csv')\n",
    "data"
   ]
  },
  {
   "cell_type": "code",
   "execution_count": 322,
   "id": "32ddbf3f",
   "metadata": {},
   "outputs": [
    {
     "name": "stdout",
     "output_type": "stream",
     "text": [
      "longest row\n",
      " characters: 300\n",
      " words: 62\n"
     ]
    }
   ],
   "source": [
    "# Find the longest row and count the number of chars/words. Useful in order to set an\n",
    "# appropriate max_words for pad_sequences later on\n",
    "longest_row_index = data['text'].str.len().idxmax()\n",
    "longest_row = data['text'].loc[longest_row_index]\n",
    "\n",
    "longest_row_char_count = len(longest_row)\n",
    "longest_row_word_count = len(longest_row.split(' '))\n",
    "\n",
    "print(\n",
    "    f'longest row\\n',\n",
    "    f'characters: {longest_row_char_count}\\n',\n",
    "    f'words: {longest_row_word_count}'\n",
    ")"
   ]
  },
  {
   "cell_type": "code",
   "execution_count": 325,
   "id": "80be6436",
   "metadata": {},
   "outputs": [
    {
     "name": "stdout",
     "output_type": "stream",
     "text": [
      "label\n",
      "joy         6761\n",
      "sadness     5797\n",
      "anger       2709\n",
      "fear        2373\n",
      "love        1641\n",
      "surprise     719\n",
      "Name: count, dtype: int64\n"
     ]
    }
   ],
   "source": [
    "# Looks like we sadly don't have enough data to balance the dataset\n",
    "print(data['label'].value_counts())"
   ]
  },
  {
   "cell_type": "markdown",
   "id": "9c6a0afa",
   "metadata": {},
   "source": [
    "### Preprocessing"
   ]
  },
  {
   "cell_type": "code",
   "execution_count": 326,
   "id": "090bd1ab",
   "metadata": {},
   "outputs": [
    {
     "name": "stdout",
     "output_type": "stream",
     "text": [
      "seq 0: [1, 2, 14, 513, 161, 115, 76, 274, 277, 3, 68, 178]\n",
      "seq 1: [73, 322, 12, 99, 131, 6, 275, 29, 5, 24, 10, 3, 5, 10, 714, 119, 14, 84, 3, 152, 495]\n",
      "seq 2: [1, 116, 2, 12, 21, 762, 8, 35, 5, 964, 9, 87, 4, 782, 5, 367, 57, 27, 50]\n",
      "seq 3: [1, 2, 665, 6, 203, 187]\n",
      "seq 4: [1, 323, 4, 300, 8, 6, 7, 13, 763, 18, 4, 27, 614, 34, 111, 162, 37, 29, 22, 11, 6, 242]\n"
     ]
    }
   ],
   "source": [
    "max_words_to_use = 1000\n",
    "\n",
    "# Tokenize the text data (convet them into \"sequences\")\n",
    "tokenizer = Tokenizer(num_words=max_words_to_use) # Consider only using the top 1000 words, as those \n",
    "tokenizer.fit_on_texts(data['text'])\n",
    "tokenized_data = tokenizer.texts_to_sequences(data['text'])\n",
    "\n",
    "# printing using loop for easier viewing (i fucking hate python sometimes man. Someone ought to be burned at the stake for their sins)\n",
    "for i in range(5):\n",
    "    print(f'seq {i}: {tokenized_data[i]}')"
   ]
  },
  {
   "cell_type": "code",
   "execution_count": 303,
   "id": "f3a9d935",
   "metadata": {},
   "outputs": [
    {
     "name": "stdout",
     "output_type": "stream",
     "text": [
      "[[  0   0   0   0   0   0   0   0   0   0   0   0   0   0   0   0   0   0\n",
      "    0   0   0   0   0   0   0   0   0   0   0   0   0   0   0   0   0   0\n",
      "    0   0   0   0   0   0   0   0   0   0   0   0   0   0   0   0   0   0\n",
      "    0   0   0   0   0   0   0   0   0   0   0   0   0   0   0   0   0   0\n",
      "    0   0   0   0   0   0   0   0   0   0   0   0   0   0   0   0   1   2\n",
      "   14 513 161 115  76 274 277   3  68 178]\n",
      " [  0   0   0   0   0   0   0   0   0   0   0   0   0   0   0   0   0   0\n",
      "    0   0   0   0   0   0   0   0   0   0   0   0   0   0   0   0   0   0\n",
      "    0   0   0   0   0   0   0   0   0   0   0   0   0   0   0   0   0   0\n",
      "    0   0   0   0   0   0   0   0   0   0   0   0   0   0   0   0   0   0\n",
      "    0   0   0   0   0   0   0  73 322  12  99 131   6 275  29   5  24  10\n",
      "    3   5  10 714 119  14  84   3 152 495]]\n"
     ]
    }
   ],
   "source": [
    "max_sequence_length = 100\n",
    "\n",
    "# Pad the sequences to make them of uniform length\n",
    "tokenized_padded_data = pad_sequences(tokenized_data, maxlen=max_sequence_length)\n",
    "print(tokenized_padded_data[:2])"
   ]
  },
  {
   "cell_type": "code",
   "execution_count": 327,
   "id": "164bd5e8",
   "metadata": {},
   "outputs": [
    {
     "name": "stdout",
     "output_type": "stream",
     "text": [
      "[[1 0 0 0 0 0]\n",
      " [1 0 0 0 0 0]\n",
      " [0 0 0 0 1 0]\n",
      " ...\n",
      " [0 0 0 0 1 0]\n",
      " [0 0 0 0 1 0]\n",
      " [0 0 0 0 1 0]]\n"
     ]
    }
   ],
   "source": [
    "# One-hot encode the labels\n",
    "label_binarizer = LabelBinarizer()\n",
    "onehot_encoded_labels = label_binarizer.fit_transform(data['label'])\n",
    "print(onehot_encoded_labels)"
   ]
  },
  {
   "cell_type": "code",
   "execution_count": 328,
   "id": "9c919e25",
   "metadata": {},
   "outputs": [
    {
     "name": "stdout",
     "output_type": "stream",
     "text": [
      "x_train shape: (16000, 100)\n",
      "y_train shape: (16000, 6)\n",
      "x_test shape: (4000, 100)\n",
      "y_test shape: (4000, 6)\n"
     ]
    }
   ],
   "source": [
    "x_train, x_test, y_train, y_test = train_test_split(\n",
    "    tokenized_padded_data,\n",
    "    onehot_encoded_labels,\n",
    "    test_size=0.2,\n",
    "    random_state=42\n",
    ")\n",
    "\n",
    "print(\n",
    "    f'x_train shape: {np.shape(x_train)}\\n'\n",
    "    f'y_train shape: {np.shape(y_train)}\\n'\n",
    "    f'x_test shape: {np.shape(x_test)}\\n'\n",
    "    f'y_test shape: {np.shape(y_test)}'\n",
    ")"
   ]
  },
  {
   "cell_type": "markdown",
   "id": "1ac0126a",
   "metadata": {},
   "source": [
    "### Create & train model"
   ]
  },
  {
   "cell_type": "code",
   "execution_count": 306,
   "id": "ff11a1db",
   "metadata": {},
   "outputs": [],
   "source": [
    "model = Sequential([\n",
    "    Embedding(\n",
    "        input_dim=max_words_to_use,\n",
    "        input_length=max_sequence_length,\n",
    "        output_dim=32\n",
    "    ),\n",
    "    SimpleRNN(units=32),\n",
    "    Dense(32, activation='softmax'), # needed?\n",
    "    Dense(6, activation='softmax')\n",
    "])\n",
    "\n",
    "# Compile the model\n",
    "model.compile(optimizer='adam', loss='categorical_crossentropy', metrics=['accuracy'])"
   ]
  },
  {
   "cell_type": "code",
   "execution_count": 338,
   "id": "8f7cf13a",
   "metadata": {},
   "outputs": [],
   "source": [
    "model = Sequential([\n",
    "    Embedding(\n",
    "        input_dim=max_words_to_use,\n",
    "        input_length=max_sequence_length,\n",
    "        output_dim=32\n",
    "    ),\n",
    "    LSTM(32),\n",
    "    Dense(6, activation='softmax')\n",
    "])\n",
    "\n",
    "# Compile the model\n",
    "model.compile(optimizer='adam', loss='categorical_crossentropy', metrics=['accuracy'])"
   ]
  },
  {
   "cell_type": "code",
   "execution_count": 339,
   "id": "69942757",
   "metadata": {},
   "outputs": [
    {
     "name": "stdout",
     "output_type": "stream",
     "text": [
      "Epoch 1/100\n"
     ]
    },
    {
     "name": "stdout",
     "output_type": "stream",
     "text": [
      "400/400 [==============================] - 25s 50ms/step - loss: 1.4217 - accuracy: 0.4420 - val_loss: 0.9973 - val_accuracy: 0.6344\n",
      "Epoch 2/100\n",
      "400/400 [==============================] - 22s 56ms/step - loss: 0.8666 - accuracy: 0.7045 - val_loss: 0.7856 - val_accuracy: 0.7241\n",
      "Epoch 3/100\n",
      "400/400 [==============================] - 20s 49ms/step - loss: 0.6249 - accuracy: 0.7920 - val_loss: 0.6094 - val_accuracy: 0.7925\n",
      "Epoch 4/100\n",
      "400/400 [==============================] - 19s 48ms/step - loss: 0.4243 - accuracy: 0.8549 - val_loss: 0.4390 - val_accuracy: 0.8491\n",
      "Epoch 5/100\n",
      "400/400 [==============================] - 19s 48ms/step - loss: 0.3261 - accuracy: 0.8874 - val_loss: 0.4148 - val_accuracy: 0.8628\n",
      "Epoch 6/100\n",
      "400/400 [==============================] - 20s 50ms/step - loss: 0.2865 - accuracy: 0.8973 - val_loss: 0.4013 - val_accuracy: 0.8703\n",
      "Epoch 7/100\n",
      "400/400 [==============================] - 19s 47ms/step - loss: 0.2582 - accuracy: 0.9043 - val_loss: 0.4103 - val_accuracy: 0.8637\n",
      "Epoch 8/100\n",
      "400/400 [==============================] - 19s 47ms/step - loss: 0.2341 - accuracy: 0.9131 - val_loss: 0.4231 - val_accuracy: 0.8716\n",
      "Epoch 9/100\n",
      "400/400 [==============================] - 19s 48ms/step - loss: 0.2267 - accuracy: 0.9156 - val_loss: 0.3954 - val_accuracy: 0.8666\n",
      "Epoch 10/100\n",
      "400/400 [==============================] - 19s 47ms/step - loss: 0.2087 - accuracy: 0.9220 - val_loss: 0.4051 - val_accuracy: 0.8725\n",
      "Epoch 11/100\n",
      "400/400 [==============================] - 22s 56ms/step - loss: 0.2038 - accuracy: 0.9248 - val_loss: 0.4033 - val_accuracy: 0.8678\n",
      "Epoch 12/100\n",
      "400/400 [==============================] - 21s 51ms/step - loss: 0.1915 - accuracy: 0.9269 - val_loss: 0.4298 - val_accuracy: 0.8678\n",
      "Epoch 13/100\n",
      "400/400 [==============================] - 19s 48ms/step - loss: 0.1764 - accuracy: 0.9319 - val_loss: 0.4257 - val_accuracy: 0.8712\n",
      "Epoch 14/100\n",
      "400/400 [==============================] - 19s 48ms/step - loss: 0.1679 - accuracy: 0.9348 - val_loss: 0.4170 - val_accuracy: 0.8706\n",
      "Epoch 15/100\n",
      "400/400 [==============================] - 20s 49ms/step - loss: 0.1581 - accuracy: 0.9400 - val_loss: 0.4220 - val_accuracy: 0.8709\n",
      "Epoch 16/100\n",
      "400/400 [==============================] - 19s 47ms/step - loss: 0.1568 - accuracy: 0.9409 - val_loss: 0.4316 - val_accuracy: 0.8703\n",
      "Epoch 17/100\n",
      "400/400 [==============================] - 19s 47ms/step - loss: 0.1530 - accuracy: 0.9414 - val_loss: 0.4381 - val_accuracy: 0.8687\n",
      "Epoch 18/100\n",
      "400/400 [==============================] - 19s 48ms/step - loss: 0.1441 - accuracy: 0.9465 - val_loss: 0.4520 - val_accuracy: 0.8666\n",
      "Epoch 19/100\n",
      "400/400 [==============================] - 19s 48ms/step - loss: 0.1454 - accuracy: 0.9461 - val_loss: 0.4325 - val_accuracy: 0.8706\n",
      "Epoch 20/100\n",
      "400/400 [==============================] - 19s 47ms/step - loss: 0.1308 - accuracy: 0.9517 - val_loss: 0.4845 - val_accuracy: 0.8672\n",
      "Epoch 21/100\n",
      "400/400 [==============================] - 19s 48ms/step - loss: 0.1228 - accuracy: 0.9541 - val_loss: 0.5143 - val_accuracy: 0.8656\n"
     ]
    }
   ],
   "source": [
    "# Using a patience and start_from_epoch of 10 as the model is still all over the place before that \n",
    "early_stopping = EarlyStopping(monitor='val_loss', patience=10, restore_best_weights=True, start_from_epoch=10)\n",
    "\n",
    "# Train the model\n",
    "history = model.fit(x_train, y_train, epochs=100, validation_split=0.2, callbacks=[early_stopping])"
   ]
  },
  {
   "cell_type": "code",
   "execution_count": 345,
   "id": "fe4078c1",
   "metadata": {},
   "outputs": [],
   "source": [
    "models = {\n",
    "    'RNN':\n",
    "    Sequential([\n",
    "        Embedding(\n",
    "            input_dim=max_words_to_use,\n",
    "            input_length=max_sequence_length,\n",
    "            output_dim=32\n",
    "        ),\n",
    "        SimpleRNN(units=32),\n",
    "        Dense(32, activation='softmax'), # needed?\n",
    "        Dense(6, activation='softmax')\n",
    "    ]),\n",
    "    \n",
    "    'LSTM':\n",
    "    Sequential([\n",
    "        Embedding(\n",
    "            input_dim=max_words_to_use,\n",
    "            input_length=max_sequence_length,\n",
    "            output_dim=32\n",
    "        ),\n",
    "        SimpleRNN(units=32),\n",
    "        Dense(32, activation='softmax'), # needed?\n",
    "        Dense(6, activation='softmax')\n",
    "    ])\n",
    "}"
   ]
  },
  {
   "cell_type": "code",
   "execution_count": null,
   "id": "117759ae",
   "metadata": {},
   "outputs": [],
   "source": [
    "for name, model in models.items():\n",
    "    \n",
    "    print(f'Training {name}')\n",
    "    \n",
    "    # Compile the model\n",
    "    model.compile(optimizer='adam', loss='categorical_crossentropy', metrics=['accuracy'])\n",
    "    \n",
    "    # Using a patience and start_from_epoch of 10 as the model is still all over the place before that \n",
    "    early_stopping = EarlyStopping(monitor='val_loss', patience=10, restore_best_weights=True, start_from_epoch=10)\n",
    "\n",
    "    # Train the model\n",
    "    history = model.fit(x_train, y_train, epochs=2, validation_split=0.2, callbacks=[early_stopping])"
   ]
  },
  {
   "cell_type": "markdown",
   "id": "3da62f6a",
   "metadata": {},
   "source": [
    "### Evaluate performance"
   ]
  },
  {
   "cell_type": "code",
   "execution_count": 340,
   "id": "3e4a0227",
   "metadata": {},
   "outputs": [
    {
     "name": "stdout",
     "output_type": "stream",
     "text": [
      "  7/125 [>.............................] - ETA: 2s - loss: 0.2556 - accuracy: 0.8929"
     ]
    },
    {
     "name": "stdout",
     "output_type": "stream",
     "text": [
      "125/125 [==============================] - 2s 19ms/step - loss: 0.3767 - accuracy: 0.8720\n"
     ]
    }
   ],
   "source": [
    "test_loss, test_accuracy = model.evaluate(x_test, y_test, verbose=1)"
   ]
  },
  {
   "cell_type": "code",
   "execution_count": 341,
   "id": "453c5ecc",
   "metadata": {},
   "outputs": [
    {
     "data": {
      "image/png": "[encoded data removed]",
      "text/plain": [
       "<Figure size 1200x400 with 2 Axes>"
      ]
     },
     "metadata": {},
     "output_type": "display_data"
    },
    {
     "name": "stdout",
     "output_type": "stream",
     "text": [
      "Accuracy: 87.0%\n",
      "Loss: 0.38\n"
     ]
    }
   ],
   "source": [
    "plt.figure(figsize=(12, 4))\n",
    "\n",
    "plt.subplot(1, 2, 1)\n",
    "plt.plot(history.history['accuracy'], label='Training Accuracy')\n",
    "plt.plot(history.history['val_accuracy'], label='Validation Accuracy')\n",
    "plt.title('Accuracy over Epochs')\n",
    "plt.xlabel('Epoch')\n",
    "plt.ylabel('Accuracy')\n",
    "plt.legend()\n",
    "\n",
    "plt.subplot(1, 2, 2)\n",
    "plt.plot(history.history['loss'], label='Training Loss')\n",
    "plt.plot(history.history['val_loss'], label='Validation Loss')\n",
    "plt.title('Loss over Epochs')\n",
    "plt.xlabel('Epoch')\n",
    "plt.ylabel('Loss')\n",
    "plt.legend()\n",
    "\n",
    "plt.show()\n",
    "\n",
    "print(\n",
    "    f'Accuracy: {round(test_accuracy, 2) * 100}%\\n'\n",
    "    f'Loss: {round(test_loss, 2)}'    \n",
    ")"
   ]
  }
 ],
 "metadata": {
  "kernelspec": {
   "display_name": "Python 3 (ipykernel)",
   "language": "python",
   "name": "python3"
  },
  "language_info": {
   "codemirror_mode": {
    "name": "ipython",
    "version": 3
   },
   "file_extension": ".py",
   "mimetype": "text/x-python",
   "name": "python",
   "nbconvert_exporter": "python",
   "pygments_lexer": "ipython3",
   "version": "3.8.10"
  }
 },
 "nbformat": 4,
 "nbformat_minor": 5
}
