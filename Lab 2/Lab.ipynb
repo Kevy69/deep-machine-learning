{
 "cells": [
  {
   "cell_type": "code",
   "execution_count": 215,
   "id": "6b09d145",
   "metadata": {},
   "outputs": [],
   "source": [
    "# Todo: balance dataset?\n",
    "# Add better markdown labels for sections in the first lab?\n",
    "# add maxlen & max_words back? \n",
    "# add test_size to the hyperparameter explanation? (both for lab 1 and 2)\n",
    "\n",
    "# is Embedding(max_words, 32, input_length=maxlen) correct?\n",
    "\n",
    "# remove stopwords?\n",
    "# lemmetize?\n",
    "\n",
    "# why embedding layer?"
   ]
  },
  {
   "cell_type": "markdown",
   "id": "a1eb5209",
   "metadata": {},
   "source": [
    "# Sentiment Analysis"
   ]
  },
  {
   "cell_type": "code",
   "execution_count": 269,
   "id": "9891682c",
   "metadata": {},
   "outputs": [],
   "source": [
    "from keras.layers import SimpleRNN, LSTM, GRU, Bidirectional, Dense, Embedding\n",
    "from keras.datasets import imdb\n",
    "from keras.models import Sequential\n",
    "from keras.preprocessing.text import Tokenizer\n",
    "from keras.utils import pad_sequences\n",
    "from sklearn.model_selection import train_test_split\n",
    "import numpy as np\n",
    "import pandas as pd\n",
    "\n",
    "from sklearn.preprocessing import LabelBinarizer\n",
    "import matplotlib.pyplot as plt"
   ]
  },
  {
   "cell_type": "code",
   "execution_count": null,
   "id": "d0a09b34",
   "metadata": {},
   "outputs": [],
   "source": [
    "max_words = 1000  # Consider only the top 1000 words\n",
    "maxlen = 100  # Set the maximum length of sequences to 100"
   ]
  },
  {
   "cell_type": "code",
   "execution_count": 225,
   "id": "341d4768",
   "metadata": {},
   "outputs": [
    {
     "name": "stdout",
     "output_type": "stream",
     "text": [
      "['anger' 'sadness' 'joy' 'love' 'fear' 'surprise']\n"
     ]
    },
    {
     "data": {
      "text/html": [
       "<div>\n",
       "<style scoped>\n",
       "    .dataframe tbody tr th:only-of-type {\n",
       "        vertical-align: middle;\n",
       "    }\n",
       "\n",
       "    .dataframe tbody tr th {\n",
       "        vertical-align: top;\n",
       "    }\n",
       "\n",
       "    .dataframe thead th {\n",
       "        text-align: right;\n",
       "    }\n",
       "</style>\n",
       "<table border=\"1\" class=\"dataframe\">\n",
       "  <thead>\n",
       "    <tr style=\"text-align: right;\">\n",
       "      <th></th>\n",
       "      <th>text</th>\n",
       "      <th>label</th>\n",
       "    </tr>\n",
       "  </thead>\n",
       "  <tbody>\n",
       "    <tr>\n",
       "      <th>0</th>\n",
       "      <td>i feel so pissed off over an old friend and so...</td>\n",
       "      <td>anger</td>\n",
       "    </tr>\n",
       "    <tr>\n",
       "      <th>1</th>\n",
       "      <td>ive found it has made a huge difference especi...</td>\n",
       "      <td>anger</td>\n",
       "    </tr>\n",
       "    <tr>\n",
       "      <th>2</th>\n",
       "      <td>i also feel it is unfortunate that nearly all ...</td>\n",
       "      <td>sadness</td>\n",
       "    </tr>\n",
       "    <tr>\n",
       "      <th>3</th>\n",
       "      <td>i feel petty a href http clairee</td>\n",
       "      <td>anger</td>\n",
       "    </tr>\n",
       "    <tr>\n",
       "      <th>4</th>\n",
       "      <td>i used to believe that a feeling like fear was...</td>\n",
       "      <td>sadness</td>\n",
       "    </tr>\n",
       "    <tr>\n",
       "      <th>...</th>\n",
       "      <td>...</td>\n",
       "      <td>...</td>\n",
       "    </tr>\n",
       "    <tr>\n",
       "      <th>19995</th>\n",
       "      <td>i was i might be buying stuff from there but i...</td>\n",
       "      <td>joy</td>\n",
       "    </tr>\n",
       "    <tr>\n",
       "      <th>19996</th>\n",
       "      <td>i like sonam deepika and genelia who i feel ar...</td>\n",
       "      <td>joy</td>\n",
       "    </tr>\n",
       "    <tr>\n",
       "      <th>19997</th>\n",
       "      <td>i feel pathetic that i can hardly go a whole d...</td>\n",
       "      <td>sadness</td>\n",
       "    </tr>\n",
       "    <tr>\n",
       "      <th>19998</th>\n",
       "      <td>id have spent more time with her on reading i ...</td>\n",
       "      <td>sadness</td>\n",
       "    </tr>\n",
       "    <tr>\n",
       "      <th>19999</th>\n",
       "      <td>i do however feel like one of those pathetic g...</td>\n",
       "      <td>sadness</td>\n",
       "    </tr>\n",
       "  </tbody>\n",
       "</table>\n",
       "<p>20000 rows × 2 columns</p>\n",
       "</div>"
      ],
      "text/plain": [
       "                                                    text    label\n",
       "0      i feel so pissed off over an old friend and so...    anger\n",
       "1      ive found it has made a huge difference especi...    anger\n",
       "2      i also feel it is unfortunate that nearly all ...  sadness\n",
       "3                       i feel petty a href http clairee    anger\n",
       "4      i used to believe that a feeling like fear was...  sadness\n",
       "...                                                  ...      ...\n",
       "19995  i was i might be buying stuff from there but i...      joy\n",
       "19996  i like sonam deepika and genelia who i feel ar...      joy\n",
       "19997  i feel pathetic that i can hardly go a whole d...  sadness\n",
       "19998  id have spent more time with her on reading i ...  sadness\n",
       "19999  i do however feel like one of those pathetic g...  sadness\n",
       "\n",
       "[20000 rows x 2 columns]"
      ]
     },
     "metadata": {},
     "output_type": "display_data"
    },
    {
     "data": {
      "text/plain": [
       "None"
      ]
     },
     "metadata": {},
     "output_type": "display_data"
    }
   ],
   "source": [
    "data = pd.read_csv('emotions.csv')\n",
    "\n",
    "display(\n",
    "    data,\n",
    "    print(data['label'].unique())\n",
    ")"
   ]
  },
  {
   "cell_type": "markdown",
   "id": "9b6a25ff",
   "metadata": {},
   "source": [
    "### Misc data exploration"
   ]
  },
  {
   "cell_type": "code",
   "execution_count": 226,
   "id": "32ddbf3f",
   "metadata": {},
   "outputs": [
    {
     "name": "stdout",
     "output_type": "stream",
     "text": [
      "Longest \"review\" characters/word count: 300/62\n"
     ]
    }
   ],
   "source": [
    "# Find the longest \"review\" (for lack of a better word) and count the number of chars/words. Useful in order\n",
    "# to set an appropriate max_words for pad_sequences.\n",
    "longest_row_index = data['text'].str.len().idxmax()\n",
    "longest_row = data['text'].loc[longest_row_index]\n",
    "\n",
    "longest_review_char_count = len(longest_row)\n",
    "longest_review_word_count = len(longest_row.split(' '))\n",
    "\n",
    "print(f'Longest \"review\" characters/word count: {longest_review_char_count}/{longest_review_word_count}')"
   ]
  },
  {
   "cell_type": "code",
   "execution_count": 227,
   "id": "80be6436",
   "metadata": {},
   "outputs": [
    {
     "data": {
      "text/plain": [
       "label\n",
       "joy         6761\n",
       "sadness     5797\n",
       "anger       2709\n",
       "fear        2373\n",
       "love        1641\n",
       "surprise     719\n",
       "Name: count, dtype: int64"
      ]
     },
     "execution_count": 227,
     "metadata": {},
     "output_type": "execute_result"
    }
   ],
   "source": [
    "# We sadly don't have enough data to balance the dataset\n",
    "data['label'].value_counts()"
   ]
  },
  {
   "cell_type": "markdown",
   "id": "9c6a0afa",
   "metadata": {},
   "source": [
    "### Preprocessing"
   ]
  },
  {
   "cell_type": "code",
   "execution_count": 228,
   "id": "090bd1ab",
   "metadata": {},
   "outputs": [
    {
     "name": "stdout",
     "output_type": "stream",
     "text": [
      "[1, 2, 14, 513, 161, 115, 76, 274, 277, 3, 68, 178]\n",
      "[73, 322, 12, 99, 131, 6, 275, 29, 5, 24, 10, 3, 5, 10, 714, 119, 14, 84, 3, 152, 495]\n",
      "[1, 116, 2, 12, 21, 762, 8, 35, 5, 964, 9, 87, 4, 782, 5, 367, 57, 27, 50]\n",
      "[1, 2, 665, 6, 203, 187]\n",
      "[1, 323, 4, 300, 8, 6, 7, 13, 763, 18, 4, 27, 614, 34, 111, 162, 37, 29, 22, 11, 6, 242]\n"
     ]
    }
   ],
   "source": [
    "# Tokenize the text data \n",
    "tokenizer = Tokenizer(num_words=max_words) # Consider only using the top 1000 words, as those \n",
    "tokenizer.fit_on_texts(data['text'])\n",
    "tokenized_data = tokenizer.texts_to_sequences(data['text'])\n",
    "\n",
    "# printing using a loop for easier viewing.\n",
    "for i in range(5):\n",
    "    print(tokenized_data[i])"
   ]
  },
  {
   "cell_type": "code",
   "execution_count": 235,
   "id": "f3a9d935",
   "metadata": {},
   "outputs": [
    {
     "name": "stdout",
     "output_type": "stream",
     "text": [
      "[[  0   0   0   0   0   0   0   0   0   0   0   0   0   0   0   0   0   0\n",
      "    0   0   0   0   0   0   0   0   0   0   0   0   0   0   0   0   0   0\n",
      "    0   0   0   0   0   0   0   0   0   0   0   0   0   0   0   0   0   0\n",
      "    0   0   0   0   0   0   0   0   0   0   0   0   0   0   0   0   0   0\n",
      "    0   0   0   0   0   0   0   0   0   0   0   0   0   0   0   0   1   2\n",
      "   14 513 161 115  76 274 277   3  68 178]\n",
      " [  0   0   0   0   0   0   0   0   0   0   0   0   0   0   0   0   0   0\n",
      "    0   0   0   0   0   0   0   0   0   0   0   0   0   0   0   0   0   0\n",
      "    0   0   0   0   0   0   0   0   0   0   0   0   0   0   0   0   0   0\n",
      "    0   0   0   0   0   0   0   0   0   0   0   0   0   0   0   0   0   0\n",
      "    0   0   0   0   0   0   0  73 322  12  99 131   6 275  29   5  24  10\n",
      "    3   5  10 714 119  14  84   3 152 495]]\n"
     ]
    }
   ],
   "source": [
    "# Pad the sequences to make them of uniform length\n",
    "tokenized_padded_data = pad_sequences(tokenized_data, maxlen=100)\n",
    "print(tokenized_padded_data[:2])"
   ]
  },
  {
   "cell_type": "code",
   "execution_count": 259,
   "id": "164bd5e8",
   "metadata": {},
   "outputs": [
    {
     "name": "stdout",
     "output_type": "stream",
     "text": [
      "[[1 0 0 0 0 0]\n",
      " [1 0 0 0 0 0]\n",
      " [0 0 0 0 1 0]\n",
      " ...\n",
      " [0 0 0 0 1 0]\n",
      " [0 0 0 0 1 0]\n",
      " [0 0 0 0 1 0]]\n"
     ]
    }
   ],
   "source": [
    "# One-hot encode the labels\n",
    "label_binarizer = LabelBinarizer()\n",
    "onehot_encoded_labels = label_binarizer.fit_transform(data['label'])\n",
    "\n",
    "print(onehot_encoded_labels)"
   ]
  },
  {
   "cell_type": "markdown",
   "id": "84f4160c",
   "metadata": {},
   "source": [
    "working code"
   ]
  },
  {
   "cell_type": "code",
   "execution_count": 266,
   "id": "9c919e25",
   "metadata": {},
   "outputs": [
    {
     "name": "stdout",
     "output_type": "stream",
     "text": [
      "x_train shape: (16000, 100)\n",
      "y_train shape: (16000, 6)\n",
      "x_test shape: (4000, 100)\n",
      "y_test shape: (4000, 6)\n"
     ]
    }
   ],
   "source": [
    "x_train, x_test, y_train, y_test = train_test_split(tokenized_padded_data, onehot_encoded_labels, test_size=0.2, random_state=42)\n",
    "\n",
    "print(\n",
    "    f'x_train shape: {np.shape(x_train)}\\n'\n",
    "    f'y_train shape: {np.shape(y_train)}\\n'\n",
    "    f'x_test shape: {np.shape(x_test)}\\n'\n",
    "    f'y_test shape: {np.shape(y_test)}'\n",
    ")"
   ]
  },
  {
   "cell_type": "code",
   "execution_count": 276,
   "id": "ff11a1db",
   "metadata": {},
   "outputs": [
    {
     "name": "stdout",
     "output_type": "stream",
     "text": [
      "Epoch 1/3\n",
      "400/400 [==============================] - 16s 30ms/step - loss: 1.6167 - accuracy: 0.3341 - val_loss: 1.5930 - val_accuracy: 0.3341\n",
      "Epoch 2/3\n",
      "400/400 [==============================] - 14s 34ms/step - loss: 1.5415 - accuracy: 0.4196 - val_loss: 1.4937 - val_accuracy: 0.4800\n",
      "Epoch 3/3\n",
      "400/400 [==============================] - 14s 35ms/step - loss: 1.4676 - accuracy: 0.4777 - val_loss: 1.4424 - val_accuracy: 0.5066\n"
     ]
    }
   ],
   "source": [
    "model = Sequential([\n",
    "    Embedding(\n",
    "        input_dim=max_words,\n",
    "        input_length=maxlen,\n",
    "        output_dim=32\n",
    "    ),\n",
    "    \n",
    "    SimpleRNN(units=32),\n",
    "    Dense(32, activation='softmax'), # needed?\n",
    "    Dense(6, activation='softmax')\n",
    "])\n",
    "\n",
    "# Compile the model\n",
    "model.compile(optimizer='adam', loss='categorical_crossentropy', metrics=['accuracy'])\n",
    "\n",
    "# Train the model\n",
    "history = model.fit(x_train, y_train, epochs=3, validation_split=0.2)"
   ]
  },
  {
   "cell_type": "code",
   "execution_count": 277,
   "id": "3e4a0227",
   "metadata": {},
   "outputs": [
    {
     "name": "stdout",
     "output_type": "stream",
     "text": [
      "  1/125 [..............................] - ETA: 6s - loss: 1.4447 - accuracy: 0.4375"
     ]
    },
    {
     "name": "stdout",
     "output_type": "stream",
     "text": [
      "125/125 [==============================] - 1s 9ms/step - loss: 1.4255 - accuracy: 0.5075\n"
     ]
    }
   ],
   "source": [
    "test_loss, test_accuracy = model.evaluate(x_test, y_test, verbose=1)"
   ]
  },
  {
   "cell_type": "code",
   "execution_count": 278,
   "id": "453c5ecc",
   "metadata": {},
   "outputs": [
    {
     "data": {
      "image/png": "[encoded data removed]",
      "text/plain": [
       "<Figure size 1200x400 with 2 Axes>"
      ]
     },
     "metadata": {},
     "output_type": "display_data"
    },
    {
     "name": "stdout",
     "output_type": "stream",
     "text": [
      "Accuracy: 51.0%\n",
      "Loss: 1.43\n"
     ]
    }
   ],
   "source": [
    "plt.figure(figsize=(12, 4))\n",
    "\n",
    "plt.subplot(1, 2, 1)\n",
    "plt.plot(history.history['accuracy'], label='Training Accuracy')\n",
    "plt.plot(history.history['val_accuracy'], label='Validation Accuracy')\n",
    "plt.title('Accuracy over Epochs')\n",
    "plt.xlabel('Epoch')\n",
    "plt.ylabel('Accuracy')\n",
    "plt.legend()\n",
    "\n",
    "plt.subplot(1, 2, 2)\n",
    "plt.plot(history.history['loss'], label='Training Loss')\n",
    "plt.plot(history.history['val_loss'], label='Validation Loss')\n",
    "plt.title('Loss over Epochs')\n",
    "plt.xlabel('Epoch')\n",
    "plt.ylabel('Loss')\n",
    "plt.legend()\n",
    "\n",
    "plt.show()\n",
    "\n",
    "print(\n",
    "    f'Accuracy: {round(test_accuracy, 2) * 100}%\\n'\n",
    "    f'Loss: {round(test_loss, 2)}'    \n",
    ")"
   ]
  }
 ],
 "metadata": {
  "kernelspec": {
   "display_name": "Python 3 (ipykernel)",
   "language": "python",
   "name": "python3"
  },
  "language_info": {
   "codemirror_mode": {
    "name": "ipython",
    "version": 3
   },
   "file_extension": ".py",
   "mimetype": "text/x-python",
   "name": "python",
   "nbconvert_exporter": "python",
   "pygments_lexer": "ipython3",
   "version": "3.8.10"
  }
 },
 "nbformat": 4,
 "nbformat_minor": 5
}
