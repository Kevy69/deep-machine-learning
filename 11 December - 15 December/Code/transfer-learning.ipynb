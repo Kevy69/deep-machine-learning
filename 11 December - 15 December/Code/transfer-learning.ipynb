{
 "cells": [
  {
   "cell_type": "code",
   "execution_count": 91,
   "id": "ee2c44b2-b102-45a3-9a46-0e4a830155d9",
   "metadata": {},
   "outputs": [],
   "source": [
    "import tensorflow as tf\n",
    "from keras.applications.vgg16 import VGG16\n",
    "from keras.layers import Dense, Flatten\n",
    "from keras.models import Model\n",
    "from keras.datasets import cifar10\n",
    "from keras.utils import to_categorical\n",
    "import matplotlib.pyplot as plt\n",
    "\n",
    "import numpy as np"
   ]
  },
  {
   "cell_type": "code",
   "execution_count": 92,
   "id": "12e90f46-ee5f-48a2-9cb0-1a197d6c0073",
   "metadata": {},
   "outputs": [],
   "source": [
    "# Load and preprocess CIFAR-10 data\n",
    "(train_images_x, train_labels_y), (test_images_x, test_labels_y) = cifar10.load_data()\n",
    "train_images = tf.keras.applications.vgg16.preprocess_input(train_images_x)\n",
    "test_images = tf.keras.applications.vgg16.preprocess_input(test_images_x)\n",
    "train_labels = to_categorical(train_labels_y)\n",
    "test_labels = to_categorical(test_labels_y)"
   ]
  },
  {
   "cell_type": "code",
   "execution_count": 93,
   "id": "4b94d446",
   "metadata": {},
   "outputs": [
    {
     "name": "stdout",
     "output_type": "stream",
     "text": [
      "train_images_x shape: (50000, 32, 32, 3)\n",
      "train_labels_y shape: (50000, 1)\n",
      "test_images_x shape: (10000, 32, 32, 3)\n",
      "test_labels_y shape: (10000, 1)\n",
      "\n",
      "train_images shape: (50000, 32, 32, 3)\n",
      "train_labels shape: (50000, 10)\n",
      "test_images shape: (10000, 32, 32, 3)\n",
      "test_labels shape: (10000, 10)\n",
      "\n"
     ]
    }
   ],
   "source": [
    "print(\n",
    "    f'train_images_x shape: {np.shape(train_images_x)}\\n'\n",
    "    f'train_labels_y shape: {np.shape(train_labels_y)}\\n'\n",
    "    f'test_images_x shape: {np.shape(test_images_x)}\\n'\n",
    "    f'test_labels_y shape: {np.shape(test_labels_y)}\\n\\n'\n",
    "    \n",
    "    f'train_images shape: {np.shape(train_images)}\\n'\n",
    "    f'train_labels shape: {np.shape(train_labels)}\\n'\n",
    "    f'test_images shape: {np.shape(test_images)}\\n'\n",
    "    f'test_labels shape: {np.shape(test_labels)}\\n'\n",
    ")"
   ]
  },
  {
   "cell_type": "code",
   "execution_count": 94,
   "id": "c4f52fda",
   "metadata": {},
   "outputs": [
    {
     "name": "stdout",
     "output_type": "stream",
     "text": [
      "[[[ -40.939003   -54.779      -64.68     ]\n",
      "  [ -58.939003   -70.779      -80.68     ]\n",
      "  [ -60.939003   -68.779      -73.68     ]\n",
      "  ...\n",
      "  [   4.060997    15.221001    34.32     ]\n",
      "  [  -1.939003     8.221001    28.32     ]\n",
      "  [  -0.939003     7.2210007   24.32     ]]\n",
      "\n",
      " [[ -83.939      -96.779     -107.68     ]\n",
      "  [-103.939     -116.779     -123.68     ]\n",
      "  [-103.939     -108.779     -105.68     ]\n",
      "  ...\n",
      "  [ -48.939003   -28.779       -0.6800003]\n",
      "  [ -53.939003   -33.779       -4.6800003]\n",
      "  [ -46.939003   -29.779       -1.6800003]]\n",
      "\n",
      " [[ -82.939      -92.779      -98.68     ]\n",
      "  [-103.939     -109.779     -107.68     ]\n",
      "  [ -95.939      -89.779      -74.68     ]\n",
      "  ...\n",
      "  [ -53.939003   -32.779       -5.6800003]\n",
      "  [ -53.939003   -32.779       -3.6800003]\n",
      "  [ -61.939003   -43.779      -14.68     ]]\n",
      "\n",
      " ...\n",
      "\n",
      " [[  -7.939003    53.221       84.32     ]\n",
      "  [ -69.939       36.221       77.32     ]\n",
      "  [ -77.939       44.221       74.32     ]\n",
      "  ...\n",
      "  [ -33.939003    16.221       36.32     ]\n",
      "  [ -96.939      -85.779      -67.68     ]\n",
      "  [ -83.939      -82.779      -70.68     ]]\n",
      "\n",
      " [[  -7.939003    22.221       56.32     ]\n",
      "  [ -61.939003     6.2210007   49.32     ]\n",
      "  [ -73.939       27.221       62.32     ]\n",
      "  ...\n",
      "  [  -9.939003    31.221       60.32     ]\n",
      "  [ -69.939      -54.779      -26.68     ]\n",
      "  [ -69.939      -63.779      -40.68     ]]\n",
      "\n",
      " [[  12.060997    27.221       53.32     ]\n",
      "  [  -9.939003    12.221001    44.32     ]\n",
      "  [ -16.939003    25.221       55.32     ]\n",
      "  ...\n",
      "  [  36.060997    67.221       92.32     ]\n",
      "  [ -19.939003     1.2210007   27.32     ]\n",
      "  [ -31.939003   -24.779       -0.6800003]]]\n",
      "[0. 0. 0. 0. 0. 0. 1. 0. 0. 0.]\n"
     ]
    }
   ],
   "source": [
    "print(train_images[0])\n",
    "print(train_labels[0])"
   ]
  },
  {
   "cell_type": "markdown",
   "id": "78b7a5ab-5de6-49b2-989a-da944a105370",
   "metadata": {},
   "source": [
    "# Inspect VGG16 base model\n",
    "VGG16 with and without its fully connected layers"
   ]
  },
  {
   "cell_type": "code",
   "execution_count": 95,
   "id": "ce9484ba-88aa-4dbb-b158-7f533517d9b5",
   "metadata": {},
   "outputs": [],
   "source": [
    "vgg_base_model_with_top = VGG16(weights='imagenet', include_top=True, input_shape=(224, 224, 3))"
   ]
  },
  {
   "cell_type": "code",
   "execution_count": 96,
   "id": "cf4824c9-dbf1-431b-9519-6577ded0e1be",
   "metadata": {},
   "outputs": [
    {
     "data": {
      "text/plain": [
       "[<keras.engine.input_layer.InputLayer at 0x1ba9a0aea90>,\n",
       " <keras.layers.convolutional.conv2d.Conv2D at 0x1ba9b0b0d00>,\n",
       " <keras.layers.convolutional.conv2d.Conv2D at 0x1ba9b0b0d90>,\n",
       " <keras.layers.pooling.max_pooling2d.MaxPooling2D at 0x1ba9a0c2970>,\n",
       " <keras.layers.convolutional.conv2d.Conv2D at 0x1ba9897f310>,\n",
       " <keras.layers.convolutional.conv2d.Conv2D at 0x1ba9b0b0f10>,\n",
       " <keras.layers.pooling.max_pooling2d.MaxPooling2D at 0x1ba9b0cb700>,\n",
       " <keras.layers.convolutional.conv2d.Conv2D at 0x1ba9b0cb100>,\n",
       " <keras.layers.convolutional.conv2d.Conv2D at 0x1ba9b0c8bb0>,\n",
       " <keras.layers.convolutional.conv2d.Conv2D at 0x1ba9b0ceaf0>,\n",
       " <keras.layers.pooling.max_pooling2d.MaxPooling2D at 0x1ba9b0d2a30>,\n",
       " <keras.layers.convolutional.conv2d.Conv2D at 0x1ba9b0ce340>,\n",
       " <keras.layers.convolutional.conv2d.Conv2D at 0x1ba9b0cb5e0>,\n",
       " <keras.layers.convolutional.conv2d.Conv2D at 0x1ba9b0d5cd0>,\n",
       " <keras.layers.pooling.max_pooling2d.MaxPooling2D at 0x1ba9b0d8c10>,\n",
       " <keras.layers.convolutional.conv2d.Conv2D at 0x1ba9b0d5280>,\n",
       " <keras.layers.convolutional.conv2d.Conv2D at 0x1ba9b0d8eb0>,\n",
       " <keras.layers.convolutional.conv2d.Conv2D at 0x1ba9b0db5b0>,\n",
       " <keras.layers.pooling.max_pooling2d.MaxPooling2D at 0x1ba93f6f580>,\n",
       " <keras.layers.reshaping.flatten.Flatten at 0x1ba9b0ce7c0>,\n",
       " <keras.layers.core.dense.Dense at 0x1ba9b0e59d0>,\n",
       " <keras.layers.core.dense.Dense at 0x1ba9b0ebca0>,\n",
       " <keras.layers.core.dense.Dense at 0x1ba9b0ebf70>]"
      ]
     },
     "execution_count": 96,
     "metadata": {},
     "output_type": "execute_result"
    }
   ],
   "source": [
    "vgg_base_model_with_top.layers"
   ]
  },
  {
   "cell_type": "code",
   "execution_count": 97,
   "id": "67d97fa8",
   "metadata": {},
   "outputs": [
    {
     "name": "stdout",
     "output_type": "stream",
     "text": [
      "Model: \"vgg16\"\n",
      "_________________________________________________________________\n",
      " Layer (type)                Output Shape              Param #   \n",
      "=================================================================\n",
      " input_20 (InputLayer)       [(None, 224, 224, 3)]     0         \n",
      "                                                                 \n",
      " block1_conv1 (Conv2D)       (None, 224, 224, 64)      1792      \n",
      "                                                                 \n",
      " block1_conv2 (Conv2D)       (None, 224, 224, 64)      36928     \n",
      "                                                                 \n",
      " block1_pool (MaxPooling2D)  (None, 112, 112, 64)      0         \n",
      "                                                                 \n",
      " block2_conv1 (Conv2D)       (None, 112, 112, 128)     73856     \n",
      "                                                                 \n",
      " block2_conv2 (Conv2D)       (None, 112, 112, 128)     147584    \n",
      "                                                                 \n",
      " block2_pool (MaxPooling2D)  (None, 56, 56, 128)       0         \n",
      "                                                                 \n",
      " block3_conv1 (Conv2D)       (None, 56, 56, 256)       295168    \n",
      "                                                                 \n",
      " block3_conv2 (Conv2D)       (None, 56, 56, 256)       590080    \n",
      "                                                                 \n",
      " block3_conv3 (Conv2D)       (None, 56, 56, 256)       590080    \n",
      "                                                                 \n",
      " block3_pool (MaxPooling2D)  (None, 28, 28, 256)       0         \n",
      "                                                                 \n",
      " block4_conv1 (Conv2D)       (None, 28, 28, 512)       1180160   \n",
      "                                                                 \n",
      " block4_conv2 (Conv2D)       (None, 28, 28, 512)       2359808   \n",
      "                                                                 \n",
      " block4_conv3 (Conv2D)       (None, 28, 28, 512)       2359808   \n",
      "                                                                 \n",
      " block4_pool (MaxPooling2D)  (None, 14, 14, 512)       0         \n",
      "                                                                 \n",
      " block5_conv1 (Conv2D)       (None, 14, 14, 512)       2359808   \n",
      "                                                                 \n",
      " block5_conv2 (Conv2D)       (None, 14, 14, 512)       2359808   \n",
      "                                                                 \n",
      " block5_conv3 (Conv2D)       (None, 14, 14, 512)       2359808   \n",
      "                                                                 \n",
      " block5_pool (MaxPooling2D)  (None, 7, 7, 512)         0         \n",
      "                                                                 \n",
      " flatten (Flatten)           (None, 25088)             0         \n",
      "                                                                 \n",
      " fc1 (Dense)                 (None, 4096)              102764544 \n",
      "                                                                 \n",
      " fc2 (Dense)                 (None, 4096)              16781312  \n",
      "                                                                 \n",
      " predictions (Dense)         (None, 1000)              4097000   \n",
      "                                                                 \n",
      "=================================================================\n",
      "Total params: 138,357,544\n",
      "Trainable params: 138,357,544\n",
      "Non-trainable params: 0\n",
      "_________________________________________________________________\n"
     ]
    }
   ],
   "source": [
    "vgg_base_model_with_top.summary()"
   ]
  },
  {
   "cell_type": "code",
   "execution_count": 98,
   "id": "374857b0-2477-4b39-8794-329b5c4251eb",
   "metadata": {},
   "outputs": [],
   "source": [
    "vgg_base_model = VGG16(weights='imagenet', include_top=False, input_shape=(32, 32, 3))"
   ]
  },
  {
   "cell_type": "code",
   "execution_count": 99,
   "id": "4dcee21c-46a2-484f-965f-2f028af4f8fe",
   "metadata": {},
   "outputs": [
    {
     "data": {
      "text/plain": [
       "[<keras.engine.input_layer.InputLayer at 0x1ba9a09aee0>,\n",
       " <keras.layers.convolutional.conv2d.Conv2D at 0x1ba9b0dea60>,\n",
       " <keras.layers.convolutional.conv2d.Conv2D at 0x1ba9b0efeb0>,\n",
       " <keras.layers.pooling.max_pooling2d.MaxPooling2D at 0x1ba9973beb0>,\n",
       " <keras.layers.convolutional.conv2d.Conv2D at 0x1ba9b0f5fa0>,\n",
       " <keras.layers.convolutional.conv2d.Conv2D at 0x1ba93fa1a60>,\n",
       " <keras.layers.pooling.max_pooling2d.MaxPooling2D at 0x1ba901bc610>,\n",
       " <keras.layers.convolutional.conv2d.Conv2D at 0x1ba9b0f9fd0>,\n",
       " <keras.layers.convolutional.conv2d.Conv2D at 0x1ba9b0fbbb0>,\n",
       " <keras.layers.convolutional.conv2d.Conv2D at 0x1ba9b0f9850>,\n",
       " <keras.layers.pooling.max_pooling2d.MaxPooling2D at 0x1ba99752130>,\n",
       " <keras.layers.convolutional.conv2d.Conv2D at 0x1ba9b105910>,\n",
       " <keras.layers.convolutional.conv2d.Conv2D at 0x1ba9b109d00>,\n",
       " <keras.layers.convolutional.conv2d.Conv2D at 0x1ba9b105970>,\n",
       " <keras.layers.pooling.max_pooling2d.MaxPooling2D at 0x1ba9b1095b0>,\n",
       " <keras.layers.convolutional.conv2d.Conv2D at 0x1ba9b1157c0>,\n",
       " <keras.layers.convolutional.conv2d.Conv2D at 0x1ba9b115ee0>,\n",
       " <keras.layers.convolutional.conv2d.Conv2D at 0x1ba9b1156d0>,\n",
       " <keras.layers.pooling.max_pooling2d.MaxPooling2D at 0x1ba9b11deb0>]"
      ]
     },
     "execution_count": 99,
     "metadata": {},
     "output_type": "execute_result"
    }
   ],
   "source": [
    "vgg_base_model.layers"
   ]
  },
  {
   "cell_type": "code",
   "execution_count": 100,
   "id": "d8e594bf",
   "metadata": {},
   "outputs": [
    {
     "name": "stdout",
     "output_type": "stream",
     "text": [
      "Model: \"vgg16\"\n",
      "_________________________________________________________________\n",
      " Layer (type)                Output Shape              Param #   \n",
      "=================================================================\n",
      " input_21 (InputLayer)       [(None, 32, 32, 3)]       0         \n",
      "                                                                 \n",
      " block1_conv1 (Conv2D)       (None, 32, 32, 64)        1792      \n",
      "                                                                 \n",
      " block1_conv2 (Conv2D)       (None, 32, 32, 64)        36928     \n",
      "                                                                 \n",
      " block1_pool (MaxPooling2D)  (None, 16, 16, 64)        0         \n",
      "                                                                 \n",
      " block2_conv1 (Conv2D)       (None, 16, 16, 128)       73856     \n",
      "                                                                 \n",
      " block2_conv2 (Conv2D)       (None, 16, 16, 128)       147584    \n",
      "                                                                 \n",
      " block2_pool (MaxPooling2D)  (None, 8, 8, 128)         0         \n",
      "                                                                 \n",
      " block3_conv1 (Conv2D)       (None, 8, 8, 256)         295168    \n",
      "                                                                 \n",
      " block3_conv2 (Conv2D)       (None, 8, 8, 256)         590080    \n",
      "                                                                 \n",
      " block3_conv3 (Conv2D)       (None, 8, 8, 256)         590080    \n",
      "                                                                 \n",
      " block3_pool (MaxPooling2D)  (None, 4, 4, 256)         0         \n",
      "                                                                 \n",
      " block4_conv1 (Conv2D)       (None, 4, 4, 512)         1180160   \n",
      "                                                                 \n",
      " block4_conv2 (Conv2D)       (None, 4, 4, 512)         2359808   \n",
      "                                                                 \n",
      " block4_conv3 (Conv2D)       (None, 4, 4, 512)         2359808   \n",
      "                                                                 \n",
      " block4_pool (MaxPooling2D)  (None, 2, 2, 512)         0         \n",
      "                                                                 \n",
      " block5_conv1 (Conv2D)       (None, 2, 2, 512)         2359808   \n",
      "                                                                 \n",
      " block5_conv2 (Conv2D)       (None, 2, 2, 512)         2359808   \n",
      "                                                                 \n",
      " block5_conv3 (Conv2D)       (None, 2, 2, 512)         2359808   \n",
      "                                                                 \n",
      " block5_pool (MaxPooling2D)  (None, 1, 1, 512)         0         \n",
      "                                                                 \n",
      "=================================================================\n",
      "Total params: 14,714,688\n",
      "Trainable params: 14,714,688\n",
      "Non-trainable params: 0\n",
      "_________________________________________________________________\n"
     ]
    }
   ],
   "source": [
    "vgg_base_model.summary()"
   ]
  },
  {
   "cell_type": "markdown",
   "id": "c17ab581-2ac3-4784-a4a4-b12db8277717",
   "metadata": {},
   "source": [
    "# VGG16 feature extraction"
   ]
  },
  {
   "cell_type": "code",
   "execution_count": 101,
   "id": "1c3f7601-1ff4-4dd7-868c-702852d91e47",
   "metadata": {},
   "outputs": [],
   "source": [
    "# Load pre-trained VGG16 model without the top layer\n",
    "def create_vgg_feature_extraction_model():\n",
    "    base_model = VGG16(weights='imagenet', include_top=False, input_shape=(32, 32, 3))\n",
    "    # Freeze the base model\n",
    "    base_model.trainable = False\n",
    "    \n",
    "    # Create a new model on top\n",
    "    inputs = tf.keras.Input(shape=(32, 32, 3))\n",
    "    x = base_model(inputs)\n",
    "    x = Flatten()(x)\n",
    "    x = Dense(100, activation='relu')(x)\n",
    "    outputs = Dense(10, activation='softmax')(x)\n",
    "    model = Model(inputs, outputs)\n",
    "    \n",
    "    # Compile and train the model\n",
    "    model.compile(optimizer='adam', loss='categorical_crossentropy', metrics=['accuracy'])\n",
    "\n",
    "    return model"
   ]
  },
  {
   "cell_type": "code",
   "execution_count": 102,
   "id": "57b121d7-0c7e-4e5a-9e4b-c6cd2d080395",
   "metadata": {},
   "outputs": [],
   "source": [
    "model = create_vgg_feature_extraction_model()"
   ]
  },
  {
   "cell_type": "code",
   "execution_count": 103,
   "id": "9d40139f-3b61-4f7c-9c05-3d987ba58b62",
   "metadata": {},
   "outputs": [
    {
     "name": "stdout",
     "output_type": "stream",
     "text": [
      "Model: \"model_6\"\n",
      "_________________________________________________________________\n",
      " Layer (type)                Output Shape              Param #   \n",
      "=================================================================\n",
      " input_23 (InputLayer)       [(None, 32, 32, 3)]       0         \n",
      "                                                                 \n",
      " vgg16 (Functional)          (None, 1, 1, 512)         14714688  \n",
      "                                                                 \n",
      " flatten_6 (Flatten)         (None, 512)               0         \n",
      "                                                                 \n",
      " dense_12 (Dense)            (None, 100)               51300     \n",
      "                                                                 \n",
      " dense_13 (Dense)            (None, 10)                1010      \n",
      "                                                                 \n",
      "=================================================================\n",
      "Total params: 14,766,998\n",
      "Trainable params: 52,310\n",
      "Non-trainable params: 14,714,688\n",
      "_________________________________________________________________\n"
     ]
    }
   ],
   "source": [
    "model.summary()"
   ]
  },
  {
   "cell_type": "code",
   "execution_count": 104,
   "id": "7cc91657",
   "metadata": {},
   "outputs": [
    {
     "name": "stdout",
     "output_type": "stream",
     "text": [
      "Epoch 1/50\n",
      "1250/1250 [==============================] - 509s 404ms/step - loss: 1.9728 - accuracy: 0.5199 - val_loss: 1.1929 - val_accuracy: 0.5930\n",
      "Epoch 2/50\n",
      "1250/1250 [==============================] - 479s 383ms/step - loss: 1.0533 - accuracy: 0.6331 - val_loss: 1.1004 - val_accuracy: 0.6270\n",
      "Epoch 3/50\n",
      "1250/1250 [==============================] - 482s 386ms/step - loss: 0.9472 - accuracy: 0.6701 - val_loss: 1.0770 - val_accuracy: 0.6377\n",
      "Epoch 4/50\n",
      "1250/1250 [==============================] - 475s 380ms/step - loss: 0.8881 - accuracy: 0.6879 - val_loss: 1.0994 - val_accuracy: 0.6365\n",
      "Epoch 5/50\n",
      "1250/1250 [==============================] - 478s 382ms/step - loss: 0.8418 - accuracy: 0.7076 - val_loss: 1.0870 - val_accuracy: 0.6434\n",
      "Epoch 6/50\n",
      "1250/1250 [==============================] - 474s 379ms/step - loss: 0.7928 - accuracy: 0.7214 - val_loss: 1.1123 - val_accuracy: 0.6443\n",
      "Epoch 7/50\n",
      "1250/1250 [==============================] - 477s 382ms/step - loss: 0.7502 - accuracy: 0.7343 - val_loss: 1.1575 - val_accuracy: 0.6401\n",
      "Epoch 8/50\n",
      "1250/1250 [==============================] - 482s 385ms/step - loss: 0.7134 - accuracy: 0.7474 - val_loss: 1.1731 - val_accuracy: 0.6426\n",
      "Epoch 9/50\n",
      "1250/1250 [==============================] - 478s 382ms/step - loss: 0.6742 - accuracy: 0.7608 - val_loss: 1.2216 - val_accuracy: 0.6426\n",
      "Epoch 10/50\n",
      "1250/1250 [==============================] - 479s 383ms/step - loss: 0.6408 - accuracy: 0.7736 - val_loss: 1.2743 - val_accuracy: 0.6403\n",
      "Epoch 11/50\n",
      "1250/1250 [==============================] - 481s 385ms/step - loss: 0.6094 - accuracy: 0.7825 - val_loss: 1.3110 - val_accuracy: 0.6321\n",
      "Epoch 12/50\n",
      "1250/1250 [==============================] - 476s 380ms/step - loss: 0.5826 - accuracy: 0.7926 - val_loss: 1.3849 - val_accuracy: 0.6318\n",
      "Epoch 13/50\n",
      "1250/1250 [==============================] - 477s 382ms/step - loss: 0.5597 - accuracy: 0.8000 - val_loss: 1.4692 - val_accuracy: 0.6263\n",
      "Epoch 14/50\n",
      "1250/1250 [==============================] - 476s 381ms/step - loss: 0.5317 - accuracy: 0.8094 - val_loss: 1.5221 - val_accuracy: 0.6267\n",
      "Epoch 15/50\n",
      "1250/1250 [==============================] - 480s 384ms/step - loss: 0.5133 - accuracy: 0.8133 - val_loss: 1.6190 - val_accuracy: 0.6194\n",
      "Epoch 16/50\n",
      "1250/1250 [==============================] - 482s 386ms/step - loss: 0.4956 - accuracy: 0.8217 - val_loss: 1.6143 - val_accuracy: 0.6289\n",
      "Epoch 17/50\n",
      "1250/1250 [==============================] - 478s 383ms/step - loss: 0.4758 - accuracy: 0.8284 - val_loss: 1.7056 - val_accuracy: 0.6297\n",
      "Epoch 18/50\n",
      "1250/1250 [==============================] - 473s 379ms/step - loss: 0.4600 - accuracy: 0.8347 - val_loss: 1.7877 - val_accuracy: 0.6190\n",
      "Epoch 19/50\n",
      "1250/1250 [==============================] - 477s 381ms/step - loss: 0.4438 - accuracy: 0.8426 - val_loss: 1.8605 - val_accuracy: 0.6176\n",
      "Epoch 20/50\n",
      "1250/1250 [==============================] - 473s 378ms/step - loss: 0.4265 - accuracy: 0.8473 - val_loss: 1.9055 - val_accuracy: 0.6181\n",
      "Epoch 21/50\n",
      "1250/1250 [==============================] - 476s 380ms/step - loss: 0.4170 - accuracy: 0.8511 - val_loss: 1.9926 - val_accuracy: 0.6220\n",
      "Epoch 22/50\n",
      "1250/1250 [==============================] - 473s 379ms/step - loss: 0.4034 - accuracy: 0.8550 - val_loss: 2.0648 - val_accuracy: 0.6196\n",
      "Epoch 23/50\n",
      "1250/1250 [==============================] - 477s 382ms/step - loss: 0.3947 - accuracy: 0.8602 - val_loss: 2.1232 - val_accuracy: 0.6180\n",
      "Epoch 24/50\n",
      "1250/1250 [==============================] - 473s 378ms/step - loss: 0.3757 - accuracy: 0.8664 - val_loss: 2.1808 - val_accuracy: 0.6207\n",
      "Epoch 25/50\n",
      "1250/1250 [==============================] - 476s 381ms/step - loss: 0.3636 - accuracy: 0.8685 - val_loss: 2.2974 - val_accuracy: 0.6114\n",
      "Epoch 26/50\n",
      "1250/1250 [==============================] - 474s 379ms/step - loss: 0.3616 - accuracy: 0.8716 - val_loss: 2.3704 - val_accuracy: 0.6151\n",
      "Epoch 27/50\n",
      "1250/1250 [==============================] - 477s 382ms/step - loss: 0.3557 - accuracy: 0.8726 - val_loss: 2.4014 - val_accuracy: 0.6150\n",
      "Epoch 28/50\n",
      "1250/1250 [==============================] - 473s 378ms/step - loss: 0.3342 - accuracy: 0.8803 - val_loss: 2.4981 - val_accuracy: 0.6146\n",
      "Epoch 29/50\n",
      "1250/1250 [==============================] - 476s 381ms/step - loss: 0.3245 - accuracy: 0.8828 - val_loss: 2.5608 - val_accuracy: 0.6119\n",
      "Epoch 30/50\n",
      "1250/1250 [==============================] - 475s 380ms/step - loss: 0.3276 - accuracy: 0.8832 - val_loss: 2.6399 - val_accuracy: 0.6126\n",
      "Epoch 31/50\n",
      "1250/1250 [==============================] - 477s 382ms/step - loss: 0.3173 - accuracy: 0.8874 - val_loss: 2.7942 - val_accuracy: 0.6045\n",
      "Epoch 32/50\n",
      "1250/1250 [==============================] - 473s 379ms/step - loss: 0.3073 - accuracy: 0.8905 - val_loss: 2.7845 - val_accuracy: 0.6109\n",
      "Epoch 33/50\n",
      "1250/1250 [==============================] - 481s 385ms/step - loss: 0.2970 - accuracy: 0.8924 - val_loss: 2.9001 - val_accuracy: 0.6088\n",
      "Epoch 34/50\n",
      "1250/1250 [==============================] - 481s 385ms/step - loss: 0.2953 - accuracy: 0.8933 - val_loss: 3.0091 - val_accuracy: 0.6048\n",
      "Epoch 35/50\n",
      "1250/1250 [==============================] - 484s 387ms/step - loss: 0.2880 - accuracy: 0.8978 - val_loss: 3.0536 - val_accuracy: 0.6064\n",
      "Epoch 36/50\n",
      "1250/1250 [==============================] - 479s 383ms/step - loss: 0.2803 - accuracy: 0.9003 - val_loss: 3.0849 - val_accuracy: 0.6073\n",
      "Epoch 37/50\n",
      "1250/1250 [==============================] - 478s 382ms/step - loss: 0.2751 - accuracy: 0.9026 - val_loss: 3.2029 - val_accuracy: 0.6040\n",
      "Epoch 38/50\n",
      "1250/1250 [==============================] - 476s 381ms/step - loss: 0.2773 - accuracy: 0.9027 - val_loss: 3.3011 - val_accuracy: 0.6008\n",
      "Epoch 39/50\n",
      "1250/1250 [==============================] - 478s 382ms/step - loss: 0.2625 - accuracy: 0.9071 - val_loss: 3.3475 - val_accuracy: 0.6058\n",
      "Epoch 40/50\n",
      "1250/1250 [==============================] - 474s 379ms/step - loss: 0.2629 - accuracy: 0.9070 - val_loss: 3.4151 - val_accuracy: 0.6059\n",
      "Epoch 41/50\n",
      "1250/1250 [==============================] - 477s 381ms/step - loss: 0.2579 - accuracy: 0.9083 - val_loss: 3.5142 - val_accuracy: 0.6023\n",
      "Epoch 42/50\n",
      "1250/1250 [==============================] - 475s 380ms/step - loss: 0.2437 - accuracy: 0.9136 - val_loss: 3.5818 - val_accuracy: 0.6088\n",
      "Epoch 43/50\n",
      "1250/1250 [==============================] - 478s 382ms/step - loss: 0.2530 - accuracy: 0.9099 - val_loss: 3.5638 - val_accuracy: 0.6025\n",
      "Epoch 44/50\n",
      "1250/1250 [==============================] - 473s 379ms/step - loss: 0.2498 - accuracy: 0.9122 - val_loss: 3.7700 - val_accuracy: 0.5994\n",
      "Epoch 45/50\n",
      "1250/1250 [==============================] - 477s 382ms/step - loss: 0.2429 - accuracy: 0.9139 - val_loss: 3.7039 - val_accuracy: 0.6007\n",
      "Epoch 46/50\n",
      "1250/1250 [==============================] - 478s 383ms/step - loss: 0.2358 - accuracy: 0.9165 - val_loss: 3.9508 - val_accuracy: 0.5986\n",
      "Epoch 47/50\n",
      "1250/1250 [==============================] - 475s 380ms/step - loss: 0.2283 - accuracy: 0.9206 - val_loss: 3.9922 - val_accuracy: 0.6026\n",
      "Epoch 48/50\n",
      "1250/1250 [==============================] - 476s 381ms/step - loss: 0.2361 - accuracy: 0.9183 - val_loss: 4.1778 - val_accuracy: 0.6054\n",
      "Epoch 49/50\n",
      "1250/1250 [==============================] - 476s 381ms/step - loss: 0.2258 - accuracy: 0.9196 - val_loss: 4.0994 - val_accuracy: 0.6073\n",
      "Epoch 50/50\n",
      "1250/1250 [==============================] - 477s 382ms/step - loss: 0.2212 - accuracy: 0.9226 - val_loss: 4.0720 - val_accuracy: 0.5988\n"
     ]
    }
   ],
   "source": [
    "history = model.fit(train_images, train_labels, epochs=50, validation_split=0.2, verbose=1)"
   ]
  },
  {
   "cell_type": "code",
   "execution_count": 105,
   "id": "ffdd3410",
   "metadata": {},
   "outputs": [
    {
     "name": "stdout",
     "output_type": "stream",
     "text": [
      "313/313 [==============================] - 89s 284ms/step - loss: 4.1159 - accuracy: 0.5983\n"
     ]
    }
   ],
   "source": [
    "test_loss, test_accuracy = model.evaluate(test_images, test_labels, verbose=1)"
   ]
  },
  {
   "cell_type": "code",
   "execution_count": 106,
   "id": "da49de57",
   "metadata": {},
   "outputs": [
    {
     "data": {
      "image/png": "[encoded data removed]",
      "text/plain": [
       "<Figure size 1200x400 with 2 Axes>"
      ]
     },
     "metadata": {},
     "output_type": "display_data"
    },
    {
     "name": "stdout",
     "output_type": "stream",
     "text": [
      "Accuracy: 60.0%\n",
      "Loss: 4.12\n"
     ]
    }
   ],
   "source": [
    "plt.figure(figsize=(12, 4))\n",
    "\n",
    "plt.subplot(1, 2, 1)\n",
    "plt.plot(history.history['accuracy'], label='Training Accuracy')\n",
    "plt.plot(history.history['val_accuracy'], label='Validation Accuracy')\n",
    "plt.title('Accuracy over Epochs')\n",
    "plt.xlabel('Epoch')\n",
    "plt.ylabel('Accuracy')\n",
    "plt.legend()\n",
    "\n",
    "plt.subplot(1, 2, 2)\n",
    "plt.plot(history.history['loss'], label='Training Loss')\n",
    "plt.plot(history.history['val_loss'], label='Validation Loss')\n",
    "plt.title('Loss over Epochs')\n",
    "plt.xlabel('Epoch')\n",
    "plt.ylabel('Loss')\n",
    "plt.legend()\n",
    "\n",
    "plt.show()\n",
    "\n",
    "print(\n",
    "    f'Accuracy: {round(test_accuracy, 2) * 100}%\\n'\n",
    "    f'Loss: {round(test_loss, 2)}'    \n",
    ")"
   ]
  },
  {
   "cell_type": "markdown",
   "id": "05679500-e4a4-4991-8671-1a7cfcf8231c",
   "metadata": {},
   "source": [
    "# Tasks\n",
    "- Experiement with different setups of fully connected layers"
   ]
  },
  {
   "cell_type": "markdown",
   "id": "ce1cedd7-4dc2-4514-8354-b8b903e98d81",
   "metadata": {},
   "source": [
    "# Finetune VGG16"
   ]
  },
  {
   "cell_type": "code",
   "execution_count": 107,
   "id": "a81d0728-961f-4a42-88ca-8f6f5145ad5b",
   "metadata": {},
   "outputs": [],
   "source": [
    "def create_vgg_finetuning_model():\n",
    "    # Load pre-trained VGG16 model without the top layer\n",
    "    base_model = VGG16(weights='imagenet', include_top=False, input_shape=(32, 32, 3))\n",
    "\n",
    "    # Fine-tune from this layer onwards\n",
    "    fine_tune_at = 4\n",
    "\n",
    "    # Freeze all the layers before the `fine_tune_at` layer\n",
    "    for layer in base_model.layers[:fine_tune_at]:\n",
    "        layer.trainable = False\n",
    "    \n",
    "    # Create a new model on top\n",
    "    inputs = tf.keras.Input(shape=(32, 32, 3))\n",
    "    x = base_model(inputs)\n",
    "    x = Flatten()(x)\n",
    "    x = Dense(100, activation='relu')(x)\n",
    "    outputs = Dense(10, activation='softmax')(x)\n",
    "    model = Model(inputs, outputs)\n",
    "\n",
    "    # It's important to recompile the model after making any changes\n",
    "    model.compile(optimizer=tf.keras.optimizers.Adam(1e-5), loss='categorical_crossentropy', metrics=['accuracy'])\n",
    "\n",
    "    return model"
   ]
  },
  {
   "cell_type": "code",
   "execution_count": 108,
   "id": "e5299fb2-e8fd-40a8-8159-9b90213ba006",
   "metadata": {},
   "outputs": [],
   "source": [
    "model = create_vgg_finetuning_model()"
   ]
  },
  {
   "cell_type": "code",
   "execution_count": 109,
   "id": "948b0765-356f-4550-b5d0-fd99cb8003e2",
   "metadata": {},
   "outputs": [
    {
     "name": "stdout",
     "output_type": "stream",
     "text": [
      "Model: \"model_7\"\n",
      "_________________________________________________________________\n",
      " Layer (type)                Output Shape              Param #   \n",
      "=================================================================\n",
      " input_25 (InputLayer)       [(None, 32, 32, 3)]       0         \n",
      "                                                                 \n",
      " vgg16 (Functional)          (None, 1, 1, 512)         14714688  \n",
      "                                                                 \n",
      " flatten_7 (Flatten)         (None, 512)               0         \n",
      "                                                                 \n",
      " dense_14 (Dense)            (None, 100)               51300     \n",
      "                                                                 \n",
      " dense_15 (Dense)            (None, 10)                1010      \n",
      "                                                                 \n",
      "=================================================================\n",
      "Total params: 14,766,998\n",
      "Trainable params: 14,728,278\n",
      "Non-trainable params: 38,720\n",
      "_________________________________________________________________\n"
     ]
    }
   ],
   "source": [
    "model.summary()"
   ]
  },
  {
   "cell_type": "code",
   "execution_count": 110,
   "id": "c86b997a",
   "metadata": {},
   "outputs": [
    {
     "name": "stdout",
     "output_type": "stream",
     "text": [
      "Epoch 1/50\n",
      "1250/1250 [==============================] - 3695s 3s/step - loss: 1.3201 - accuracy: 0.5852 - val_loss: 0.8070 - val_accuracy: 0.7239\n",
      "Epoch 2/50\n",
      "1250/1250 [==============================] - 3682s 3s/step - loss: 0.6784 - accuracy: 0.7679 - val_loss: 0.6741 - val_accuracy: 0.7712\n",
      "Epoch 3/50\n",
      "1250/1250 [==============================] - 3682s 3s/step - loss: 0.5302 - accuracy: 0.8170 - val_loss: 0.6055 - val_accuracy: 0.7918\n",
      "Epoch 4/50\n",
      "1250/1250 [==============================] - 3698s 3s/step - loss: 0.4231 - accuracy: 0.8543 - val_loss: 0.5428 - val_accuracy: 0.8147\n",
      "Epoch 5/50\n",
      "1250/1250 [==============================] - 3684s 3s/step - loss: 0.3290 - accuracy: 0.8862 - val_loss: 0.5730 - val_accuracy: 0.8166\n",
      "Epoch 6/50\n",
      "1250/1250 [==============================] - 3686s 3s/step - loss: 0.2519 - accuracy: 0.9134 - val_loss: 0.5675 - val_accuracy: 0.8265\n",
      "Epoch 7/50\n",
      "1250/1250 [==============================] - 3690s 3s/step - loss: 0.1830 - accuracy: 0.9373 - val_loss: 0.5775 - val_accuracy: 0.8267\n",
      "Epoch 8/50\n",
      "1250/1250 [==============================] - 3676s 3s/step - loss: 0.1302 - accuracy: 0.9560 - val_loss: 0.6036 - val_accuracy: 0.8329\n",
      "Epoch 9/50\n",
      "1250/1250 [==============================] - 3689s 3s/step - loss: 0.0954 - accuracy: 0.9685 - val_loss: 0.6637 - val_accuracy: 0.8267\n",
      "Epoch 10/50\n",
      "1250/1250 [==============================] - 3690s 3s/step - loss: 0.0700 - accuracy: 0.9772 - val_loss: 0.7540 - val_accuracy: 0.8254\n",
      "Epoch 11/50\n",
      " 360/1250 [=======>......................] - ETA: 44:21 - loss: 0.0424 - accuracy: 0.9880"
     ]
    },
    {
     "ename": "KeyboardInterrupt",
     "evalue": "",
     "output_type": "error",
     "traceback": [
      "\u001b[1;31m---------------------------------------------------------------------------\u001b[0m",
      "\u001b[1;31mKeyboardInterrupt\u001b[0m                         Traceback (most recent call last)",
      "Cell \u001b[1;32mIn[110], line 1\u001b[0m\n\u001b[1;32m----> 1\u001b[0m history \u001b[38;5;241m=\u001b[39m \u001b[43mmodel\u001b[49m\u001b[38;5;241;43m.\u001b[39;49m\u001b[43mfit\u001b[49m\u001b[43m(\u001b[49m\u001b[43mtrain_images\u001b[49m\u001b[43m,\u001b[49m\u001b[43m \u001b[49m\u001b[43mtrain_labels\u001b[49m\u001b[43m,\u001b[49m\u001b[43m \u001b[49m\u001b[43mepochs\u001b[49m\u001b[38;5;241;43m=\u001b[39;49m\u001b[38;5;241;43m50\u001b[39;49m\u001b[43m,\u001b[49m\u001b[43m \u001b[49m\u001b[43mvalidation_split\u001b[49m\u001b[38;5;241;43m=\u001b[39;49m\u001b[38;5;241;43m0.2\u001b[39;49m\u001b[43m,\u001b[49m\u001b[43m \u001b[49m\u001b[43mverbose\u001b[49m\u001b[38;5;241;43m=\u001b[39;49m\u001b[38;5;241;43m1\u001b[39;49m\u001b[43m)\u001b[49m\n",
      "File \u001b[1;32mc:\\Users\\Kevin\\AppData\\Local\\Programs\\Python\\Python38\\lib\\site-packages\\keras\\utils\\traceback_utils.py:65\u001b[0m, in \u001b[0;36mfilter_traceback.<locals>.error_handler\u001b[1;34m(*args, **kwargs)\u001b[0m\n\u001b[0;32m     63\u001b[0m filtered_tb \u001b[38;5;241m=\u001b[39m \u001b[38;5;28;01mNone\u001b[39;00m\n\u001b[0;32m     64\u001b[0m \u001b[38;5;28;01mtry\u001b[39;00m:\n\u001b[1;32m---> 65\u001b[0m     \u001b[38;5;28;01mreturn\u001b[39;00m \u001b[43mfn\u001b[49m\u001b[43m(\u001b[49m\u001b[38;5;241;43m*\u001b[39;49m\u001b[43margs\u001b[49m\u001b[43m,\u001b[49m\u001b[43m \u001b[49m\u001b[38;5;241;43m*\u001b[39;49m\u001b[38;5;241;43m*\u001b[39;49m\u001b[43mkwargs\u001b[49m\u001b[43m)\u001b[49m\n\u001b[0;32m     66\u001b[0m \u001b[38;5;28;01mexcept\u001b[39;00m \u001b[38;5;167;01mException\u001b[39;00m \u001b[38;5;28;01mas\u001b[39;00m e:\n\u001b[0;32m     67\u001b[0m     filtered_tb \u001b[38;5;241m=\u001b[39m _process_traceback_frames(e\u001b[38;5;241m.\u001b[39m__traceback__)\n",
      "File \u001b[1;32mc:\\Users\\Kevin\\AppData\\Local\\Programs\\Python\\Python38\\lib\\site-packages\\keras\\engine\\training.py:1685\u001b[0m, in \u001b[0;36mModel.fit\u001b[1;34m(self, x, y, batch_size, epochs, verbose, callbacks, validation_split, validation_data, shuffle, class_weight, sample_weight, initial_epoch, steps_per_epoch, validation_steps, validation_batch_size, validation_freq, max_queue_size, workers, use_multiprocessing)\u001b[0m\n\u001b[0;32m   1677\u001b[0m \u001b[38;5;28;01mwith\u001b[39;00m tf\u001b[38;5;241m.\u001b[39mprofiler\u001b[38;5;241m.\u001b[39mexperimental\u001b[38;5;241m.\u001b[39mTrace(\n\u001b[0;32m   1678\u001b[0m     \u001b[38;5;124m\"\u001b[39m\u001b[38;5;124mtrain\u001b[39m\u001b[38;5;124m\"\u001b[39m,\n\u001b[0;32m   1679\u001b[0m     epoch_num\u001b[38;5;241m=\u001b[39mepoch,\n\u001b[1;32m   (...)\u001b[0m\n\u001b[0;32m   1682\u001b[0m     _r\u001b[38;5;241m=\u001b[39m\u001b[38;5;241m1\u001b[39m,\n\u001b[0;32m   1683\u001b[0m ):\n\u001b[0;32m   1684\u001b[0m     callbacks\u001b[38;5;241m.\u001b[39mon_train_batch_begin(step)\n\u001b[1;32m-> 1685\u001b[0m     tmp_logs \u001b[38;5;241m=\u001b[39m \u001b[38;5;28;43mself\u001b[39;49m\u001b[38;5;241;43m.\u001b[39;49m\u001b[43mtrain_function\u001b[49m\u001b[43m(\u001b[49m\u001b[43miterator\u001b[49m\u001b[43m)\u001b[49m\n\u001b[0;32m   1686\u001b[0m     \u001b[38;5;28;01mif\u001b[39;00m data_handler\u001b[38;5;241m.\u001b[39mshould_sync:\n\u001b[0;32m   1687\u001b[0m         context\u001b[38;5;241m.\u001b[39masync_wait()\n",
      "File \u001b[1;32mc:\\Users\\Kevin\\AppData\\Local\\Programs\\Python\\Python38\\lib\\site-packages\\tensorflow\\python\\util\\traceback_utils.py:150\u001b[0m, in \u001b[0;36mfilter_traceback.<locals>.error_handler\u001b[1;34m(*args, **kwargs)\u001b[0m\n\u001b[0;32m    148\u001b[0m filtered_tb \u001b[38;5;241m=\u001b[39m \u001b[38;5;28;01mNone\u001b[39;00m\n\u001b[0;32m    149\u001b[0m \u001b[38;5;28;01mtry\u001b[39;00m:\n\u001b[1;32m--> 150\u001b[0m   \u001b[38;5;28;01mreturn\u001b[39;00m \u001b[43mfn\u001b[49m\u001b[43m(\u001b[49m\u001b[38;5;241;43m*\u001b[39;49m\u001b[43margs\u001b[49m\u001b[43m,\u001b[49m\u001b[43m \u001b[49m\u001b[38;5;241;43m*\u001b[39;49m\u001b[38;5;241;43m*\u001b[39;49m\u001b[43mkwargs\u001b[49m\u001b[43m)\u001b[49m\n\u001b[0;32m    151\u001b[0m \u001b[38;5;28;01mexcept\u001b[39;00m \u001b[38;5;167;01mException\u001b[39;00m \u001b[38;5;28;01mas\u001b[39;00m e:\n\u001b[0;32m    152\u001b[0m   filtered_tb \u001b[38;5;241m=\u001b[39m _process_traceback_frames(e\u001b[38;5;241m.\u001b[39m__traceback__)\n",
      "File \u001b[1;32mc:\\Users\\Kevin\\AppData\\Local\\Programs\\Python\\Python38\\lib\\site-packages\\tensorflow\\python\\eager\\polymorphic_function\\polymorphic_function.py:894\u001b[0m, in \u001b[0;36mFunction.__call__\u001b[1;34m(self, *args, **kwds)\u001b[0m\n\u001b[0;32m    891\u001b[0m compiler \u001b[38;5;241m=\u001b[39m \u001b[38;5;124m\"\u001b[39m\u001b[38;5;124mxla\u001b[39m\u001b[38;5;124m\"\u001b[39m \u001b[38;5;28;01mif\u001b[39;00m \u001b[38;5;28mself\u001b[39m\u001b[38;5;241m.\u001b[39m_jit_compile \u001b[38;5;28;01melse\u001b[39;00m \u001b[38;5;124m\"\u001b[39m\u001b[38;5;124mnonXla\u001b[39m\u001b[38;5;124m\"\u001b[39m\n\u001b[0;32m    893\u001b[0m \u001b[38;5;28;01mwith\u001b[39;00m OptionalXlaContext(\u001b[38;5;28mself\u001b[39m\u001b[38;5;241m.\u001b[39m_jit_compile):\n\u001b[1;32m--> 894\u001b[0m   result \u001b[38;5;241m=\u001b[39m \u001b[38;5;28;43mself\u001b[39;49m\u001b[38;5;241;43m.\u001b[39;49m\u001b[43m_call\u001b[49m\u001b[43m(\u001b[49m\u001b[38;5;241;43m*\u001b[39;49m\u001b[43margs\u001b[49m\u001b[43m,\u001b[49m\u001b[43m \u001b[49m\u001b[38;5;241;43m*\u001b[39;49m\u001b[38;5;241;43m*\u001b[39;49m\u001b[43mkwds\u001b[49m\u001b[43m)\u001b[49m\n\u001b[0;32m    896\u001b[0m new_tracing_count \u001b[38;5;241m=\u001b[39m \u001b[38;5;28mself\u001b[39m\u001b[38;5;241m.\u001b[39mexperimental_get_tracing_count()\n\u001b[0;32m    897\u001b[0m without_tracing \u001b[38;5;241m=\u001b[39m (tracing_count \u001b[38;5;241m==\u001b[39m new_tracing_count)\n",
      "File \u001b[1;32mc:\\Users\\Kevin\\AppData\\Local\\Programs\\Python\\Python38\\lib\\site-packages\\tensorflow\\python\\eager\\polymorphic_function\\polymorphic_function.py:926\u001b[0m, in \u001b[0;36mFunction._call\u001b[1;34m(self, *args, **kwds)\u001b[0m\n\u001b[0;32m    923\u001b[0m   \u001b[38;5;28mself\u001b[39m\u001b[38;5;241m.\u001b[39m_lock\u001b[38;5;241m.\u001b[39mrelease()\n\u001b[0;32m    924\u001b[0m   \u001b[38;5;66;03m# In this case we have created variables on the first call, so we run the\u001b[39;00m\n\u001b[0;32m    925\u001b[0m   \u001b[38;5;66;03m# defunned version which is guaranteed to never create variables.\u001b[39;00m\n\u001b[1;32m--> 926\u001b[0m   \u001b[38;5;28;01mreturn\u001b[39;00m \u001b[38;5;28;43mself\u001b[39;49m\u001b[38;5;241;43m.\u001b[39;49m\u001b[43m_no_variable_creation_fn\u001b[49m\u001b[43m(\u001b[49m\u001b[38;5;241;43m*\u001b[39;49m\u001b[43margs\u001b[49m\u001b[43m,\u001b[49m\u001b[43m \u001b[49m\u001b[38;5;241;43m*\u001b[39;49m\u001b[38;5;241;43m*\u001b[39;49m\u001b[43mkwds\u001b[49m\u001b[43m)\u001b[49m  \u001b[38;5;66;03m# pylint: disable=not-callable\u001b[39;00m\n\u001b[0;32m    927\u001b[0m \u001b[38;5;28;01melif\u001b[39;00m \u001b[38;5;28mself\u001b[39m\u001b[38;5;241m.\u001b[39m_variable_creation_fn \u001b[38;5;129;01mis\u001b[39;00m \u001b[38;5;129;01mnot\u001b[39;00m \u001b[38;5;28;01mNone\u001b[39;00m:\n\u001b[0;32m    928\u001b[0m   \u001b[38;5;66;03m# Release the lock early so that multiple threads can perform the call\u001b[39;00m\n\u001b[0;32m    929\u001b[0m   \u001b[38;5;66;03m# in parallel.\u001b[39;00m\n\u001b[0;32m    930\u001b[0m   \u001b[38;5;28mself\u001b[39m\u001b[38;5;241m.\u001b[39m_lock\u001b[38;5;241m.\u001b[39mrelease()\n",
      "File \u001b[1;32mc:\\Users\\Kevin\\AppData\\Local\\Programs\\Python\\Python38\\lib\\site-packages\\tensorflow\\python\\eager\\polymorphic_function\\tracing_compiler.py:143\u001b[0m, in \u001b[0;36mTracingCompiler.__call__\u001b[1;34m(self, *args, **kwargs)\u001b[0m\n\u001b[0;32m    140\u001b[0m \u001b[38;5;28;01mwith\u001b[39;00m \u001b[38;5;28mself\u001b[39m\u001b[38;5;241m.\u001b[39m_lock:\n\u001b[0;32m    141\u001b[0m   (concrete_function,\n\u001b[0;32m    142\u001b[0m    filtered_flat_args) \u001b[38;5;241m=\u001b[39m \u001b[38;5;28mself\u001b[39m\u001b[38;5;241m.\u001b[39m_maybe_define_function(args, kwargs)\n\u001b[1;32m--> 143\u001b[0m \u001b[38;5;28;01mreturn\u001b[39;00m \u001b[43mconcrete_function\u001b[49m\u001b[38;5;241;43m.\u001b[39;49m\u001b[43m_call_flat\u001b[49m\u001b[43m(\u001b[49m\n\u001b[0;32m    144\u001b[0m \u001b[43m    \u001b[49m\u001b[43mfiltered_flat_args\u001b[49m\u001b[43m,\u001b[49m\u001b[43m \u001b[49m\u001b[43mcaptured_inputs\u001b[49m\u001b[38;5;241;43m=\u001b[39;49m\u001b[43mconcrete_function\u001b[49m\u001b[38;5;241;43m.\u001b[39;49m\u001b[43mcaptured_inputs\u001b[49m\u001b[43m)\u001b[49m\n",
      "File \u001b[1;32mc:\\Users\\Kevin\\AppData\\Local\\Programs\\Python\\Python38\\lib\\site-packages\\tensorflow\\python\\eager\\polymorphic_function\\monomorphic_function.py:1757\u001b[0m, in \u001b[0;36mConcreteFunction._call_flat\u001b[1;34m(self, args, captured_inputs, cancellation_manager)\u001b[0m\n\u001b[0;32m   1753\u001b[0m possible_gradient_type \u001b[38;5;241m=\u001b[39m gradients_util\u001b[38;5;241m.\u001b[39mPossibleTapeGradientTypes(args)\n\u001b[0;32m   1754\u001b[0m \u001b[38;5;28;01mif\u001b[39;00m (possible_gradient_type \u001b[38;5;241m==\u001b[39m gradients_util\u001b[38;5;241m.\u001b[39mPOSSIBLE_GRADIENT_TYPES_NONE\n\u001b[0;32m   1755\u001b[0m     \u001b[38;5;129;01mand\u001b[39;00m executing_eagerly):\n\u001b[0;32m   1756\u001b[0m   \u001b[38;5;66;03m# No tape is watching; skip to running the function.\u001b[39;00m\n\u001b[1;32m-> 1757\u001b[0m   \u001b[38;5;28;01mreturn\u001b[39;00m \u001b[38;5;28mself\u001b[39m\u001b[38;5;241m.\u001b[39m_build_call_outputs(\u001b[38;5;28;43mself\u001b[39;49m\u001b[38;5;241;43m.\u001b[39;49m\u001b[43m_inference_function\u001b[49m\u001b[38;5;241;43m.\u001b[39;49m\u001b[43mcall\u001b[49m\u001b[43m(\u001b[49m\n\u001b[0;32m   1758\u001b[0m \u001b[43m      \u001b[49m\u001b[43mctx\u001b[49m\u001b[43m,\u001b[49m\u001b[43m \u001b[49m\u001b[43margs\u001b[49m\u001b[43m,\u001b[49m\u001b[43m \u001b[49m\u001b[43mcancellation_manager\u001b[49m\u001b[38;5;241;43m=\u001b[39;49m\u001b[43mcancellation_manager\u001b[49m\u001b[43m)\u001b[49m)\n\u001b[0;32m   1759\u001b[0m forward_backward \u001b[38;5;241m=\u001b[39m \u001b[38;5;28mself\u001b[39m\u001b[38;5;241m.\u001b[39m_select_forward_and_backward_functions(\n\u001b[0;32m   1760\u001b[0m     args,\n\u001b[0;32m   1761\u001b[0m     possible_gradient_type,\n\u001b[0;32m   1762\u001b[0m     executing_eagerly)\n\u001b[0;32m   1763\u001b[0m forward_function, args_with_tangents \u001b[38;5;241m=\u001b[39m forward_backward\u001b[38;5;241m.\u001b[39mforward()\n",
      "File \u001b[1;32mc:\\Users\\Kevin\\AppData\\Local\\Programs\\Python\\Python38\\lib\\site-packages\\tensorflow\\python\\eager\\polymorphic_function\\monomorphic_function.py:381\u001b[0m, in \u001b[0;36m_EagerDefinedFunction.call\u001b[1;34m(self, ctx, args, cancellation_manager)\u001b[0m\n\u001b[0;32m    379\u001b[0m \u001b[38;5;28;01mwith\u001b[39;00m _InterpolateFunctionError(\u001b[38;5;28mself\u001b[39m):\n\u001b[0;32m    380\u001b[0m   \u001b[38;5;28;01mif\u001b[39;00m cancellation_manager \u001b[38;5;129;01mis\u001b[39;00m \u001b[38;5;28;01mNone\u001b[39;00m:\n\u001b[1;32m--> 381\u001b[0m     outputs \u001b[38;5;241m=\u001b[39m \u001b[43mexecute\u001b[49m\u001b[38;5;241;43m.\u001b[39;49m\u001b[43mexecute\u001b[49m\u001b[43m(\u001b[49m\n\u001b[0;32m    382\u001b[0m \u001b[43m        \u001b[49m\u001b[38;5;28;43mstr\u001b[39;49m\u001b[43m(\u001b[49m\u001b[38;5;28;43mself\u001b[39;49m\u001b[38;5;241;43m.\u001b[39;49m\u001b[43msignature\u001b[49m\u001b[38;5;241;43m.\u001b[39;49m\u001b[43mname\u001b[49m\u001b[43m)\u001b[49m\u001b[43m,\u001b[49m\n\u001b[0;32m    383\u001b[0m \u001b[43m        \u001b[49m\u001b[43mnum_outputs\u001b[49m\u001b[38;5;241;43m=\u001b[39;49m\u001b[38;5;28;43mself\u001b[39;49m\u001b[38;5;241;43m.\u001b[39;49m\u001b[43m_num_outputs\u001b[49m\u001b[43m,\u001b[49m\n\u001b[0;32m    384\u001b[0m \u001b[43m        \u001b[49m\u001b[43minputs\u001b[49m\u001b[38;5;241;43m=\u001b[39;49m\u001b[43margs\u001b[49m\u001b[43m,\u001b[49m\n\u001b[0;32m    385\u001b[0m \u001b[43m        \u001b[49m\u001b[43mattrs\u001b[49m\u001b[38;5;241;43m=\u001b[39;49m\u001b[43mattrs\u001b[49m\u001b[43m,\u001b[49m\n\u001b[0;32m    386\u001b[0m \u001b[43m        \u001b[49m\u001b[43mctx\u001b[49m\u001b[38;5;241;43m=\u001b[39;49m\u001b[43mctx\u001b[49m\u001b[43m)\u001b[49m\n\u001b[0;32m    387\u001b[0m   \u001b[38;5;28;01melse\u001b[39;00m:\n\u001b[0;32m    388\u001b[0m     outputs \u001b[38;5;241m=\u001b[39m execute\u001b[38;5;241m.\u001b[39mexecute_with_cancellation(\n\u001b[0;32m    389\u001b[0m         \u001b[38;5;28mstr\u001b[39m(\u001b[38;5;28mself\u001b[39m\u001b[38;5;241m.\u001b[39msignature\u001b[38;5;241m.\u001b[39mname),\n\u001b[0;32m    390\u001b[0m         num_outputs\u001b[38;5;241m=\u001b[39m\u001b[38;5;28mself\u001b[39m\u001b[38;5;241m.\u001b[39m_num_outputs,\n\u001b[1;32m   (...)\u001b[0m\n\u001b[0;32m    393\u001b[0m         ctx\u001b[38;5;241m=\u001b[39mctx,\n\u001b[0;32m    394\u001b[0m         cancellation_manager\u001b[38;5;241m=\u001b[39mcancellation_manager)\n",
      "File \u001b[1;32mc:\\Users\\Kevin\\AppData\\Local\\Programs\\Python\\Python38\\lib\\site-packages\\tensorflow\\python\\eager\\execute.py:52\u001b[0m, in \u001b[0;36mquick_execute\u001b[1;34m(op_name, num_outputs, inputs, attrs, ctx, name)\u001b[0m\n\u001b[0;32m     50\u001b[0m \u001b[38;5;28;01mtry\u001b[39;00m:\n\u001b[0;32m     51\u001b[0m   ctx\u001b[38;5;241m.\u001b[39mensure_initialized()\n\u001b[1;32m---> 52\u001b[0m   tensors \u001b[38;5;241m=\u001b[39m \u001b[43mpywrap_tfe\u001b[49m\u001b[38;5;241;43m.\u001b[39;49m\u001b[43mTFE_Py_Execute\u001b[49m\u001b[43m(\u001b[49m\u001b[43mctx\u001b[49m\u001b[38;5;241;43m.\u001b[39;49m\u001b[43m_handle\u001b[49m\u001b[43m,\u001b[49m\u001b[43m \u001b[49m\u001b[43mdevice_name\u001b[49m\u001b[43m,\u001b[49m\u001b[43m \u001b[49m\u001b[43mop_name\u001b[49m\u001b[43m,\u001b[49m\n\u001b[0;32m     53\u001b[0m \u001b[43m                                      \u001b[49m\u001b[43minputs\u001b[49m\u001b[43m,\u001b[49m\u001b[43m \u001b[49m\u001b[43mattrs\u001b[49m\u001b[43m,\u001b[49m\u001b[43m \u001b[49m\u001b[43mnum_outputs\u001b[49m\u001b[43m)\u001b[49m\n\u001b[0;32m     54\u001b[0m \u001b[38;5;28;01mexcept\u001b[39;00m core\u001b[38;5;241m.\u001b[39m_NotOkStatusException \u001b[38;5;28;01mas\u001b[39;00m e:\n\u001b[0;32m     55\u001b[0m   \u001b[38;5;28;01mif\u001b[39;00m name \u001b[38;5;129;01mis\u001b[39;00m \u001b[38;5;129;01mnot\u001b[39;00m \u001b[38;5;28;01mNone\u001b[39;00m:\n",
      "\u001b[1;31mKeyboardInterrupt\u001b[0m: "
     ]
    }
   ],
   "source": [
    "history = model.fit(train_images, train_labels, epochs=50, validation_split=0.2, verbose=1)"
   ]
  },
  {
   "cell_type": "code",
   "execution_count": null,
   "id": "2e390b66",
   "metadata": {},
   "outputs": [],
   "source": [
    "test_loss, test_accuracy = model.evaluate(test_images, test_labels, verbose=1)"
   ]
  },
  {
   "cell_type": "code",
   "execution_count": null,
   "id": "26e1bf04",
   "metadata": {},
   "outputs": [],
   "source": [
    "plt.figure(figsize=(12, 4))\n",
    "\n",
    "plt.subplot(1, 2, 1)\n",
    "plt.plot(history.history['accuracy'], label='Training Accuracy')\n",
    "plt.plot(history.history['val_accuracy'], label='Validation Accuracy')\n",
    "plt.title('Accuracy over Epochs')\n",
    "plt.xlabel('Epoch')\n",
    "plt.ylabel('Accuracy')\n",
    "plt.legend()\n",
    "\n",
    "plt.subplot(1, 2, 2)\n",
    "plt.plot(history.history['loss'], label='Training Loss')\n",
    "plt.plot(history.history['val_loss'], label='Validation Loss')\n",
    "plt.title('Loss over Epochs')\n",
    "plt.xlabel('Epoch')\n",
    "plt.ylabel('Loss')\n",
    "plt.legend()\n",
    "\n",
    "plt.show()\n",
    "\n",
    "print(\n",
    "    f'Accuracy: {round(test_accuracy, 2) * 100}%\\n'\n",
    "    f'Loss: {round(test_loss, 2)}'    \n",
    ")"
   ]
  },
  {
   "cell_type": "markdown",
   "id": "15a10a0c-5666-43dd-8e29-67b1fa96a8f7",
   "metadata": {},
   "source": [
    "# Task\n",
    "- Experiment with different amount of layers to finetune\n",
    "  - Does it effect the training time?\n",
    "- Experiment with different fully connected layers"
   ]
  }
 ],
 "metadata": {
  "kernelspec": {
   "display_name": "Python 3",
   "language": "python",
   "name": "python3"
  },
  "language_info": {
   "codemirror_mode": {
    "name": "ipython",
    "version": 3
   },
   "file_extension": ".py",
   "mimetype": "text/x-python",
   "name": "python",
   "nbconvert_exporter": "python",
   "pygments_lexer": "ipython3",
   "version": "3.8.10"
  }
 },
 "nbformat": 4,
 "nbformat_minor": 5
}
